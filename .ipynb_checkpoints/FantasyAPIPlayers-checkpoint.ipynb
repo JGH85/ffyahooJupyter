{
 "cells": [
  {
   "cell_type": "code",
   "execution_count": null,
   "metadata": {},
   "outputs": [],
   "source": [
    "from yahoo_oauth import OAuth2\n",
    "import os\n",
    "import json\n",
    "import league, game, team\n",
    "import yhandler\n",
    "import json\n",
    "import objectpath\n",
    "import pandas as pd\n",
    "from pandas.io.json import json_normalize"
   ]
  },
  {
   "cell_type": "code",
   "execution_count": null,
   "metadata": {},
   "outputs": [],
   "source": [
    "# get our session context (\"sc\")\n",
    "oauth = OAuth2(None, None, from_file='oauth2.json')"
   ]
  },
  {
   "cell_type": "code",
   "execution_count": null,
   "metadata": {},
   "outputs": [],
   "source": [
    "# prepare functions\n",
    "def get_json_dump(url):\n",
    "    YAHOO_ENDPOINT = 'https://fantasysports.yahooapis.com/fantasy/v2'\n",
    "    response = oauth.session.get(\"{}/{}\".format(YAHOO_ENDPOINT, url),params={'format': 'json'})\n",
    "    jresp = response.json()\n",
    "    return json.dumps(jresp)\n",
    "def get_json(url):\n",
    "    YAHOO_ENDPOINT = 'https://fantasysports.yahooapis.com/fantasy/v2'\n",
    "    response = oauth.session.get(\"{}/{}\".format(YAHOO_ENDPOINT, url),params={'format': 'json'})\n",
    "    jresp = response.json()\n",
    "    return jresp\n",
    "def get_json_t(url):\n",
    "    YAHOO_ENDPOINT = 'https://fantasysports.yahooapis.com/fantasy/v2'\n",
    "    response = oauth.session.get(\"{}/{}\".format(YAHOO_ENDPOINT, url),params={'format': 'json'})\n",
    "    jresp = response.json()\n",
    "    t = objectpath.Tree(jresp)\n",
    "    return t"
   ]
  },
  {
   "cell_type": "code",
   "execution_count": null,
   "metadata": {},
   "outputs": [],
   "source": [
    "gm = game.Game(oauth, 'nfl')\n",
    "\n",
    "#use package to get league_id\n",
    "league_ids = gm.league_ids()\n",
    "print(league_ids)\n",
    "test_league_id = league_ids[2]\n",
    "print(test_league_id)\n",
    "\n",
    "# joesleagueid = '390.l.974698'\n",
    "\n",
    "\n"
   ]
  },
  {
   "cell_type": "code",
   "execution_count": null,
   "metadata": {},
   "outputs": [],
   "source": [
    "###Player RESOURCE\n",
    "# https://fantasysports.yahooapis.com/fantasy/v2/player/ \n",
    "\n",
    "#get a player by player key\n",
    "playersurl = \"league/390.l.974698/players;player_keys=390.p.5479\"\n",
    "player = get_json(playersurl)\n",
    "player"
   ]
  },
  {
   "cell_type": "code",
   "execution_count": null,
   "metadata": {},
   "outputs": [],
   "source": [
    "#get a player's stats'\n",
    "statsurl = \"league/390.l.974698/players;player_keys=390.p.5479/stats\"\n",
    "stats = get_json(statsurl)\n",
    "stats"
   ]
  },
  {
   "cell_type": "code",
   "execution_count": null,
   "metadata": {},
   "outputs": [],
   "source": [
    "# players COLLECTION\n",
    "qburl = \"league/390.l.974698/players;position=QB\"\n",
    "qbs = get_json_t(qburl)\n",
    "qbs"
   ]
  },
  {
   "cell_type": "code",
   "execution_count": null,
   "metadata": {},
   "outputs": [],
   "source": [
    "qbt = get_json_t(qburl)\n",
    "jfilter = qbt.execute('$..(player)')\n",
    "qbs = []\n",
    "for row in jfilter:\n",
    "#     print(row)\n",
    "#     print(\"-----------------------------------------\")\n",
    "#     print(\"---------------nextrow-------------------\")\n",
    "#     print(\"-----------------------------------------\")\n",
    "    qbs.append(row)\n",
    "qbs[0]\n"
   ]
  },
  {
   "cell_type": "code",
   "execution_count": null,
   "metadata": {},
   "outputs": [],
   "source": [
    "qbs[0]['player'][0]"
   ]
  },
  {
   "cell_type": "code",
   "execution_count": null,
   "metadata": {},
   "outputs": [],
   "source": [
    "# combine into one dictionary\n",
    "firstqb = qbs[0]['player'][0]\n",
    "onelist = [item for item in firstqb if item != []]\n",
    "onelist\n",
    "onetdict = {k: v for d in onelist for k, v in d.items()}\n",
    "onetdict"
   ]
  },
  {
   "cell_type": "code",
   "execution_count": null,
   "metadata": {},
   "outputs": [],
   "source": [
    "raw_qb_data = json_normalize(onetdict, sep=\"_\")\n",
    "raw_qb_data"
   ]
  },
  {
   "cell_type": "code",
   "execution_count": null,
   "metadata": {},
   "outputs": [],
   "source": [
    "all_qb_list = []\n",
    "allqbs = qbs\n",
    "allqbs"
   ]
  },
  {
   "cell_type": "code",
   "execution_count": null,
   "metadata": {},
   "outputs": [],
   "source": [
    "# for k, v in allqbs.items():\n",
    "#     if k != \"count\": #ignore count item which json adds as autosummary at the end\n",
    "#         qb = allqbs[k]['player'][0] #go down to individual player level in json\n",
    "#         qblist = [item for item in qb if item != []]     #remove all empty lists\n",
    "#         qbdict = { k : v[0] if type(v)==list else v  for d in qblist for k, v in d.items()} #convert all dictionaries into 1 dictionary using comprehension, if they contain a list only use first item from list\n",
    "#         print(qbdict)\n",
    "#         all_qb_list.append(qbdict)\n",
    "\n",
    "for item in allqbs:\n",
    "#     print(item)\n",
    "    qb = item['player'][0]\n",
    "    qblist = [item for item in qb if item != []]     #remove all empty lists\n",
    "    qbdict = { k : v[0] if type(v)==list else v  for d in qblist for k, v in d.items()} #convert all dictionaries into 1 dictionary using comprehension, if they contain a list only use first item from list\n",
    "#     print(qbdict)\n",
    "    all_qb_list.append(qbdict)\n",
    "print(all_qb_list)\n",
    "#     if k != \"count\": #ignore count item which json adds as autosummary at the end\n",
    "#         qb = allqbs[k]['player'][0] #go down to individual player level in json\n",
    "#         qblist = [item for item in qb if item != []]     #remove all empty lists\n",
    "#         qbdict = { k : v[0] if type(v)==list else v  for d in qblist for k, v in d.items()} #convert all dictionaries into 1 dictionary using comprehension, if they contain a list only use first item from list\n",
    "#         print(qbdict)\n",
    "#         all_qb_list.append(qbdict)"
   ]
  },
  {
   "cell_type": "code",
   "execution_count": null,
   "metadata": {},
   "outputs": [],
   "source": [
    "qbsdf = json_normalize(all_qb_list, sep=\"_\") #this only gets the sub rows?\n",
    "qbsdf"
   ]
  },
  {
   "cell_type": "code",
   "execution_count": 19,
   "metadata": {},
   "outputs": [
    {
     "data": {
      "text/plain": [
       "'{\"fantasy_content\": {\"xml:lang\": \"en-US\", \"yahoo:uri\": \"/fantasy/v2/league/390.l.974698/players\", \"league\": [{\"league_key\": \"390.l.974698\", \"league_id\": \"974698\", \"name\": \"MyTestLeague\", \"url\": \"https://football.fantasysports.yahoo.com/f1/974698\", \"logo_url\": false, \"draft_status\": \"postdraft\", \"num_teams\": 4, \"edit_key\": \"1\", \"weekly_deadline\": \"\", \"league_update_timestamp\": null, \"scoring_type\": \"head\", \"league_type\": \"private\", \"renew\": \"\", \"renewed\": \"\", \"iris_group_chat_id\": \"\", \"allow_add_to_dl_extra_pos\": 1, \"is_pro_league\": \"0\", \"is_cash_league\": \"0\", \"current_week\": \"1\", \"start_week\": \"1\", \"start_date\": \"2019-09-05\", \"end_week\": \"16\", \"end_date\": \"2019-12-23\", \"game_code\": \"nfl\", \"season\": \"2019\"}, {\"players\": {\"0\": {\"player\": [[{\"player_key\": \"390.p.3727\"}, {\"player_id\": \"3727\"}, {\"name\": {\"full\": \"Adam Vinatieri\", \"first\": \"Adam\", \"last\": \"Vinatieri\", \"ascii_first\": \"Adam\", \"ascii_last\": \"Vinatieri\"}}, {\"editorial_player_key\": \"nfl.p.3727\"}, {\"editorial_team_key\": \"nfl.t.11\"}, {\"editorial_team_full_name\": \"Indianapolis Colts\"}, {\"editorial_team_abbr\": \"Ind\"}, {\"bye_weeks\": {\"week\": \"6\"}}, {\"uniform_number\": \"4\"}, {\"display_position\": \"K\"}, {\"headshot\": {\"url\": \"https://s.yimg.com/iu/api/res/1.2/OpHvpCHjl_PQvkeQUgsjsA--~C/YXBwaWQ9eXNwb3J0cztjaD0yMzM2O2NyPTE7Y3c9MTc5MDtkeD04NTc7ZHk9MDtmaT11bGNyb3A7aD02MDtxPTEwMDt3PTQ2/https://s.yimg.com/xe/i/us/sp/v/nfl_cutout/players_l/08152019/3727.png\", \"size\": \"small\"}, \"image_url\": \"https://s.yimg.com/iu/api/res/1.2/OpHvpCHjl_PQvkeQUgsjsA--~C/YXBwaWQ9eXNwb3J0cztjaD0yMzM2O2NyPTE7Y3c9MTc5MDtkeD04NTc7ZHk9MDtmaT11bGNyb3A7aD02MDtxPTEwMDt3PTQ2/https://s.yimg.com/xe/i/us/sp/v/nfl_cutout/players_l/08152019/3727.png\"}, {\"is_undroppable\": \"0\"}, {\"position_type\": \"K\"}, {\"primary_position\": \"K\"}, {\"eligible_positions\": [{\"position\": \"K\"}]}, {\"has_player_notes\": 1}, [], {\"player_notes_last_timestamp\": 1566423120}]]}, \"1\": {\"player\": [[{\"player_key\": \"390.p.4269\"}, {\"player_id\": \"4269\"}, {\"name\": {\"full\": \"Phil Dawson\", \"first\": \"Phil\", \"last\": \"Dawson\", \"ascii_first\": \"Phil\", \"ascii_last\": \"Dawson\"}}, {\"status\": \"NA\", \"status_full\": \"Inactive: Coach\\'s Decision or Not on Roster\"}, {\"editorial_player_key\": \"nfl.p.4269\"}, {\"editorial_team_key\": \"nfl.t.5\"}, {\"editorial_team_full_name\": \"Cleveland Browns\"}, {\"editorial_team_abbr\": \"Cle\"}, {\"bye_weeks\": {\"week\": \"7\"}}, {\"uniform_number\": \"4\"}, {\"display_position\": \"K\"}, {\"headshot\": {\"url\": \"https://s.yimg.com/iu/api/res/1.2/z4ki.EZ6BaZpDw0ptfBNCw--~C/YXBwaWQ9eXNwb3J0cztjaD0yMzM2O2NyPTE7Y3c9MTc5MDtkeD04NTc7ZHk9MDtmaT11bGNyb3A7aD02MDtxPTEwMDt3PTQ2/https://s.yimg.com/xe/i/us/sp/v/nfl_cutout/players_l/09202018/4269.png\", \"size\": \"small\"}, \"image_url\": \"https://s.yimg.com/iu/api/res/1.2/z4ki.EZ6BaZpDw0ptfBNCw--~C/YXBwaWQ9eXNwb3J0cztjaD0yMzM2O2NyPTE7Y3c9MTc5MDtkeD04NTc7ZHk9MDtmaT11bGNyb3A7aD02MDtxPTEwMDt3PTQ2/https://s.yimg.com/xe/i/us/sp/v/nfl_cutout/players_l/09202018/4269.png\"}, {\"is_undroppable\": \"0\"}, {\"position_type\": \"K\"}, {\"primary_position\": \"K\"}, {\"eligible_positions\": [{\"position\": \"K\"}]}, [], [], []]]}, \"2\": {\"player\": [[{\"player_key\": \"390.p.5046\"}, {\"player_id\": \"5046\"}, {\"name\": {\"full\": \"Sebastian Janikowski\", \"first\": \"Sebastian\", \"last\": \"Janikowski\", \"ascii_first\": \"Sebastian\", \"ascii_last\": \"Janikowski\"}}, {\"status\": \"NA\", \"status_full\": \"Inactive: Coach\\'s Decision or Not on Roster\"}, {\"editorial_player_key\": \"nfl.p.5046\"}, {\"editorial_team_key\": \"nfl.t.26\"}, {\"editorial_team_full_name\": \"Seattle Seahawks\"}, {\"editorial_team_abbr\": \"Sea\"}, {\"bye_weeks\": {\"week\": \"11\"}}, {\"uniform_number\": \"11\"}, {\"display_position\": \"K\"}, {\"headshot\": {\"url\": \"https://s.yimg.com/iu/api/res/1.2/_FbxgaDsf1YAqzWqEdlUbA--~C/YXBwaWQ9eXNwb3J0cztjaD0yMzM2O2NyPTE7Y3c9MTc5MDtkeD04NTc7ZHk9MDtmaT11bGNyb3A7aD02MDtxPTEwMDt3PTQ2/https://s.yimg.com/xe/i/us/sp/v/nfl_cutout/players_l/08212018/5046.png\", \"size\": \"small\"}, \"image_url\": \"https://s.yimg.com/iu/api/res/1.2/_FbxgaDsf1YAqzWqEdlUbA--~C/YXBwaWQ9eXNwb3J0cztjaD0yMzM2O2NyPTE7Y3c9MTc5MDtkeD04NTc7ZHk9MDtmaT11bGNyb3A7aD02MDtxPTEwMDt3PTQ2/https://s.yimg.com/xe/i/us/sp/v/nfl_cutout/players_l/08212018/5046.png\"}, {\"is_undroppable\": \"0\"}, {\"position_type\": \"K\"}, {\"primary_position\": \"K\"}, {\"eligible_positions\": [{\"position\": \"K\"}]}, [], [], []]]}, \"3\": {\"player\": [[{\"player_key\": \"390.p.5228\"}, {\"player_id\": \"5228\"}, {\"name\": {\"full\": \"Tom Brady\", \"first\": \"Tom\", \"last\": \"Brady\", \"ascii_first\": \"Tom\", \"ascii_last\": \"Brady\"}}, {\"editorial_player_key\": \"nfl.p.5228\"}, {\"editorial_team_key\": \"nfl.t.17\"}, {\"editorial_team_full_name\": \"New England Patriots\"}, {\"editorial_team_abbr\": \"NE\"}, {\"bye_weeks\": {\"week\": \"10\"}}, {\"uniform_number\": \"12\"}, {\"display_position\": \"QB\"}, {\"headshot\": {\"url\": \"https://s.yimg.com/iu/api/res/1.2/_U9UJlrYMsJ22DpA..S3zg--~C/YXBwaWQ9eXNwb3J0cztjaD0yMzM2O2NyPTE7Y3c9MTc5MDtkeD04NTc7ZHk9MDtmaT11bGNyb3A7aD02MDtxPTEwMDt3PTQ2/https://s.yimg.com/xe/i/us/sp/v/nfl_cutout/players_l/08212019/5228.png\", \"size\": \"small\"}, \"image_url\": \"https://s.yimg.com/iu/api/res/1.2/_U9UJlrYMsJ22DpA..S3zg--~C/YXBwaWQ9eXNwb3J0cztjaD0yMzM2O2NyPTE7Y3c9MTc5MDtkeD04NTc7ZHk9MDtmaT11bGNyb3A7aD02MDtxPTEwMDt3PTQ2/https://s.yimg.com/xe/i/us/sp/v/nfl_cutout/players_l/08212019/5228.png\"}, {\"is_undroppable\": \"0\"}, {\"position_type\": \"O\"}, {\"primary_position\": \"QB\"}, {\"eligible_positions\": [{\"position\": \"QB\"}]}, {\"has_player_notes\": 1}, [], {\"player_notes_last_timestamp\": 1566520320}]]}, \"4\": {\"player\": [[{\"player_key\": \"390.p.5479\"}, {\"player_id\": \"5479\"}, {\"name\": {\"full\": \"Drew Brees\", \"first\": \"Drew\", \"last\": \"Brees\", \"ascii_first\": \"Drew\", \"ascii_last\": \"Brees\"}}, {\"editorial_player_key\": \"nfl.p.5479\"}, {\"editorial_team_key\": \"nfl.t.18\"}, {\"editorial_team_full_name\": \"New Orleans Saints\"}, {\"editorial_team_abbr\": \"NO\"}, {\"bye_weeks\": {\"week\": \"9\"}}, {\"uniform_number\": \"9\"}, {\"display_position\": \"QB\"}, {\"headshot\": {\"url\": \"https://s.yimg.com/iu/api/res/1.2/zTiXK2wkM2L6XqTUc3r79g--~C/YXBwaWQ9eXNwb3J0cztjaD0yMzM2O2NyPTE7Y3c9MTc5MDtkeD04NTc7ZHk9MDtmaT11bGNyb3A7aD02MDtxPTEwMDt3PTQ2/https://s.yimg.com/xe/i/us/sp/v/nfl_cutout/players_l/08212019/5479.png\", \"size\": \"small\"}, \"image_url\": \"https://s.yimg.com/iu/api/res/1.2/zTiXK2wkM2L6XqTUc3r79g--~C/YXBwaWQ9eXNwb3J0cztjaD0yMzM2O2NyPTE7Y3c9MTc5MDtkeD04NTc7ZHk9MDtmaT11bGNyb3A7aD02MDtxPTEwMDt3PTQ2/https://s.yimg.com/xe/i/us/sp/v/nfl_cutout/players_l/08212019/5479.png\"}, {\"is_undroppable\": \"0\"}, {\"position_type\": \"O\"}, {\"primary_position\": \"QB\"}, {\"eligible_positions\": [{\"position\": \"QB\"}]}, {\"has_player_notes\": 1}, [], {\"player_notes_last_timestamp\": 1566694380}]]}, \"5\": {\"player\": [[{\"player_key\": \"390.p.5967\"}, {\"player_id\": \"5967\"}, {\"name\": {\"full\": \"Josh McCown\", \"first\": \"Josh\", \"last\": \"McCown\", \"ascii_first\": \"Josh\", \"ascii_last\": \"McCown\"}}, {\"editorial_player_key\": \"nfl.p.5967\"}, {\"editorial_team_key\": \"nfl.t.21\"}, {\"editorial_team_full_name\": \"Philadelphia Eagles\"}, {\"editorial_team_abbr\": \"Phi\"}, {\"bye_weeks\": {\"week\": \"10\"}}, {\"uniform_number\": \"18\"}, {\"display_position\": \"QB\"}, {\"headshot\": {\"url\": \"https://s.yimg.com/iu/api/res/1.2/Xx_fxTPI_OWxuNOCrMRMmA--~C/YXBwaWQ9eXNwb3J0cztjaD0yMzM2O2NyPTE7Y3c9MTc5MDtkeD04NTc7ZHk9MDtmaT11bGNyb3A7aD02MDtxPTEwMDt3PTQ2/https://s.yimg.com/xe/i/us/sp/v/nfl_cutout/players_l/08272018/5967.png\", \"size\": \"small\"}, \"image_url\": \"https://s.yimg.com/iu/api/res/1.2/Xx_fxTPI_OWxuNOCrMRMmA--~C/YXBwaWQ9eXNwb3J0cztjaD0yMzM2O2NyPTE7Y3c9MTc5MDtkeD04NTc7ZHk9MDtmaT11bGNyb3A7aD02MDtxPTEwMDt3PTQ2/https://s.yimg.com/xe/i/us/sp/v/nfl_cutout/players_l/08272018/5967.png\"}, {\"is_undroppable\": \"0\"}, {\"position_type\": \"O\"}, {\"primary_position\": \"QB\"}, {\"eligible_positions\": [{\"position\": \"QB\"}]}, [], [], []]]}, \"6\": {\"player\": [[{\"player_key\": \"390.p.6243\"}, {\"player_id\": \"6243\"}, {\"name\": {\"full\": \"Matt Bryant\", \"first\": \"Matt\", \"last\": \"Bryant\", \"ascii_first\": \"Matt\", \"ascii_last\": \"Bryant\"}}, {\"status\": \"NA\", \"status_full\": \"Inactive: Coach\\'s Decision or Not on Roster\"}, {\"editorial_player_key\": \"nfl.p.6243\"}, {\"editorial_team_key\": \"nfl.t.1\"}, {\"editorial_team_full_name\": \"Atlanta Falcons\"}, {\"editorial_team_abbr\": \"Atl\"}, {\"bye_weeks\": {\"week\": \"9\"}}, {\"uniform_number\": \"3\"}, {\"display_position\": \"K\"}, {\"headshot\": {\"url\": \"https://s.yimg.com/iu/api/res/1.2/xO7MQb_zF5jKFgmgepf5tw--~C/YXBwaWQ9eXNwb3J0cztjaD0yMzM2O2NyPTE7Y3c9MTc5MDtkeD04NTc7ZHk9MDtmaT11bGNyb3A7aD02MDtxPTEwMDt3PTQ2/https://s.yimg.com/xe/i/us/sp/v/nfl_cutout/players_l/08222018/6243.png\", \"size\": \"small\"}, \"image_url\": \"https://s.yimg.com/iu/api/res/1.2/xO7MQb_zF5jKFgmgepf5tw--~C/YXBwaWQ9eXNwb3J0cztjaD0yMzM2O2NyPTE7Y3c9MTc5MDtkeD04NTc7ZHk9MDtmaT11bGNyb3A7aD02MDtxPTEwMDt3PTQ2/https://s.yimg.com/xe/i/us/sp/v/nfl_cutout/players_l/08222018/6243.png\"}, {\"is_undroppable\": \"0\"}, {\"position_type\": \"K\"}, {\"primary_position\": \"K\"}, {\"eligible_positions\": [{\"position\": \"K\"}]}, [], [], []]]}, \"7\": {\"player\": [[{\"player_key\": \"390.p.6405\"}, {\"player_id\": \"6405\"}, {\"name\": {\"full\": \"Jason Witten\", \"first\": \"Jason\", \"last\": \"Witten\", \"ascii_first\": \"Jason\", \"ascii_last\": \"Witten\"}}, {\"editorial_player_key\": \"nfl.p.6405\"}, {\"editorial_team_key\": \"nfl.t.6\"}, {\"editorial_team_full_name\": \"Dallas Cowboys\"}, {\"editorial_team_abbr\": \"Dal\"}, {\"bye_weeks\": {\"week\": \"8\"}}, {\"uniform_number\": \"82\"}, {\"display_position\": \"TE\"}, {\"headshot\": {\"url\": \"https://s.yimg.com/iu/api/res/1.2/4pIdjcyZ8fUSJ04uwFgPqQ--~C/YXBwaWQ9eXNwb3J0cztjaD0yMzM2O2NyPTE7Y3c9MTc5MDtkeD04NTc7ZHk9MDtmaT11bGNyb3A7aD02MDtxPTEwMDt3PTQ2/https://s.yimg.com/xe/i/us/sp/v/nfl_cutout/players_l/08092019/6405.png\", \"size\": \"small\"}, \"image_url\": \"https://s.yimg.com/iu/api/res/1.2/4pIdjcyZ8fUSJ04uwFgPqQ--~C/YXBwaWQ9eXNwb3J0cztjaD0yMzM2O2NyPTE7Y3c9MTc5MDtkeD04NTc7ZHk9MDtmaT11bGNyb3A7aD02MDtxPTEwMDt3PTQ2/https://s.yimg.com/xe/i/us/sp/v/nfl_cutout/players_l/08092019/6405.png\"}, {\"is_undroppable\": \"0\"}, {\"position_type\": \"O\"}, {\"primary_position\": \"TE\"}, {\"eligible_positions\": [{\"position\": \"TE\"}, {\"position\": \"W/R/T\"}]}, [], [], []]]}, \"8\": {\"player\": [[{\"player_key\": \"390.p.6663\"}, {\"player_id\": \"6663\"}, {\"name\": {\"full\": \"Antonio Gates\", \"first\": \"Antonio\", \"last\": \"Gates\", \"ascii_first\": \"Antonio\", \"ascii_last\": \"Gates\"}}, {\"status\": \"NA\", \"status_full\": \"Inactive: Coach\\'s Decision or Not on Roster\"}, {\"editorial_player_key\": \"nfl.p.6663\"}, {\"editorial_team_key\": \"nfl.t.24\"}, {\"editorial_team_full_name\": \"Los Angeles Chargers\"}, {\"editorial_team_abbr\": \"LAC\"}, {\"bye_weeks\": {\"week\": \"12\"}}, {\"uniform_number\": \"85\"}, {\"display_position\": \"TE\"}, {\"headshot\": {\"url\": \"https://s.yimg.com/iu/api/res/1.2/v1NgjvRsbRI2taocVY5Ajg--~C/YXBwaWQ9eXNwb3J0cztjaD0yMzM2O2NyPTE7Y3c9MTc5MDtkeD04NTc7ZHk9MDtmaT11bGNyb3A7aD02MDtxPTEwMDt3PTQ2/https://s.yimg.com/xe/i/us/sp/v/nfl_cutout/players_l/09092017/6663.png\", \"size\": \"small\"}, \"image_url\": \"https://s.yimg.com/iu/api/res/1.2/v1NgjvRsbRI2taocVY5Ajg--~C/YXBwaWQ9eXNwb3J0cztjaD0yMzM2O2NyPTE7Y3c9MTc5MDtkeD04NTc7ZHk9MDtmaT11bGNyb3A7aD02MDtxPTEwMDt3PTQ2/https://s.yimg.com/xe/i/us/sp/v/nfl_cutout/players_l/09092017/6663.png\"}, {\"is_undroppable\": \"0\"}, {\"position_type\": \"O\"}, {\"primary_position\": \"TE\"}, {\"eligible_positions\": [{\"position\": \"TE\"}, {\"position\": \"W/R/T\"}]}, [], [], []]]}, \"9\": {\"player\": [[{\"player_key\": \"390.p.6760\"}, {\"player_id\": \"6760\"}, {\"name\": {\"full\": \"Eli Manning\", \"first\": \"Eli\", \"last\": \"Manning\", \"ascii_first\": \"Eli\", \"ascii_last\": \"Manning\"}}, {\"editorial_player_key\": \"nfl.p.6760\"}, {\"editorial_team_key\": \"nfl.t.19\"}, {\"editorial_team_full_name\": \"New York Giants\"}, {\"editorial_team_abbr\": \"NYG\"}, {\"bye_weeks\": {\"week\": \"11\"}}, {\"uniform_number\": \"10\"}, {\"display_position\": \"QB\"}, {\"headshot\": {\"url\": \"https://s.yimg.com/iu/api/res/1.2/u7VFFiHOaJ_TXf4yrIlkqg--~C/YXBwaWQ9eXNwb3J0cztjaD0yMzM2O2NyPTE7Y3c9MTc5MDtkeD04NTc7ZHk9MDtmaT11bGNyb3A7aD02MDtxPTEwMDt3PTQ2/https://s.yimg.com/xe/i/us/sp/v/nfl_cutout/players_l/08222019/6760.png\", \"size\": \"small\"}, \"image_url\": \"https://s.yimg.com/iu/api/res/1.2/u7VFFiHOaJ_TXf4yrIlkqg--~C/YXBwaWQ9eXNwb3J0cztjaD0yMzM2O2NyPTE7Y3c9MTc5MDtkeD04NTc7ZHk9MDtmaT11bGNyb3A7aD02MDtxPTEwMDt3PTQ2/https://s.yimg.com/xe/i/us/sp/v/nfl_cutout/players_l/08222019/6760.png\"}, {\"is_undroppable\": \"0\"}, {\"position_type\": \"O\"}, {\"primary_position\": \"QB\"}, {\"eligible_positions\": [{\"position\": \"QB\"}]}, {\"has_player_notes\": 1}, [], {\"player_notes_last_timestamp\": 1566517080}]]}, \"10\": {\"player\": [[{\"player_key\": \"390.p.6762\"}, {\"player_id\": \"6762\"}, {\"name\": {\"full\": \"Larry Fitzgerald\", \"first\": \"Larry\", \"last\": \"Fitzgerald\", \"ascii_first\": \"Larry\", \"ascii_last\": \"Fitzgerald\"}}, {\"editorial_player_key\": \"nfl.p.6762\"}, {\"editorial_team_key\": \"nfl.t.22\"}, {\"editorial_team_full_name\": \"Arizona Cardinals\"}, {\"editorial_team_abbr\": \"Ari\"}, {\"bye_weeks\": {\"week\": \"12\"}}, {\"uniform_number\": \"11\"}, {\"display_position\": \"WR\"}, {\"headshot\": {\"url\": \"https://s.yimg.com/iu/api/res/1.2/wYj4Q1QcgD13U3sUYuy29A--~C/YXBwaWQ9eXNwb3J0cztjaD0yMzM2O2NyPTE7Y3c9MTc5MDtkeD04NTc7ZHk9MDtmaT11bGNyb3A7aD02MDtxPTEwMDt3PTQ2/https://s.yimg.com/xe/i/us/sp/v/nfl_cutout/players_l/08212019/6762.png\", \"size\": \"small\"}, \"image_url\": \"https://s.yimg.com/iu/api/res/1.2/wYj4Q1QcgD13U3sUYuy29A--~C/YXBwaWQ9eXNwb3J0cztjaD0yMzM2O2NyPTE7Y3c9MTc5MDtkeD04NTc7ZHk9MDtmaT11bGNyb3A7aD02MDtxPTEwMDt3PTQ2/https://s.yimg.com/xe/i/us/sp/v/nfl_cutout/players_l/08212019/6762.png\"}, {\"is_undroppable\": \"0\"}, {\"position_type\": \"O\"}, {\"primary_position\": \"WR\"}, {\"eligible_positions\": [{\"position\": \"WR\"}, {\"position\": \"W/R/T\"}]}, {\"has_player_notes\": 1}, [], {\"player_notes_last_timestamp\": 1566672840}]]}, \"11\": {\"player\": [[{\"player_key\": \"390.p.6763\"}, {\"player_id\": \"6763\"}, {\"name\": {\"full\": \"Philip Rivers\", \"first\": \"Philip\", \"last\": \"Rivers\", \"ascii_first\": \"Philip\", \"ascii_last\": \"Rivers\"}}, {\"editorial_player_key\": \"nfl.p.6763\"}, {\"editorial_team_key\": \"nfl.t.24\"}, {\"editorial_team_full_name\": \"Los Angeles Chargers\"}, {\"editorial_team_abbr\": \"LAC\"}, {\"bye_weeks\": {\"week\": \"12\"}}, {\"uniform_number\": \"17\"}, {\"display_position\": \"QB\"}, {\"headshot\": {\"url\": \"https://s.yimg.com/iu/api/res/1.2/s2AJJy_ocpr928tM7MgZqA--~C/YXBwaWQ9eXNwb3J0cztjaD0yMzM2O2NyPTE7Y3c9MTc5MDtkeD04NTc7ZHk9MDtmaT11bGNyb3A7aD02MDtxPTEwMDt3PTQ2/https://s.yimg.com/xe/i/us/sp/v/nfl_cutout/players_l/08152019/6763.png\", \"size\": \"small\"}, \"image_url\": \"https://s.yimg.com/iu/api/res/1.2/s2AJJy_ocpr928tM7MgZqA--~C/YXBwaWQ9eXNwb3J0cztjaD0yMzM2O2NyPTE7Y3c9MTc5MDtkeD04NTc7ZHk9MDtmaT11bGNyb3A7aD02MDtxPTEwMDt3PTQ2/https://s.yimg.com/xe/i/us/sp/v/nfl_cutout/players_l/08152019/6763.png\"}, {\"is_undroppable\": \"0\"}, {\"position_type\": \"O\"}, {\"primary_position\": \"QB\"}, {\"eligible_positions\": [{\"position\": \"QB\"}]}, [], [], []]]}, \"12\": {\"player\": [[{\"player_key\": \"390.p.6770\"}, {\"player_id\": \"6770\"}, {\"name\": {\"full\": \"Ben Roethlisberger\", \"first\": \"Ben\", \"last\": \"Roethlisberger\", \"ascii_first\": \"Ben\", \"ascii_last\": \"Roethlisberger\"}}, {\"editorial_player_key\": \"nfl.p.6770\"}, {\"editorial_team_key\": \"nfl.t.23\"}, {\"editorial_team_full_name\": \"Pittsburgh Steelers\"}, {\"editorial_team_abbr\": \"Pit\"}, {\"bye_weeks\": {\"week\": \"7\"}}, {\"uniform_number\": \"7\"}, {\"display_position\": \"QB\"}, {\"headshot\": {\"url\": \"https://s.yimg.com/iu/api/res/1.2/ADFKHUeZIItAxDM63DY.fQ--~C/YXBwaWQ9eXNwb3J0cztjaD0yMzM2O2NyPTE7Y3c9MTc5MDtkeD04NTc7ZHk9MDtmaT11bGNyb3A7aD02MDtxPTEwMDt3PTQ2/https://s.yimg.com/xe/i/us/sp/v/nfl_cutout/players_l/08222019/6770.png\", \"size\": \"small\"}, \"image_url\": \"https://s.yimg.com/iu/api/res/1.2/ADFKHUeZIItAxDM63DY.fQ--~C/YXBwaWQ9eXNwb3J0cztjaD0yMzM2O2NyPTE7Y3c9MTc5MDtkeD04NTc7ZHk9MDtmaT11bGNyb3A7aD02MDtxPTEwMDt3PTQ2/https://s.yimg.com/xe/i/us/sp/v/nfl_cutout/players_l/08222019/6770.png\"}, {\"is_undroppable\": \"0\"}, {\"position_type\": \"O\"}, {\"primary_position\": \"QB\"}, {\"eligible_positions\": [{\"position\": \"QB\"}]}, {\"has_player_notes\": 1}, [], {\"player_notes_last_timestamp\": 1566780660}]]}, \"13\": {\"player\": [[{\"player_key\": \"390.p.6791\"}, {\"player_id\": \"6791\"}, {\"name\": {\"full\": \"Ben Watson\", \"first\": \"Ben\", \"last\": \"Watson\", \"ascii_first\": \"Ben\", \"ascii_last\": \"Watson\"}}, {\"status\": \"SUSP\", \"status_full\": \"Suspended\"}, {\"editorial_player_key\": \"nfl.p.6791\"}, {\"editorial_team_key\": \"nfl.t.17\"}, {\"editorial_team_full_name\": \"New England Patriots\"}, {\"editorial_team_abbr\": \"NE\"}, {\"bye_weeks\": {\"week\": \"10\"}}, {\"uniform_number\": \"84\"}, {\"display_position\": \"TE\"}, {\"headshot\": {\"url\": \"https://s.yimg.com/iu/api/res/1.2/TX3yf.864AZxdcH.MIMp.Q--~C/YXBwaWQ9eXNwb3J0cztjaD0yMzM2O2NyPTE7Y3c9MTc5MDtkeD04NTc7ZHk9MDtmaT11bGNyb3A7aD02MDtxPTEwMDt3PTQ2/https://s.yimg.com/xe/i/us/sp/v/nfl_cutout/players_l/08042019/6791.png\", \"size\": \"small\"}, \"image_url\": \"https://s.yimg.com/iu/api/res/1.2/TX3yf.864AZxdcH.MIMp.Q--~C/YXBwaWQ9eXNwb3J0cztjaD0yMzM2O2NyPTE7Y3c9MTc5MDtkeD04NTc7ZHk9MDtmaT11bGNyb3A7aD02MDtxPTEwMDt3PTQ2/https://s.yimg.com/xe/i/us/sp/v/nfl_cutout/players_l/08042019/6791.png\"}, {\"is_undroppable\": \"0\"}, {\"position_type\": \"O\"}, {\"primary_position\": \"TE\"}, {\"eligible_positions\": [{\"position\": \"TE\"}, {\"position\": \"W/R/T\"}]}, {\"has_player_notes\": 1}, [], {\"player_notes_last_timestamp\": 1566567180}]]}, \"14\": {\"player\": [[{\"player_key\": \"390.p.6849\"}, {\"player_id\": \"6849\"}, {\"name\": {\"full\": \"Matt Schaub\", \"first\": \"Matt\", \"last\": \"Schaub\", \"ascii_first\": \"Matt\", \"ascii_last\": \"Schaub\"}}, {\"editorial_player_key\": \"nfl.p.6849\"}, {\"editorial_team_key\": \"nfl.t.1\"}, {\"editorial_team_full_name\": \"Atlanta Falcons\"}, {\"editorial_team_abbr\": \"Atl\"}, {\"bye_weeks\": {\"week\": \"9\"}}, {\"uniform_number\": \"8\"}, {\"display_position\": \"QB\"}, {\"headshot\": {\"url\": \"https://s.yimg.com/iu/api/res/1.2/YRjrZz0EpUoiz6Pw7gZIAQ--~C/YXBwaWQ9eXNwb3J0cztjaD0yMzM2O2NyPTE7Y3c9MTc5MDtkeD04NTc7ZHk9MDtmaT11bGNyb3A7aD02MDtxPTEwMDt3PTQ2/https://s.yimg.com/xe/i/us/sp/v/nfl_cutout/players_l/08192019/6849.png\", \"size\": \"small\"}, \"image_url\": \"https://s.yimg.com/iu/api/res/1.2/YRjrZz0EpUoiz6Pw7gZIAQ--~C/YXBwaWQ9eXNwb3J0cztjaD0yMzM2O2NyPTE7Y3c9MTc5MDtkeD04NTc7ZHk9MDtmaT11bGNyb3A7aD02MDtxPTEwMDt3PTQ2/https://s.yimg.com/xe/i/us/sp/v/nfl_cutout/players_l/08192019/6849.png\"}, {\"is_undroppable\": \"0\"}, {\"position_type\": \"O\"}, {\"primary_position\": \"QB\"}, {\"eligible_positions\": [{\"position\": \"QB\"}]}, [], [], []]]}, \"15\": {\"player\": [[{\"player_key\": \"390.p.7177\"}, {\"player_id\": \"7177\"}, {\"name\": {\"full\": \"Alex Smith\", \"first\": \"Alex\", \"last\": \"Smith\", \"ascii_first\": \"Alex\", \"ascii_last\": \"Smith\"}}, {\"status\": \"PUP-P\", \"status_full\": \"Physically Unable to Perform (Preseason)\"}, {\"editorial_player_key\": \"nfl.p.7177\"}, {\"editorial_team_key\": \"nfl.t.28\"}, {\"editorial_team_full_name\": \"Washington Redskins\"}, {\"editorial_team_abbr\": \"Was\"}, {\"bye_weeks\": {\"week\": \"10\"}}, {\"uniform_number\": \"11\"}, {\"display_position\": \"QB\"}, {\"headshot\": {\"url\": \"https://s.yimg.com/iu/api/res/1.2/3NiBs.S6BFVbVf5UlN_SPQ--~C/YXBwaWQ9eXNwb3J0cztjaD0yMzM2O2NyPTE7Y3c9MTc5MDtkeD04NTc7ZHk9MDtmaT11bGNyb3A7aD02MDtxPTEwMDt3PTQ2/https://s.yimg.com/xe/i/us/sp/v/nfl_cutout/players_l/08022019/7177.png\", \"size\": \"small\"}, \"image_url\": \"https://s.yimg.com/iu/api/res/1.2/3NiBs.S6BFVbVf5UlN_SPQ--~C/YXBwaWQ9eXNwb3J0cztjaD0yMzM2O2NyPTE7Y3c9MTc5MDtkeD04NTc7ZHk9MDtmaT11bGNyb3A7aD02MDtxPTEwMDt3PTQ2/https://s.yimg.com/xe/i/us/sp/v/nfl_cutout/players_l/08022019/7177.png\"}, {\"is_undroppable\": \"0\"}, {\"position_type\": \"O\"}, {\"primary_position\": \"QB\"}, {\"eligible_positions\": [{\"position\": \"QB\"}, {\"position\": \"IR\"}]}, [], [], []]]}, \"16\": {\"player\": [[{\"player_key\": \"390.p.7200\"}, {\"player_id\": \"7200\"}, {\"name\": {\"full\": \"Aaron Rodgers\", \"first\": \"Aaron\", \"last\": \"Rodgers\", \"ascii_first\": \"Aaron\", \"ascii_last\": \"Rodgers\"}}, {\"editorial_player_key\": \"nfl.p.7200\"}, {\"editorial_team_key\": \"nfl.t.9\"}, {\"editorial_team_full_name\": \"Green Bay Packers\"}, {\"editorial_team_abbr\": \"GB\"}, {\"bye_weeks\": {\"week\": \"11\"}}, {\"uniform_number\": \"12\"}, {\"display_position\": \"QB\"}, {\"headshot\": {\"url\": \"https://s.yimg.com/iu/api/res/1.2/Xdm96BfVJw4WV_W7GA7xLw--~C/YXBwaWQ9eXNwb3J0cztjaD0yMzM2O2NyPTE7Y3c9MTc5MDtkeD04NTc7ZHk9MDtmaT11bGNyb3A7aD02MDtxPTEwMDt3PTQ2/https://s.yimg.com/xe/i/us/sp/v/nfl_cutout/players_l/08202019/7200.2.png\", \"size\": \"small\"}, \"image_url\": \"https://s.yimg.com/iu/api/res/1.2/Xdm96BfVJw4WV_W7GA7xLw--~C/YXBwaWQ9eXNwb3J0cztjaD0yMzM2O2NyPTE7Y3c9MTc5MDtkeD04NTc7ZHk9MDtmaT11bGNyb3A7aD02MDtxPTEwMDt3PTQ2/https://s.yimg.com/xe/i/us/sp/v/nfl_cutout/players_l/08202019/7200.2.png\"}, {\"is_undroppable\": \"0\"}, {\"position_type\": \"O\"}, {\"primary_position\": \"QB\"}, {\"eligible_positions\": [{\"position\": \"QB\"}]}, [], [], []]]}, \"17\": {\"player\": [[{\"player_key\": \"390.p.7223\"}, {\"player_id\": \"7223\"}, {\"name\": {\"full\": \"Mike Nugent\", \"first\": \"Mike\", \"last\": \"Nugent\", \"ascii_first\": \"Mike\", \"ascii_last\": \"Nugent\"}}, {\"status\": \"NA\", \"status_full\": \"Inactive: Coach\\'s Decision or Not on Roster\"}, {\"editorial_player_key\": \"nfl.p.7223\"}, {\"editorial_team_key\": \"nfl.t.13\"}, {\"editorial_team_full_name\": \"Oakland Raiders\"}, {\"editorial_team_abbr\": \"Oak\"}, {\"bye_weeks\": {\"week\": \"6\"}}, {\"uniform_number\": \"6\"}, {\"display_position\": \"K\"}, {\"headshot\": {\"url\": \"https://s.yimg.com/iu/api/res/1.2/38W3XLMb.n09pkfFBPb3SQ--~C/YXBwaWQ9eXNwb3J0cztjaD0yMzM2O2NyPTE7Y3c9MTc5MDtkeD04NTc7ZHk9MDtmaT11bGNyb3A7aD02MDtxPTEwMDt3PTQ2/https://s.yimg.com/xe/i/us/sp/v/nfl_cutout/players_l/20160906/7223.1.png\", \"size\": \"small\"}, \"image_url\": \"https://s.yimg.com/iu/api/res/1.2/38W3XLMb.n09pkfFBPb3SQ--~C/YXBwaWQ9eXNwb3J0cztjaD0yMzM2O2NyPTE7Y3c9MTc5MDtkeD04NTc7ZHk9MDtmaT11bGNyb3A7aD02MDtxPTEwMDt3PTQ2/https://s.yimg.com/xe/i/us/sp/v/nfl_cutout/players_l/20160906/7223.1.png\"}, {\"is_undroppable\": \"0\"}, {\"position_type\": \"K\"}, {\"primary_position\": \"K\"}, {\"eligible_positions\": [{\"position\": \"K\"}]}, [], [], []]]}, \"18\": {\"player\": [[{\"player_key\": \"390.p.7241\"}, {\"player_id\": \"7241\"}, {\"name\": {\"full\": \"Frank Gore\", \"first\": \"Frank\", \"last\": \"Gore\", \"ascii_first\": \"Frank\", \"ascii_last\": \"Gore\"}}, {\"editorial_player_key\": \"nfl.p.7241\"}, {\"editorial_team_key\": \"nfl.t.2\"}, {\"editorial_team_full_name\": \"Buffalo Bills\"}, {\"editorial_team_abbr\": \"Buf\"}, {\"bye_weeks\": {\"week\": \"6\"}}, {\"uniform_number\": \"20\"}, {\"display_position\": \"RB\"}, {\"headshot\": {\"url\": \"https://s.yimg.com/iu/api/res/1.2/knqn5fO0.IcCQ5ohm_PavA--~C/YXBwaWQ9eXNwb3J0cztjaD0yMzM2O2NyPTE7Y3c9MTc5MDtkeD04NTc7ZHk9MDtmaT11bGNyb3A7aD02MDtxPTEwMDt3PTQ2/https://s.yimg.com/xe/i/us/sp/v/nfl_cutout/players_l/08202019/7241.1.png\", \"size\": \"small\"}, \"image_url\": \"https://s.yimg.com/iu/api/res/1.2/knqn5fO0.IcCQ5ohm_PavA--~C/YXBwaWQ9eXNwb3J0cztjaD0yMzM2O2NyPTE7Y3c9MTc5MDtkeD04NTc7ZHk9MDtmaT11bGNyb3A7aD02MDtxPTEwMDt3PTQ2/https://s.yimg.com/xe/i/us/sp/v/nfl_cutout/players_l/08202019/7241.1.png\"}, {\"is_undroppable\": \"0\"}, {\"position_type\": \"O\"}, {\"primary_position\": \"RB\"}, {\"eligible_positions\": [{\"position\": \"RB\"}, {\"position\": \"W/R/T\"}]}, {\"has_player_notes\": 1}, [], {\"player_notes_last_timestamp\": 1566613800}]]}, \"19\": {\"player\": [[{\"player_key\": \"390.p.7306\"}, {\"player_id\": \"7306\"}, {\"name\": {\"full\": \"Darren Sproles\", \"first\": \"Darren\", \"last\": \"Sproles\", \"ascii_first\": \"Darren\", \"ascii_last\": \"Sproles\"}}, {\"editorial_player_key\": \"nfl.p.7306\"}, {\"editorial_team_key\": \"nfl.t.21\"}, {\"editorial_team_full_name\": \"Philadelphia Eagles\"}, {\"editorial_team_abbr\": \"Phi\"}, {\"bye_weeks\": {\"week\": \"10\"}}, {\"uniform_number\": \"43\"}, {\"display_position\": \"RB\"}, {\"headshot\": {\"url\": \"https://s.yimg.com/iu/api/res/1.2/7VChTTmxJUMjWmpVYbJo9Q--~C/YXBwaWQ9eXNwb3J0cztjaD0yMzM2O2NyPTE7Y3c9MTc5MDtkeD04NTc7ZHk9MDtmaT11bGNyb3A7aD02MDtxPTEwMDt3PTQ2/https://s.yimg.com/xe/i/us/sp/v/nfl_cutout/players_l/08242017/7306.png\", \"size\": \"small\"}, \"image_url\": \"https://s.yimg.com/iu/api/res/1.2/7VChTTmxJUMjWmpVYbJo9Q--~C/YXBwaWQ9eXNwb3J0cztjaD0yMzM2O2NyPTE7Y3c9MTc5MDtkeD04NTc7ZHk9MDtmaT11bGNyb3A7aD02MDtxPTEwMDt3PTQ2/https://s.yimg.com/xe/i/us/sp/v/nfl_cutout/players_l/08242017/7306.png\"}, {\"is_undroppable\": \"0\"}, {\"position_type\": \"O\"}, {\"primary_position\": \"RB\"}, {\"eligible_positions\": [{\"position\": \"RB\"}, {\"position\": \"W/R/T\"}]}, [], [], []]]}, \"20\": {\"player\": [[{\"player_key\": \"390.p.7389\"}, {\"player_id\": \"7389\"}, {\"name\": {\"full\": \"Derek Anderson\", \"first\": \"Derek\", \"last\": \"Anderson\", \"ascii_first\": \"Derek\", \"ascii_last\": \"Anderson\"}}, {\"status\": \"NA\", \"status_full\": \"Inactive: Coach\\'s Decision or Not on Roster\"}, {\"editorial_player_key\": \"nfl.p.7389\"}, {\"editorial_team_key\": \"nfl.t.2\"}, {\"editorial_team_full_name\": \"Buffalo Bills\"}, {\"editorial_team_abbr\": \"Buf\"}, {\"bye_weeks\": {\"week\": \"6\"}}, {\"uniform_number\": \"3\"}, {\"display_position\": \"QB\"}, {\"headshot\": {\"url\": \"https://s.yimg.com/iu/api/res/1.2/v.LYg5Bf9qS65eLRBjvkTw--~C/YXBwaWQ9eXNwb3J0cztjaD0yMzM2O2NyPTE7Y3c9MTc5MDtkeD04NTc7ZHk9MDtmaT11bGNyb3A7aD02MDtxPTEwMDt3PTQ2/https://s.yimg.com/xe/i/us/sp/v/nfl_cutout/players_l/08222017/7389.png\", \"size\": \"small\"}, \"image_url\": \"https://s.yimg.com/iu/api/res/1.2/v.LYg5Bf9qS65eLRBjvkTw--~C/YXBwaWQ9eXNwb3J0cztjaD0yMzM2O2NyPTE7Y3c9MTc5MDtkeD04NTc7ZHk9MDtmaT11bGNyb3A7aD02MDtxPTEwMDt3PTQ2/https://s.yimg.com/xe/i/us/sp/v/nfl_cutout/players_l/08222017/7389.png\"}, {\"is_undroppable\": \"0\"}, {\"position_type\": \"O\"}, {\"primary_position\": \"QB\"}, {\"eligible_positions\": [{\"position\": \"QB\"}]}, [], [], []]]}, \"21\": {\"player\": [[{\"player_key\": \"390.p.7406\"}, {\"player_id\": \"7406\"}, {\"name\": {\"full\": \"Matt Cassel\", \"first\": \"Matt\", \"last\": \"Cassel\", \"ascii_first\": \"Matt\", \"ascii_last\": \"Cassel\"}}, {\"status\": \"NA\", \"status_full\": \"Inactive: Coach\\'s Decision or Not on Roster\"}, {\"editorial_player_key\": \"nfl.p.7406\"}, {\"editorial_team_key\": \"nfl.t.8\"}, {\"editorial_team_full_name\": \"Detroit Lions\"}, {\"editorial_team_abbr\": \"Det\"}, {\"bye_weeks\": {\"week\": \"5\"}}, {\"uniform_number\": \"8\"}, {\"display_position\": \"QB\"}, {\"headshot\": {\"url\": \"https://s.yimg.com/iu/api/res/1.2/phim9Ur1nwlYorYKmm0a3g--~C/YXBwaWQ9eXNwb3J0cztjaD0yMzM2O2NyPTE7Y3c9MTc5MDtkeD04NTc7ZHk9MDtmaT11bGNyb3A7aD02MDtxPTEwMDt3PTQ2/https://s.yimg.com/xe/i/us/sp/v/nfl_cutout/players_l/08272018/7406.png\", \"size\": \"small\"}, \"image_url\": \"https://s.yimg.com/iu/api/res/1.2/phim9Ur1nwlYorYKmm0a3g--~C/YXBwaWQ9eXNwb3J0cztjaD0yMzM2O2NyPTE7Y3c9MTc5MDtkeD04NTc7ZHk9MDtmaT11bGNyb3A7aD02MDtxPTEwMDt3PTQ2/https://s.yimg.com/xe/i/us/sp/v/nfl_cutout/players_l/08272018/7406.png\"}, {\"is_undroppable\": \"0\"}, {\"position_type\": \"O\"}, {\"primary_position\": \"QB\"}, {\"eligible_positions\": [{\"position\": \"QB\"}]}, [], [], []]]}, \"22\": {\"player\": [[{\"player_key\": \"390.p.7426\"}, {\"player_id\": \"7426\"}, {\"name\": {\"full\": \"Ryan Fitzpatrick\", \"first\": \"Ryan\", \"last\": \"Fitzpatrick\", \"ascii_first\": \"Ryan\", \"ascii_last\": \"Fitzpatrick\"}}, {\"editorial_player_key\": \"nfl.p.7426\"}, {\"editorial_team_key\": \"nfl.t.15\"}, {\"editorial_team_full_name\": \"Miami Dolphins\"}, {\"editorial_team_abbr\": \"Mia\"}, {\"bye_weeks\": {\"week\": \"5\"}}, {\"uniform_number\": \"14\"}, {\"display_position\": \"QB\"}, {\"headshot\": {\"url\": \"https://s.yimg.com/iu/api/res/1.2/dEWCpt3rzkzQxUxpP9n9lg--~C/YXBwaWQ9eXNwb3J0cztjaD0yMzM2O2NyPTE7Y3c9MTc5MDtkeD04NTc7ZHk9MDtmaT11bGNyb3A7aD02MDtxPTEwMDt3PTQ2/https://s.yimg.com/xe/i/us/sp/v/nfl_cutout/players_l/08222019/7426.png\", \"size\": \"small\"}, \"image_url\": \"https://s.yimg.com/iu/api/res/1.2/dEWCpt3rzkzQxUxpP9n9lg--~C/YXBwaWQ9eXNwb3J0cztjaD0yMzM2O2NyPTE7Y3c9MTc5MDtkeD04NTc7ZHk9MDtmaT11bGNyb3A7aD02MDtxPTEwMDt3PTQ2/https://s.yimg.com/xe/i/us/sp/v/nfl_cutout/players_l/08222019/7426.png\"}, {\"is_undroppable\": \"0\"}, {\"position_type\": \"O\"}, {\"primary_position\": \"QB\"}, {\"eligible_positions\": [{\"position\": \"QB\"}]}, {\"has_player_notes\": 1}, [], {\"player_notes_last_timestamp\": 1566744300}]]}, \"23\": {\"player\": [[{\"player_key\": \"390.p.7520\"}, {\"player_id\": \"7520\"}, {\"name\": {\"full\": \"Robbie Gould\", \"first\": \"Robbie\", \"last\": \"Gould\", \"ascii_first\": \"Robbie\", \"ascii_last\": \"Gould\"}}, {\"editorial_player_key\": \"nfl.p.7520\"}, {\"editorial_team_key\": \"nfl.t.25\"}, {\"editorial_team_full_name\": \"San Francisco 49ers\"}, {\"editorial_team_abbr\": \"SF\"}, {\"bye_weeks\": {\"week\": \"4\"}}, {\"uniform_number\": \"9\"}, {\"display_position\": \"K\"}, {\"headshot\": {\"url\": \"https://s.yimg.com/iu/api/res/1.2/BOgmPP7RnQ.uxvIt9ngfEg--~C/YXBwaWQ9eXNwb3J0cztjaD0yMzM2O2NyPTE7Y3c9MTc5MDtkeD04NTc7ZHk9MDtmaT11bGNyb3A7aD02MDtxPTEwMDt3PTQ2/https://s.yimg.com/xe/i/us/sp/v/nfl_cutout/players_l/08202018/7520.png\", \"size\": \"small\"}, \"image_url\": \"https://s.yimg.com/iu/api/res/1.2/BOgmPP7RnQ.uxvIt9ngfEg--~C/YXBwaWQ9eXNwb3J0cztjaD0yMzM2O2NyPTE7Y3c9MTc5MDtkeD04NTc7ZHk9MDtmaT11bGNyb3A7aD02MDtxPTEwMDt3PTQ2/https://s.yimg.com/xe/i/us/sp/v/nfl_cutout/players_l/08202018/7520.png\"}, {\"is_undroppable\": \"0\"}, {\"position_type\": \"K\"}, {\"primary_position\": \"K\"}, {\"eligible_positions\": [{\"position\": \"K\"}]}, [], [], []]]}, \"24\": {\"player\": [[{\"player_key\": \"390.p.7755\"}, {\"player_id\": \"7755\"}, {\"name\": {\"full\": \"Vernon Davis\", \"first\": \"Vernon\", \"last\": \"Davis\", \"ascii_first\": \"Vernon\", \"ascii_last\": \"Davis\"}}, {\"editorial_player_key\": \"nfl.p.7755\"}, {\"editorial_team_key\": \"nfl.t.28\"}, {\"editorial_team_full_name\": \"Washington Redskins\"}, {\"editorial_team_abbr\": \"Was\"}, {\"bye_weeks\": {\"week\": \"10\"}}, {\"uniform_number\": \"85\"}, {\"display_position\": \"TE\"}, {\"headshot\": {\"url\": \"https://s.yimg.com/iu/api/res/1.2/O_w2zp1WCMeVZMA6RibXFA--~C/YXBwaWQ9eXNwb3J0cztjaD0yMzM2O2NyPTE7Y3c9MTc5MDtkeD04NTc7ZHk9MDtmaT11bGNyb3A7aD02MDtxPTEwMDt3PTQ2/https://s.yimg.com/xe/i/us/sp/v/nfl_cutout/players_l/08022019/7755.png\", \"size\": \"small\"}, \"image_url\": \"https://s.yimg.com/iu/api/res/1.2/O_w2zp1WCMeVZMA6RibXFA--~C/YXBwaWQ9eXNwb3J0cztjaD0yMzM2O2NyPTE7Y3c9MTc5MDtkeD04NTc7ZHk9MDtmaT11bGNyb3A7aD02MDtxPTEwMDt3PTQ2/https://s.yimg.com/xe/i/us/sp/v/nfl_cutout/players_l/08022019/7755.png\"}, {\"is_undroppable\": \"0\"}, {\"position_type\": \"O\"}, {\"primary_position\": \"TE\"}, {\"eligible_positions\": [{\"position\": \"TE\"}, {\"position\": \"W/R/T\"}]}, [], [], []]]}, \"count\": 25}}], \"time\": \"60.362815856934ms\", \"copyright\": \"Data provided by Yahoo! and STATS, LLC\", \"refresh_rate\": \"60\"}}'"
      ]
     },
     "execution_count": 19,
     "metadata": {},
     "output_type": "execute_result"
    }
   ],
   "source": [
    "qburl = \"league/390.l.974698/players;position=TE\"\n",
    "qbs = get_json_dump(qburl)\n",
    "qbs"
   ]
  },
  {
   "cell_type": "code",
   "execution_count": null,
   "metadata": {},
   "outputs": [],
   "source": []
  }
 ],
 "metadata": {
  "kernelspec": {
   "display_name": "Python [conda env:yahooff]",
   "language": "python",
   "name": "conda-env-yahooff-py"
  },
  "language_info": {
   "codemirror_mode": {
    "name": "ipython",
    "version": 3
   },
   "file_extension": ".py",
   "mimetype": "text/x-python",
   "name": "python",
   "nbconvert_exporter": "python",
   "pygments_lexer": "ipython3",
   "version": "3.6.8"
  }
 },
 "nbformat": 4,
 "nbformat_minor": 2
}
