{
 "cells": [
  {
   "cell_type": "code",
   "execution_count": null,
   "metadata": {},
   "outputs": [],
   "source": [
    "from yahoo_oauth import OAuth2\n",
    "import os\n",
    "import json\n",
    "import league, game, team\n",
    "import yhandler\n",
    "import json\n",
    "import objectpath\n",
    "import pandas as pd\n",
    "from pandas.io.json import json_normalize"
   ]
  },
  {
   "cell_type": "code",
   "execution_count": null,
   "metadata": {},
   "outputs": [],
   "source": [
    "# get our session context (\"sc\")\n",
    "oauth = OAuth2(None, None, from_file='oauth2.json')"
   ]
  },
  {
   "cell_type": "code",
   "execution_count": null,
   "metadata": {},
   "outputs": [],
   "source": [
    "# prepare functions\n",
    "def get_json_dump(url):\n",
    "    YAHOO_ENDPOINT = 'https://fantasysports.yahooapis.com/fantasy/v2'\n",
    "    response = oauth.session.get(\"{}/{}\".format(YAHOO_ENDPOINT, url),params={'format': 'json'})\n",
    "    jresp = response.json()\n",
    "    return json.dumps(jresp)\n",
    "def get_json(url):\n",
    "    YAHOO_ENDPOINT = 'https://fantasysports.yahooapis.com/fantasy/v2'\n",
    "    response = oauth.session.get(\"{}/{}\".format(YAHOO_ENDPOINT, url),params={'format': 'json'})\n",
    "    jresp = response.json()\n",
    "    return jresp\n",
    "def get_json_t(url):\n",
    "    YAHOO_ENDPOINT = 'https://fantasysports.yahooapis.com/fantasy/v2'\n",
    "    response = oauth.session.get(\"{}/{}\".format(YAHOO_ENDPOINT, url),params={'format': 'json'})\n",
    "    jresp = response.json()\n",
    "    t = objectpath.Tree(jresp)\n",
    "    return t"
   ]
  },
  {
   "cell_type": "code",
   "execution_count": null,
   "metadata": {},
   "outputs": [],
   "source": [
    "gm = game.Game(oauth, 'nfl')\n",
    "\n",
    "#use package to get league_id\n",
    "league_ids = gm.league_ids()\n",
    "print(league_ids)\n",
    "test_league_id = league_ids[2]\n",
    "print(test_league_id)\n",
    "\n",
    "# joesleagueid = '390.l.974698'\n",
    "\n",
    "\n"
   ]
  },
  {
   "cell_type": "code",
   "execution_count": null,
   "metadata": {},
   "outputs": [],
   "source": [
    "###Player RESOURCE\n",
    "# https://fantasysports.yahooapis.com/fantasy/v2/player/ \n",
    "\n",
    "#get a player by player key\n",
    "playersurl = \"league/390.l.974698/players;player_keys=390.p.5479\"\n",
    "player = get_json(playersurl)\n",
    "player"
   ]
  },
  {
   "cell_type": "code",
   "execution_count": null,
   "metadata": {},
   "outputs": [],
   "source": [
    "#get a player's stats'\n",
    "statsurl = \"league/390.l.974698/players;player_keys=390.p.5479/stats\"\n",
    "stats = get_json(statsurl)\n",
    "stats"
   ]
  },
  {
   "cell_type": "code",
   "execution_count": null,
   "metadata": {},
   "outputs": [],
   "source": [
    "# players COLLECTION\n",
    "qburl = \"league/390.l.974698/players;position=QB\"\n",
    "qbs = get_json_t(qburl)\n",
    "qbs"
   ]
  },
  {
   "cell_type": "code",
   "execution_count": null,
   "metadata": {},
   "outputs": [],
   "source": [
    "qbt = get_json_t(qburl)\n",
    "jfilter = qbt.execute('$..(player)')\n",
    "qbs = []\n",
    "for row in jfilter:\n",
    "#     print(row)\n",
    "#     print(\"-----------------------------------------\")\n",
    "#     print(\"---------------nextrow-------------------\")\n",
    "#     print(\"-----------------------------------------\")\n",
    "    qbs.append(row)\n",
    "qbs[0]\n"
   ]
  },
  {
   "cell_type": "code",
   "execution_count": null,
   "metadata": {},
   "outputs": [],
   "source": [
    "qbs[0]['player'][0]"
   ]
  },
  {
   "cell_type": "code",
   "execution_count": null,
   "metadata": {},
   "outputs": [],
   "source": [
    "# combine into one dictionary\n",
    "firstqb = qbs[0]['player'][0]\n",
    "onelist = [item for item in firstqb if item != []]\n",
    "onelist\n",
    "onetdict = {k: v for d in onelist for k, v in d.items()}\n",
    "onetdict"
   ]
  },
  {
   "cell_type": "code",
   "execution_count": null,
   "metadata": {},
   "outputs": [],
   "source": [
    "raw_qb_data = json_normalize(onetdict, sep=\"_\")\n",
    "raw_qb_data"
   ]
  },
  {
   "cell_type": "code",
   "execution_count": null,
   "metadata": {},
   "outputs": [],
   "source": [
    "all_qb_list = []\n",
    "allqbs = qbs\n",
    "allqbs"
   ]
  },
  {
   "cell_type": "code",
   "execution_count": null,
   "metadata": {},
   "outputs": [],
   "source": [
    "# for k, v in allqbs.items():\n",
    "#     if k != \"count\": #ignore count item which json adds as autosummary at the end\n",
    "#         qb = allqbs[k]['player'][0] #go down to individual player level in json\n",
    "#         qblist = [item for item in qb if item != []]     #remove all empty lists\n",
    "#         qbdict = { k : v[0] if type(v)==list else v  for d in qblist for k, v in d.items()} #convert all dictionaries into 1 dictionary using comprehension, if they contain a list only use first item from list\n",
    "#         print(qbdict)\n",
    "#         all_qb_list.append(qbdict)\n",
    "\n",
    "for item in allqbs:\n",
    "#     print(item)\n",
    "    qb = item['player'][0]\n",
    "    qblist = [item for item in qb if item != []]     #remove all empty lists\n",
    "    qbdict = { k : v[0] if type(v)==list else v  for d in qblist for k, v in d.items()} #convert all dictionaries into 1 dictionary using comprehension, if they contain a list only use first item from list\n",
    "#     print(qbdict)\n",
    "    all_qb_list.append(qbdict)\n",
    "print(all_qb_list)\n",
    "#     if k != \"count\": #ignore count item which json adds as autosummary at the end\n",
    "#         qb = allqbs[k]['player'][0] #go down to individual player level in json\n",
    "#         qblist = [item for item in qb if item != []]     #remove all empty lists\n",
    "#         qbdict = { k : v[0] if type(v)==list else v  for d in qblist for k, v in d.items()} #convert all dictionaries into 1 dictionary using comprehension, if they contain a list only use first item from list\n",
    "#         print(qbdict)\n",
    "#         all_qb_list.append(qbdict)"
   ]
  },
  {
   "cell_type": "code",
   "execution_count": null,
   "metadata": {},
   "outputs": [],
   "source": [
    "qbsdf = json_normalize(all_qb_list, sep=\"_\") #this only gets the sub rows?\n",
    "qbsdf"
   ]
  },
  {
   "cell_type": "code",
   "execution_count": null,
   "metadata": {},
   "outputs": [],
   "source": [
    "# create universal function for turning API data from a player into a dataframe\n",
    "positionurl = \"league/390.l.974698/players;position=TE\"\n",
    "position_t = get_json_t(positionurl)\n",
    "\n",
    "position_player_list = []\n",
    "\n",
    "\n",
    "for item in position_t:\n",
    "    player = item['player'][0]\n",
    "    position_player_list = [item for item in player if item != []]     #remove all empty lists\n",
    "    position_player_dict = { k : v[0] if type(v)==list else v  for d in position_player_list for k, v in d.items()} #convert all dictionaries into 1 dictionary using comprehension, if they contain a list only use first item from list\n",
    "    position_player_list.append(position_player_dict)\n",
    "player_position_df = json_normalize(position_player_list, sep=\"_\") #this only gets the sub rows?\n",
    "player_position_df"
   ]
  },
  {
   "cell_type": "code",
   "execution_count": null,
   "metadata": {},
   "outputs": [],
   "source": []
  }
 ],
 "metadata": {
  "kernelspec": {
   "display_name": "Python [conda env:yahooff]",
   "language": "python",
   "name": "conda-env-yahooff-py"
  },
  "language_info": {
   "codemirror_mode": {
    "name": "ipython",
    "version": 3
   },
   "file_extension": ".py",
   "mimetype": "text/x-python",
   "name": "python",
   "nbconvert_exporter": "python",
   "pygments_lexer": "ipython3",
   "version": "3.6.8"
  }
 },
 "nbformat": 4,
 "nbformat_minor": 2
}
