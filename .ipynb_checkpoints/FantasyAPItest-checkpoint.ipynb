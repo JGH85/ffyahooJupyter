{
 "cells": [
  {
   "cell_type": "code",
   "execution_count": 3,
   "metadata": {},
   "outputs": [],
   "source": [
    "from yahoo_oauth import OAuth2\n",
    "import os\n",
    "import json\n",
    "import league, game, team\n",
    "import yhandler\n",
    "import json\n",
    "import objectpath\n",
    "import pandas as pd\n",
    "from pandas.io.json import json_normalize"
   ]
  },
  {
   "cell_type": "code",
   "execution_count": 66,
   "metadata": {},
   "outputs": [
    {
     "name": "stderr",
     "output_type": "stream",
     "text": [
      "[2019-08-14 22:52:08,158 DEBUG] [yahoo_oauth.yahoo_oauth.__init__] Checking \n",
      "[2019-08-14 22:52:08,167 DEBUG] [yahoo_oauth.yahoo_oauth.token_is_valid] ELAPSED TIME : 1282.521208524704\n",
      "[2019-08-14 22:52:08,168 DEBUG] [yahoo_oauth.yahoo_oauth.token_is_valid] TOKEN IS STILL VALID\n"
     ]
    }
   ],
   "source": [
    "# get our session context (\"sc\")\n",
    "oauth = OAuth2(None, None, from_file='oauth2.json')"
   ]
  },
  {
   "cell_type": "code",
   "execution_count": 67,
   "metadata": {},
   "outputs": [],
   "source": [
    "# use package to get game\n",
    "gm = game.Game(oauth, 'nfl')\n",
    "print(gm)"
   ]
  },
  {
   "cell_type": "code",
   "execution_count": null,
   "metadata": {},
   "outputs": [],
   "source": []
  },
  {
   "cell_type": "code",
   "execution_count": 67,
   "metadata": {},
   "outputs": [
    {
     "name": "stdout",
     "output_type": "stream",
     "text": [
      "<game.Game object at 0x00000175D1D7F6A0>\n"
     ]
    }
   ],
   "source": []
  },
  {
   "cell_type": "code",
   "execution_count": 11,
   "metadata": {},
   "outputs": [
    {
     "data": {
      "text/plain": [
       "'390.l.707700'"
      ]
     },
     "execution_count": 11,
     "metadata": {},
     "output_type": "execute_result"
    }
   ],
   "source": [
    "#use package to get league_id\n",
    "league_ids = gm.league_ids()\n",
    "league_id = league_ids[0]\n",
    "league_id"
   ]
  },
  {
   "cell_type": "code",
   "execution_count": 12,
   "metadata": {},
   "outputs": [
    {
     "name": "stdout",
     "output_type": "stream",
     "text": [
      "scoring categories: [{'display_name': 'Pass Yds', 'position_type': 'O'}, {'display_name': 'Pass TD', 'position_type': 'O'}, {'display_name': 'Rush Yds', 'position_type': 'O'}, {'display_name': 'Rush TD', 'position_type': 'O'}, {'display_name': 'Rec Yds', 'position_type': 'O'}, {'display_name': 'Rec TD', 'position_type': 'O'}, {'display_name': '2-PT', 'position_type': 'O'}, {'display_name': 'Fum Ret TD', 'position_type': 'O'}, {'display_name': 'FG 0-19', 'position_type': 'K'}, {'display_name': 'FG 20-29', 'position_type': 'K'}, {'display_name': 'FG 30-39', 'position_type': 'K'}, {'display_name': 'FG 40-49', 'position_type': 'K'}, {'display_name': 'FG 50+', 'position_type': 'K'}, {'display_name': 'PAT Made', 'position_type': 'K'}]\n",
      "standings:['Resident Stevil', 'Dude in Omaha', 'Hair Force Blue', 'Hawkeyes', 'Healthy Scratch', 'KnightHawks', 'Menty', 'Monarchs', 'Redskins', 'War Machine', 'Werkmonsters', 'Wedgie Woty']\n",
      "teams:[{'name': 'Resident Stevil', 'team_key': '390.l.707700.t.1'}, {'name': 'Dude in Omaha', 'team_key': '390.l.707700.t.2'}, {'name': 'Hair Force Blue', 'team_key': '390.l.707700.t.3'}, {'name': 'Hawkeyes', 'team_key': '390.l.707700.t.4'}, {'name': 'Healthy Scratch', 'team_key': '390.l.707700.t.5'}, {'name': 'KnightHawks', 'team_key': '390.l.707700.t.6'}, {'name': 'Menty', 'team_key': '390.l.707700.t.7'}, {'name': 'Monarchs', 'team_key': '390.l.707700.t.8'}, {'name': 'Redskins', 'team_key': '390.l.707700.t.9'}, {'name': 'War Machine', 'team_key': '390.l.707700.t.10'}, {'name': 'Werkmonsters', 'team_key': '390.l.707700.t.11'}, {'name': 'Wedgie Woty', 'team_key': '390.l.707700.t.12'}]\n",
      "current user team:390.l.707700.t.5\n",
      "current week:1\n"
     ]
    }
   ],
   "source": [
    "#get league\n",
    "lg = gm.to_league(league_id)\n",
    "print(f\"scoring categories: {lg.stat_categories()}\")\n",
    "print(f\"standings:{lg.standings()}\")\n",
    "print(f\"teams:{lg.teams()}\")\n",
    "print(f\"current user team:{lg.team_key()}\")\n",
    "print(f\"current week:{lg.current_week()}\")"
   ]
  },
  {
   "cell_type": "code",
   "execution_count": 13,
   "metadata": {},
   "outputs": [
    {
     "data": {
      "text/plain": [
       "[{'name': 'Resident Stevil', 'team_key': '390.l.707700.t.1'},\n",
       " {'name': 'Dude in Omaha', 'team_key': '390.l.707700.t.2'},\n",
       " {'name': 'Hair Force Blue', 'team_key': '390.l.707700.t.3'},\n",
       " {'name': 'Hawkeyes', 'team_key': '390.l.707700.t.4'},\n",
       " {'name': 'Healthy Scratch', 'team_key': '390.l.707700.t.5'},\n",
       " {'name': 'KnightHawks', 'team_key': '390.l.707700.t.6'},\n",
       " {'name': 'Menty', 'team_key': '390.l.707700.t.7'},\n",
       " {'name': 'Monarchs', 'team_key': '390.l.707700.t.8'},\n",
       " {'name': 'Redskins', 'team_key': '390.l.707700.t.9'},\n",
       " {'name': 'War Machine', 'team_key': '390.l.707700.t.10'},\n",
       " {'name': 'Werkmonsters', 'team_key': '390.l.707700.t.11'},\n",
       " {'name': 'Wedgie Woty', 'team_key': '390.l.707700.t.12'}]"
      ]
     },
     "execution_count": 13,
     "metadata": {},
     "output_type": "execute_result"
    }
   ],
   "source": [
    "# get league teams:\n",
    "teams = lg.teams()\n",
    "teams"
   ]
  },
  {
   "cell_type": "code",
   "execution_count": 14,
   "metadata": {},
   "outputs": [
    {
     "name": "stdout",
     "output_type": "stream",
     "text": [
      "390.l.707700.t.1\n",
      "390.l.707700.t.2\n",
      "390.l.707700.t.3\n",
      "390.l.707700.t.4\n",
      "390.l.707700.t.5\n",
      "390.l.707700.t.6\n",
      "390.l.707700.t.7\n",
      "390.l.707700.t.8\n",
      "390.l.707700.t.9\n",
      "390.l.707700.t.10\n",
      "390.l.707700.t.11\n",
      "390.l.707700.t.12\n"
     ]
    }
   ],
   "source": [
    "for d in teams:\n",
    "    print(d[\"team_key\"])"
   ]
  },
  {
   "cell_type": "code",
   "execution_count": 15,
   "metadata": {},
   "outputs": [],
   "source": [
    "# testing manual pulling of data\n",
    "YAHOO_ENDPOINT = 'https://fantasysports.yahooapis.com/fantasy/v2'\n",
    "uri = 'game/nfl//'"
   ]
  },
  {
   "cell_type": "code",
   "execution_count": 16,
   "metadata": {},
   "outputs": [],
   "source": [
    "response = oauth.session.get(\"{}/{}\".format(YAHOO_ENDPOINT, uri),params={'format': 'json'})"
   ]
  },
  {
   "cell_type": "code",
   "execution_count": 17,
   "metadata": {},
   "outputs": [
    {
     "data": {
      "text/plain": [
       "{'fantasy_content': {'xml:lang': 'en-US',\n",
       "  'yahoo:uri': '/fantasy/v2/game/nfl/',\n",
       "  'game': [{'game_key': '390',\n",
       "    'game_id': '390',\n",
       "    'name': 'Football',\n",
       "    'code': 'nfl',\n",
       "    'type': 'full',\n",
       "    'url': 'https://football.fantasysports.yahoo.com/f1',\n",
       "    'season': '2019',\n",
       "    'is_registration_over': 0,\n",
       "    'is_game_over': 0,\n",
       "    'is_offseason': 0,\n",
       "    'is_live_draft_lobby_active': 1}],\n",
       "  'time': '10.309934616089ms',\n",
       "  'copyright': 'Data provided by Yahoo! and STATS, LLC',\n",
       "  'refresh_rate': '60'}}"
      ]
     },
     "execution_count": 17,
     "metadata": {},
     "output_type": "execute_result"
    }
   ],
   "source": [
    "jresp = response.json()\n",
    "jresp"
   ]
  },
  {
   "cell_type": "code",
   "execution_count": 18,
   "metadata": {},
   "outputs": [],
   "source": [
    "url = \"users;use_login=1/games/teams\"\n",
    "response = oauth.session.get(\"{}/{}\".format(YAHOO_ENDPOINT, url),params={'format': 'json'})"
   ]
  },
  {
   "cell_type": "code",
   "execution_count": 19,
   "metadata": {},
   "outputs": [],
   "source": [
    "# prepare functions\n",
    "def get_json_dump(url):\n",
    "    YAHOO_ENDPOINT = 'https://fantasysports.yahooapis.com/fantasy/v2'\n",
    "    response = oauth.session.get(\"{}/{}\".format(YAHOO_ENDPOINT, url),params={'format': 'json'})\n",
    "    jresp = response.json()\n",
    "    return json.dumps(jresp)\n",
    "def get_json(url):\n",
    "    YAHOO_ENDPOINT = 'https://fantasysports.yahooapis.com/fantasy/v2'\n",
    "    response = oauth.session.get(\"{}/{}\".format(YAHOO_ENDPOINT, url),params={'format': 'json'})\n",
    "    jresp = response.json()\n",
    "    return jresp\n",
    "def get_json_t(url):\n",
    "    YAHOO_ENDPOINT = 'https://fantasysports.yahooapis.com/fantasy/v2'\n",
    "    response = oauth.session.get(\"{}/{}\".format(YAHOO_ENDPOINT, url),params={'format': 'json'})\n",
    "    jresp = response.json()\n",
    "    t = objectpath.Tree(jresp)\n",
    "    return t"
   ]
  },
  {
   "cell_type": "code",
   "execution_count": 20,
   "metadata": {},
   "outputs": [
    {
     "data": {
      "text/plain": [
       "{'fantasy_content': {'xml:lang': 'en-US',\n",
       "  'yahoo:uri': '/fantasy/v2/users;use_login=1/games/teams',\n",
       "  'users': {'0': {'user': [{'guid': 'CCOCHI6ILR3M3O6HT5PTS5KN5U'},\n",
       "     {'games': {'0': {'game': [{'game_key': '390',\n",
       "          'game_id': '390',\n",
       "          'name': 'Football',\n",
       "          'code': 'nfl',\n",
       "          'type': 'full',\n",
       "          'url': 'https://football.fantasysports.yahoo.com/f1',\n",
       "          'season': '2019',\n",
       "          'is_registration_over': 0,\n",
       "          'is_game_over': 0,\n",
       "          'is_offseason': 0,\n",
       "          'is_live_draft_lobby_active': 1},\n",
       "         {'teams': {'0': {'team': [[{'team_key': '390.l.707700.t.5'},\n",
       "              {'team_id': '5'},\n",
       "              {'name': 'Healthy Scratch'},\n",
       "              {'is_owned_by_current_login': 1},\n",
       "              {'url': 'https://football.fantasysports.yahoo.com/f1/707700/5'},\n",
       "              {'team_logos': [{'team_logo': {'size': 'large',\n",
       "                  'url': 'https://s.yimg.com/cv/apiv2/default/nfl/nfl_4.png'}}]},\n",
       "              {'division_id': '2'},\n",
       "              {'waiver_priority': ''},\n",
       "              {'faab_balance': '100'},\n",
       "              {'number_of_moves': 0},\n",
       "              {'number_of_trades': 0},\n",
       "              {'roster_adds': {'coverage_type': 'week',\n",
       "                'coverage_value': '1',\n",
       "                'value': '0'}},\n",
       "              [],\n",
       "              {'league_scoring_type': 'head'},\n",
       "              [],\n",
       "              [],\n",
       "              {'has_draft_grade': 0},\n",
       "              {'auction_budget_total': '200'},\n",
       "              [],\n",
       "              {'managers': [{'manager': {'manager_id': '5',\n",
       "                  'nickname': 'Joe',\n",
       "                  'guid': 'AUW2GOYE3XF4UMXBJLOUWHOLGU',\n",
       "                  'email': 'josephghouser@gmail.com',\n",
       "                  'image_url': 'https://ct.yimg.com/cy/1768/39361574426_98028a_64sq.jpg'}},\n",
       "                {'manager': {'manager_id': '13',\n",
       "                  'nickname': 'Joe',\n",
       "                  'guid': 'CCOCHI6ILR3M3O6HT5PTS5KN5U',\n",
       "                  'is_comanager': '1',\n",
       "                  'is_current_login': '1',\n",
       "                  'email': 'josephghouser@gmail.com',\n",
       "                  'image_url': 'https://ct.yimg.com/cy/1768/39361574426_98028a_64sq.jpg'}}]}],\n",
       "             None]},\n",
       "           'count': 1}}]},\n",
       "       'count': 1}}]},\n",
       "   'count': 1},\n",
       "  'time': '75.297117233276ms',\n",
       "  'copyright': 'Data provided by Yahoo! and STATS, LLC',\n",
       "  'refresh_rate': '60'}}"
      ]
     },
     "execution_count": 20,
     "metadata": {},
     "output_type": "execute_result"
    }
   ],
   "source": [
    "myteamsurl = \"users;use_login=1/games/teams\"\n",
    "myteamsjson = get_json(myteamsurl)\n",
    "# myteams = myteamsjson.jsonify()\n",
    "myteamsjson"
   ]
  },
  {
   "cell_type": "code",
   "execution_count": 21,
   "metadata": {},
   "outputs": [
    {
     "data": {
      "text/plain": [
       "'Healthy Scratch'"
      ]
     },
     "execution_count": 21,
     "metadata": {},
     "output_type": "execute_result"
    }
   ],
   "source": [
    "myteamsjson[\"fantasy_content\"][\"users\"][\"0\"][\"user\"][1][\"games\"][\"0\"][\"game\"][1][\"teams\"][\"0\"][\"team\"][0][2][\"name\"]"
   ]
  },
  {
   "cell_type": "code",
   "execution_count": 22,
   "metadata": {},
   "outputs": [
    {
     "name": "stdout",
     "output_type": "stream",
     "text": [
      "<generator object filter_dict at 0x00000175D13362A0>\n"
     ]
    }
   ],
   "source": [
    "myteamt = get_json_t(myteamsurl)\n",
    "jfilter = myteamt.execute('$..(team_key,season,code, name)')\n",
    "print(jfilter)"
   ]
  },
  {
   "cell_type": "code",
   "execution_count": 23,
   "metadata": {},
   "outputs": [
    {
     "name": "stdout",
     "output_type": "stream",
     "text": [
      "{'season': '2019', 'code': 'nfl', 'name': 'Football'}\n",
      "{'team_key': '390.l.707700.t.5'}\n",
      "{'name': 'Healthy Scratch'}\n"
     ]
    }
   ],
   "source": [
    "for row in jfilter:\n",
    "    print(row)"
   ]
  },
  {
   "cell_type": "code",
   "execution_count": 24,
   "metadata": {},
   "outputs": [],
   "source": [
    "league_id = '390.l.707700'\n",
    "# get my teams: \"users;use_login=1/games/teams\"\n",
    "# get standings: f\"league/{league_id}/standings\"\n",
    "# get settings: f\"league/{league_id}/settings\"\n",
    "# get matchups: f\"league/{league_id}/settings\"\n",
    "# get roster: f\"team/{team_key}/roster;week={week}\"\n",
    "# get scoreboard: f\"league/{league_id}/scoreboard;week={week}\"\n",
    "# get all teams: \"users/games/teams\""
   ]
  },
  {
   "cell_type": "code",
   "execution_count": 25,
   "metadata": {},
   "outputs": [
    {
     "data": {
      "text/plain": [
       "[{'team_key': '390.l.707700.t.1'},\n",
       " {'team_id': '1'},\n",
       " {'name': 'Resident Stevil'},\n",
       " [],\n",
       " {'url': 'https://football.fantasysports.yahoo.com/f1/707700/1'},\n",
       " {'team_logos': [{'team_logo': {'size': 'large',\n",
       "     'url': 'https://ct.yimg.com/cy/1520/25313688185_4b0ea69cda_192sq.jpg?ct=fantasy'}}]},\n",
       " {'division_id': '1'},\n",
       " {'waiver_priority': ''},\n",
       " {'faab_balance': '100'},\n",
       " {'number_of_moves': 0},\n",
       " {'number_of_trades': 0},\n",
       " {'roster_adds': {'coverage_type': 'week',\n",
       "   'coverage_value': '1',\n",
       "   'value': '0'}},\n",
       " [],\n",
       " {'league_scoring_type': 'head'},\n",
       " [],\n",
       " [],\n",
       " {'has_draft_grade': 0},\n",
       " {'auction_budget_total': '200'},\n",
       " [],\n",
       " {'managers': [{'manager': {'manager_id': '1',\n",
       "     'nickname': 'Steve W',\n",
       "     'guid': 'PORZKU7UN5TJHAWJIOGS5FX6FM',\n",
       "     'is_commissioner': '1',\n",
       "     'email': 'skwichmer@gmail.com',\n",
       "     'image_url': 'https://s.yimg.com/ag/images/4542/27255030819_6f4805_64sq.jpg'}}]}]"
      ]
     },
     "execution_count": 25,
     "metadata": {},
     "output_type": "execute_result"
    }
   ],
   "source": [
    "oneteamurl = f\"/league/{league_id}/teams\"\n",
    "onet = get_json(oneteamurl)\n",
    "onet = onet[\"fantasy_content\"][\"league\"][1][\"teams\"][\"0\"][\"team\"][0]\n",
    "onet"
   ]
  },
  {
   "cell_type": "code",
   "execution_count": null,
   "metadata": {},
   "outputs": [],
   "source": []
  },
  {
   "cell_type": "code",
   "execution_count": null,
   "metadata": {},
   "outputs": [],
   "source": [
    "onet = [item for item in onet if item != []]\n",
    "onet"
   ]
  },
  {
   "cell_type": "code",
   "execution_count": null,
   "metadata": {},
   "outputs": [],
   "source": [
    "onetdict = {k: v for d in onet for k, v in d.items()}\n",
    "onetdict"
   ]
  },
  {
   "cell_type": "code",
   "execution_count": 28,
   "metadata": {},
   "outputs": [
    {
     "name": "stdout",
     "output_type": "stream",
     "text": [
      "found a list\n",
      "{'team_logo': {'size': 'large', 'url': 'https://ct.yimg.com/cy/1520/25313688185_4b0ea69cda_192sq.jpg?ct=fantasy'}}\n",
      "found a list\n",
      "{'manager': {'manager_id': '1', 'nickname': 'Steve W', 'guid': 'PORZKU7UN5TJHAWJIOGS5FX6FM', 'is_commissioner': '1', 'email': 'skwichmer@gmail.com', 'image_url': 'https://s.yimg.com/ag/images/4542/27255030819_6f4805_64sq.jpg'}}\n"
     ]
    },
    {
     "data": {
      "text/plain": [
       "{'team_key': '390.l.707700.t.1',\n",
       " 'team_id': '1',\n",
       " 'name': 'Resident Stevil',\n",
       " 'url': 'https://football.fantasysports.yahoo.com/f1/707700/1',\n",
       " 'team_logos': {'team_logo': {'size': 'large',\n",
       "   'url': 'https://ct.yimg.com/cy/1520/25313688185_4b0ea69cda_192sq.jpg?ct=fantasy'}},\n",
       " 'division_id': '1',\n",
       " 'waiver_priority': '',\n",
       " 'faab_balance': '100',\n",
       " 'number_of_moves': 0,\n",
       " 'number_of_trades': 0,\n",
       " 'roster_adds': {'coverage_type': 'week', 'coverage_value': '1', 'value': '0'},\n",
       " 'league_scoring_type': 'head',\n",
       " 'has_draft_grade': 0,\n",
       " 'auction_budget_total': '200',\n",
       " 'managers': {'manager': {'manager_id': '1',\n",
       "   'nickname': 'Steve W',\n",
       "   'guid': 'PORZKU7UN5TJHAWJIOGS5FX6FM',\n",
       "   'is_commissioner': '1',\n",
       "   'email': 'skwichmer@gmail.com',\n",
       "   'image_url': 'https://s.yimg.com/ag/images/4542/27255030819_6f4805_64sq.jpg'}}}"
      ]
     },
     "execution_count": 28,
     "metadata": {},
     "output_type": "execute_result"
    }
   ],
   "source": [
    "# can't iterate directly over dictionary\n",
    "for k,v in onetdict.items():\n",
    "    if isinstance(onetdict[k], list):\n",
    "        print(\"found a list\")\n",
    "        print(onetdict[k][0])\n",
    "        onetdict[k] = onetdict[k][0]\n",
    "onetdict"
   ]
  },
  {
   "cell_type": "code",
   "execution_count": 29,
   "metadata": {},
   "outputs": [
    {
     "data": {
      "text/html": [
       "<div>\n",
       "<style scoped>\n",
       "    .dataframe tbody tr th:only-of-type {\n",
       "        vertical-align: middle;\n",
       "    }\n",
       "\n",
       "    .dataframe tbody tr th {\n",
       "        vertical-align: top;\n",
       "    }\n",
       "\n",
       "    .dataframe thead th {\n",
       "        text-align: right;\n",
       "    }\n",
       "</style>\n",
       "<table border=\"1\" class=\"dataframe\">\n",
       "  <thead>\n",
       "    <tr style=\"text-align: right;\">\n",
       "      <th></th>\n",
       "      <th>auction_budget_total</th>\n",
       "      <th>division_id</th>\n",
       "      <th>faab_balance</th>\n",
       "      <th>has_draft_grade</th>\n",
       "      <th>league_scoring_type</th>\n",
       "      <th>managers_manager_email</th>\n",
       "      <th>managers_manager_guid</th>\n",
       "      <th>managers_manager_image_url</th>\n",
       "      <th>managers_manager_is_commissioner</th>\n",
       "      <th>managers_manager_manager_id</th>\n",
       "      <th>...</th>\n",
       "      <th>number_of_trades</th>\n",
       "      <th>roster_adds_coverage_type</th>\n",
       "      <th>roster_adds_coverage_value</th>\n",
       "      <th>roster_adds_value</th>\n",
       "      <th>team_id</th>\n",
       "      <th>team_key</th>\n",
       "      <th>team_logos_team_logo_size</th>\n",
       "      <th>team_logos_team_logo_url</th>\n",
       "      <th>url</th>\n",
       "      <th>waiver_priority</th>\n",
       "    </tr>\n",
       "  </thead>\n",
       "  <tbody>\n",
       "    <tr>\n",
       "      <th>0</th>\n",
       "      <td>200</td>\n",
       "      <td>1</td>\n",
       "      <td>100</td>\n",
       "      <td>0</td>\n",
       "      <td>head</td>\n",
       "      <td>skwichmer@gmail.com</td>\n",
       "      <td>PORZKU7UN5TJHAWJIOGS5FX6FM</td>\n",
       "      <td>https://s.yimg.com/ag/images/4542/27255030819_...</td>\n",
       "      <td>1</td>\n",
       "      <td>1</td>\n",
       "      <td>...</td>\n",
       "      <td>0</td>\n",
       "      <td>week</td>\n",
       "      <td>1</td>\n",
       "      <td>0</td>\n",
       "      <td>1</td>\n",
       "      <td>390.l.707700.t.1</td>\n",
       "      <td>large</td>\n",
       "      <td>https://ct.yimg.com/cy/1520/25313688185_4b0ea6...</td>\n",
       "      <td>https://football.fantasysports.yahoo.com/f1/70...</td>\n",
       "      <td></td>\n",
       "    </tr>\n",
       "  </tbody>\n",
       "</table>\n",
       "<p>1 rows × 23 columns</p>\n",
       "</div>"
      ],
      "text/plain": [
       "  auction_budget_total division_id faab_balance  has_draft_grade  \\\n",
       "0                  200           1          100                0   \n",
       "\n",
       "  league_scoring_type managers_manager_email       managers_manager_guid  \\\n",
       "0                head    skwichmer@gmail.com  PORZKU7UN5TJHAWJIOGS5FX6FM   \n",
       "\n",
       "                          managers_manager_image_url  \\\n",
       "0  https://s.yimg.com/ag/images/4542/27255030819_...   \n",
       "\n",
       "  managers_manager_is_commissioner managers_manager_manager_id  ...  \\\n",
       "0                                1                           1  ...   \n",
       "\n",
       "  number_of_trades roster_adds_coverage_type  roster_adds_coverage_value  \\\n",
       "0                0                      week                           1   \n",
       "\n",
       "   roster_adds_value team_id          team_key team_logos_team_logo_size  \\\n",
       "0                  0       1  390.l.707700.t.1                     large   \n",
       "\n",
       "                            team_logos_team_logo_url  \\\n",
       "0  https://ct.yimg.com/cy/1520/25313688185_4b0ea6...   \n",
       "\n",
       "                                                 url waiver_priority  \n",
       "0  https://football.fantasysports.yahoo.com/f1/70...                  \n",
       "\n",
       "[1 rows x 23 columns]"
      ]
     },
     "execution_count": 29,
     "metadata": {},
     "output_type": "execute_result"
    }
   ],
   "source": [
    "raw_team_data = json_normalize(onetdict, sep=\"_\")\n",
    "raw_team_data\n",
    "# df = pd.DataFrame(alldict)\n",
    "# df"
   ]
  },
  {
   "cell_type": "code",
   "execution_count": null,
   "metadata": {},
   "outputs": [],
   "source": [
    "allteamurl = f\"/league/{league_id}/teams\"\n",
    "allt = get_json(allteamurl)\n",
    "allt = allt[\"fantasy_content\"][\"league\"][1][\"teams\"]#[\"0\"][\"team\"][0]\n",
    "allt"
   ]
  },
  {
   "cell_type": "code",
   "execution_count": null,
   "metadata": {},
   "outputs": [],
   "source": [
    "# allt = allt[\"fantasy_content\"][\"league\"][1][\"teams\"]#[\"0\"][\"team\"][0]\n",
    "teamlist = []\n",
    "for k, v in allt.items():\n",
    "    if k != \"count\": #ignore count item which json adds as autosummary at the end\n",
    "        team = allt[k][\"team\"][0] #go down to individual team level in json\n",
    "        team = [item for item in team if item != []]     #remove all empty lists\n",
    "        teamd = { k : v[0] if type(v)==list else v  for d in team for k, v in d.items()} #convert all dictionaries into 1 dictionary using comprehension, if they contain a list only use first item from list\n",
    "        print(teamd)\n",
    "        teamlist.append(teamd)\n",
    "    \n",
    "#     onet = [item for item in onet if item != []] #remove blank lists\n",
    "# onetdict = {k: v for d in allt for k, v in d.items()}\n",
    "# # can't iterate directly over dictionary\n",
    "# for k,v in onetdict.items():\n",
    "#     if isinstance(onetdict[k], list):\n",
    "#         print(\"found a list\")\n",
    "#         print(onetdict[k][0])\n",
    "#         onetdict[k] = onetdict[k][0]\n",
    "# onetdict\n",
    "    "
   ]
  },
  {
   "cell_type": "code",
   "execution_count": null,
   "metadata": {},
   "outputs": [],
   "source": [
    "teamsdf = json_normalize(teamlist, sep=\"_\") #this only gets the sub rows?\n",
    "teamsdf"
   ]
  },
  {
   "cell_type": "code",
   "execution_count": null,
   "metadata": {},
   "outputs": [],
   "source": [
    "dfteams = pd.DataFrame(teamlist)\n",
    "dfteams\n"
   ]
  },
  {
   "cell_type": "code",
   "execution_count": 34,
   "metadata": {},
   "outputs": [
    {
     "data": {
      "text/plain": [
       "Index(['auction_budget_total', 'division_id', 'faab_balance',\n",
       "       'has_draft_grade', 'is_owned_by_current_login', 'league_scoring_type',\n",
       "       'managers_manager_email', 'managers_manager_guid',\n",
       "       'managers_manager_image_url', 'managers_manager_is_commissioner',\n",
       "       'managers_manager_manager_id', 'managers_manager_nickname', 'name',\n",
       "       'number_of_moves', 'number_of_trades', 'roster_adds_coverage_type',\n",
       "       'roster_adds_coverage_value', 'roster_adds_value', 'team_id',\n",
       "       'team_key', 'team_logos_team_logo_size', 'team_logos_team_logo_url',\n",
       "       'url', 'waiver_priority'],\n",
       "      dtype='object')"
      ]
     },
     "execution_count": 34,
     "metadata": {},
     "output_type": "execute_result"
    }
   ],
   "source": [
    "teamsdf.columns"
   ]
  },
  {
   "cell_type": "code",
   "execution_count": 35,
   "metadata": {},
   "outputs": [],
   "source": [
    "# allteamst = get_json_t(allteamsurl)\n",
    "# allteams = allt[\"fantasy_content\"][\"league\"][1][\"teams\"]\n",
    "# mydictlist = []\n",
    "# for key in allteams:\n",
    "#     print(key)\n",
    "#     print(allteams[key][\"team\"])\n",
    "#     mydictlist.append(allteams[key][\"team\"])\n",
    "# mydictlist"
   ]
  },
  {
   "cell_type": "code",
   "execution_count": 36,
   "metadata": {},
   "outputs": [],
   "source": [
    "# df = pd.DataFrame(mydictlist) \n",
    "# df.head()"
   ]
  },
  {
   "cell_type": "code",
   "execution_count": 37,
   "metadata": {},
   "outputs": [],
   "source": [
    "# jfilter = allteamst.execute('$..(name)')\n",
    "\n",
    "# filter = f\"$.fantasy_content.league.({})[0]\"\n",
    "# filter2 = allteamst.execute('$..league')\n",
    "# for row in filter2:\n",
    "#     print(row)\n",
    "#     print(\"next team_________________________________________________\")"
   ]
  },
  {
   "cell_type": "code",
   "execution_count": 65,
   "metadata": {},
   "outputs": [],
   "source": [
    "#get team based on team id\n",
    "teamid = \"390.l.707700.t.1\"\n",
    "teamurl = f\"/team/{teamid}\"\n",
    "teamdata = get_json_t(teamurl)\n",
    "jfilter = teamdata.execute('$..(team_id,name, division_id, faab_balance, number_of_moves, number_of_trades, manager_id, email, nickname)')\n",
    "print(jfilter)\n",
    "# for d in jfilter:\n",
    "#     print(r)\n",
    "# #     {k: v for d in onet for k, v in d.items()}\n",
    "# # teamdict = { k:v for d in jfilter}\n",
    "# # teamdict = dict(jfilter)\n",
    "# print(f\"teamdict:{teamdict}\")\n",
    "filterlist = list(jfilter)\n",
    "# teamd = { k : v[0] if type(v)==list else v  for d in filterlist for k, v in d.items()} \n",
    "teamd = {k: v for d in filterlist for k, v in d.items()}\n",
    "teamd"
   ]
  },
  {
   "cell_type": "code",
   "execution_count": 65,
   "metadata": {},
   "outputs": [
    {
     "name": "stdout",
     "output_type": "stream",
     "text": [
      "<generator object filter_dict at 0x00000175D1C81048>\n"
     ]
    },
    {
     "data": {
      "text/plain": [
       "{'team_id': '1',\n",
       " 'name': 'Resident Stevil',\n",
       " 'division_id': '1',\n",
       " 'faab_balance': '100',\n",
       " 'number_of_moves': 0,\n",
       " 'number_of_trades': 0,\n",
       " 'manager_id': '1',\n",
       " 'email': 'skwichmer@gmail.com',\n",
       " 'nickname': 'Steve W'}"
      ]
     },
     "execution_count": 65,
     "metadata": {},
     "output_type": "execute_result"
    }
   ],
   "source": [
    "def get_team_dict(teamid):\n",
    "    teamurl = f\"/team/{teamid}\"\n",
    "    teamdata = get_json_t(teamurl)\n",
    "    #get the fields that we want\n",
    "    jfilter = teamdata.execute('$..(team_id,name, division_id, faab_balance, number_of_moves, number_of_trades, manager_id, email, nickname)')\n",
    "    filterlist = list(jfilter)\n",
    "    teamd = {k: v for d in filterlist for k, v in d.items()}\n",
    "    return teamd"
   ]
  },
  {
   "cell_type": "code",
   "execution_count": null,
   "metadata": {},
   "outputs": [],
   "source": []
  }
 ],
 "metadata": {
  "kernelspec": {
   "display_name": "Python 3",
   "language": "python",
   "name": "python3"
  },
  "language_info": {
   "codemirror_mode": {
    "name": "ipython",
    "version": 3
   },
   "file_extension": ".py",
   "mimetype": "text/x-python",
   "name": "python",
   "nbconvert_exporter": "python",
   "pygments_lexer": "ipython3",
   "version": "3.7.3"
  }
 },
 "nbformat": 4,
 "nbformat_minor": 2
}
