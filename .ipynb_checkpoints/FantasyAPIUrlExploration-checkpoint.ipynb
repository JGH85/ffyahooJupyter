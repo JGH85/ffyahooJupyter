{
 "cells": [
  {
   "cell_type": "code",
   "execution_count": 4,
   "metadata": {},
   "outputs": [],
   "source": [
    "from yahoo_oauth import OAuth2\n",
    "import os\n",
    "import json\n",
    "import league, game, team\n",
    "import yhandler\n",
    "import json\n",
    "import objectpath\n",
    "import pandas as pd\n",
    "from pandas.io.json import json_normalize"
   ]
  },
  {
   "cell_type": "code",
   "execution_count": 5,
   "metadata": {},
   "outputs": [
    {
     "name": "stderr",
     "output_type": "stream",
     "text": [
      "[2019-08-20 22:06:16,296 DEBUG] [yahoo_oauth.yahoo_oauth.__init__] Checking \n",
      "[2019-08-20 22:06:16,299 DEBUG] [yahoo_oauth.yahoo_oauth.token_is_valid] ELAPSED TIME : 8.266679048538208\n",
      "[2019-08-20 22:06:16,299 DEBUG] [yahoo_oauth.yahoo_oauth.token_is_valid] TOKEN IS STILL VALID\n"
     ]
    }
   ],
   "source": [
    "# get our session context (\"sc\")\n",
    "oauth = OAuth2(None, None, from_file='oauth2.json')"
   ]
  },
  {
   "cell_type": "code",
   "execution_count": 6,
   "metadata": {},
   "outputs": [],
   "source": [
    "# prepare functions\n",
    "def get_json_dump(url):\n",
    "    YAHOO_ENDPOINT = 'https://fantasysports.yahooapis.com/fantasy/v2'\n",
    "    response = oauth.session.get(\"{}/{}\".format(YAHOO_ENDPOINT, url),params={'format': 'json'})\n",
    "    jresp = response.json()\n",
    "    return json.dumps(jresp)\n",
    "def get_json(url):\n",
    "    YAHOO_ENDPOINT = 'https://fantasysports.yahooapis.com/fantasy/v2'\n",
    "    response = oauth.session.get(\"{}/{}\".format(YAHOO_ENDPOINT, url),params={'format': 'json'})\n",
    "    jresp = response.json()\n",
    "    return jresp\n",
    "def get_json_t(url):\n",
    "    YAHOO_ENDPOINT = 'https://fantasysports.yahooapis.com/fantasy/v2'\n",
    "    response = oauth.session.get(\"{}/{}\".format(YAHOO_ENDPOINT, url),params={'format': 'json'})\n",
    "    jresp = response.json()\n",
    "    t = objectpath.Tree(jresp)\n",
    "    return t"
   ]
  },
  {
   "cell_type": "markdown",
   "metadata": {},
   "source": [
    "https://developer.yahoo.com/fantasysports/guide/\n",
    "The format for requesting a Resource will typically look like:\n",
    "https://fantasysports.yahooapis.com/fantasy/v2/{resource}/{resource_key}\n",
    "\n",
    "While the format for requesting a Collection will typically look like:\n",
    "https://fantasysports.yahooapis.com/fantasy/v2/{collection};{resource}_keys={resource_key1},{resource_key2}\n",
    "\n",
    "Collection:\n",
    "/fantasy/v2/;player_keys=,{player_key2}\n",
    "/fantasy/v2/;use_login=1\n",
    "\n",
    "If you ever need to branch off other sub-resources outside of your main resource chain, you can use the out parameter, which will let you specify one level of extra sub-resources to pull in. At the moment, you cannot pass any parameters along to these out sub-resources, aside from any data that might get passed by default. This typically means that you can’t chain other resources off of sub-resources specified by the out parameter.\n",
    "As an example, if you wanted to view a league’s settings along with two teams in particular in a league, you might construct a URI like:\n",
    "/fantasy/v2//;out=settings/;team_keys=,{team_key2}\n",
    "\n",
    "Parameters¶\n",
    "Parameters can be provided to Resources and Collections as semicolon-delimited key-value pairs. These should be placed after the Resource or Collection name in the URI; in the case of entry-point Resources like Games, Leagues, Teams, and Players, the parameters belong after the resource_key.\n",
    "\n",
    "/fantasy/v2/{resource}/{resource_key};{key}={value};{key}={value}/{collection};{key}={value};{key}={value}/{collection};{key}={value}/{resource};{key}={value}"
   ]
  },
  {
   "cell_type": "markdown",
   "metadata": {},
   "source": [
    "URIs¶\n",
    "Game Resource:\n",
    "https://fantasysports.yahooapis.com/fantasy/v2/game/\n",
    "Any sub-resource under a game is extracted using a URI like:\n",
    "https://fantasysports.yahooapis.com/fantasy/v2/game//\n",
    "Multiple sub-resources can be extracted from game in the same URI using a format like:\n",
    "https://fantasysports.yahooapis.com/fantasy/v2/game/;out=,{sub_resource_2}\n",
    "https://fantasysports.yahooapis.com/fantasy/v2/game/nfl\n",
    "\n",
    "League:\n",
    "https://fantasysports.yahooapis.com/fantasy/v2/league/\n",
    "Any sub-resource under a league is extracted using a URI like:\n",
    "https://fantasysports.yahooapis.com/fantasy/v2/league//\n",
    "Multiple sub-resources can be extracted from league in the same URI using a format like:\n",
    "https://fantasysports.yahooapis.com/fantasy/v2/league/;out=,{sub_resource_2}\n",
    "Examples:\n",
    "https://fantasysports.yahooapis.com/fantasy/v2/league/223.l.431\n",
    "https://fantasysports.yahooapis.com/fantasy/v2/league/223.l.431/settings\n",
    "https://fantasysports.yahooapis.com/fantasy/v2/league/223.l.431/standings\n",
    "https://fantasysports.yahooapis.com/fantasy/v2/league/223.l.431/scoreboard\n",
    "\n",
    "\n",
    "Team Resource\n",
    "https://fantasysports.yahooapis.com/fantasy/v2/team/\n",
    "Any sub-resource under a team is extracted using a URI like:\n",
    "https://fantasysports.yahooapis.com/fantasy/v2/team//\n",
    "Multiple sub-resources can be extracted from team in the same URI using a format like:\n",
    "https://fantasysports.yahooapis.com/fantasy/v2/team/;out=,{sub_resource_2}\n",
    "Examples:\n",
    "https://fantasysports.yahooapis.com/fantasy/v2/team/223.l.431.t.1\n",
    "https://fantasysports.yahooapis.com/fantasy/v2/team/223.l.431.t.1/matchups;weeks=1,5 - team’s matchups for weeks 1 and 5 in a NFL H2H league\n",
    "https://fantasysports.yahooapis.com/fantasy/v2/team/223.l.431.t.1/stats;type=season - team’s season stats in a NFL H2H league\n",
    "\n",
    "Roster Resource\n",
    "https://fantasysports.yahooapis.com/fantasy/v2/team//roster\n",
    "Any sub-resource under a roster is extracted using a URI like:\n",
    "https://fantasysports.yahooapis.com/fantasy/v2/team//roster/\n",
    "For NFL, you can specify a week parameter to retrieve a specific week – otherwise it will default to the current roster\n",
    "https://fantasysports.yahooapis.com/fantasy/v2/team//roster;week=10\n",
    "For MLB, NHL, or NBA, you can specify a date parameter to retrieve a specific date – otherwise it will default to today’s roster.\n",
    "https://fantasysports.yahooapis.com/fantasy/v2/team//roster;date=2011-05-01\n",
    "Default sub-resource: PLAYERS\n",
    "\n",
    "Examples: https://fantasysports.yahooapis.com/fantasy/v2/team/253.l.102614.t.10/roster/players\n",
    "You can do a \"put\" request to move players. See https://developer.yahoo.com/fantasysports/guide/#put\n",
    "\n",
    "Teams Collection\n",
    "Any sub-resource valid for a team is a valid sub-resource under the teams collection.\n",
    "Any sub-resource for a collection of teams is extracted using a URI like:\n",
    "/teams/{sub_resource}\n",
    "OR\n",
    "/teams;team_keys={team_key1},{team_key2}/{sub_resource}\n",
    "Multiple sub-resources can be extracted from teams in the same URI using a format like:\n",
    "/teams;out={sub_resource_1},{sub_resource_2}\n",
    "OR\n",
    "/teams;team_keys={team_key1},{team_key2};out={sub_resource_1},{sub_resource_2}"
   ]
  },
  {
   "cell_type": "markdown",
   "metadata": {},
   "source": [
    "\n",
    "Players Resource\n",
    "https://fantasysports.yahooapis.com/fantasy/v2/player/\n",
    "Any sub-resource under a player is extracted using a URI like:\n",
    "https://fantasysports.yahooapis.com/fantasy/v2/player//\n",
    "Multiple sub-resources can be extracted from player in the same URI using a format like:\n",
    "https://fantasysports.yahooapis.com/fantasy/v2/player/;out=,{sub_resource_2}\n",
    "\n",
    "https://fantasysports.yahooapis.com/fantasy/v2/league/223.l.431/players;player_keys=223.p.5479 - Player in a NFL league context\n",
    "https://fantasysports.yahooapis.com/fantasy/v2/league/223.l.431/players;player_keys=223.p.5479/stats - Player season stats in a NFL league context\n",
    "\n",
    "\n",
    "Players Collection\n",
    "Any sub-resource valid for a player is a valid sub-resource under the players collection.\n",
    "Any sub-resource for a collection of players is extracted using a URI like:\n",
    "/players/{sub_resource}\n",
    "OR\n",
    "/players;player_keys={player_key1},{player_key2}/{sub_resource}\n",
    "Multiple sub-resources can be extracted from players in the same URI using a format like:\n",
    "/players;out={sub_resource_1},{sub_resource_2}\n",
    "OR\n",
    "/players;player_keys={player_key1},{player_key2};out={sub_resource_1},{sub_resource_2}\n",
    "\n",
    "Transactions...\n",
    "https://developer.yahoo.com/fantasysports/guide/#post\n"
   ]
  },
  {
   "cell_type": "code",
   "execution_count": null,
   "metadata": {},
   "outputs": [],
   "source": [
    "#league ids: kffl_league_id = '390.l.707700', joesleagueid = '371.l.252880'\n"
   ]
  }
 ],
 "metadata": {
  "kernelspec": {
   "display_name": "Python [conda env:yahooff]",
   "language": "python",
   "name": "conda-env-yahooff-py"
  },
  "language_info": {
   "codemirror_mode": {
    "name": "ipython",
    "version": 3
   },
   "file_extension": ".py",
   "mimetype": "text/x-python",
   "name": "python",
   "nbconvert_exporter": "python",
   "pygments_lexer": "ipython3",
   "version": "3.6.8"
  }
 },
 "nbformat": 4,
 "nbformat_minor": 2
}
