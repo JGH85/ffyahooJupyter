{
 "cells": [
  {
   "cell_type": "code",
   "execution_count": 22,
   "metadata": {},
   "outputs": [],
   "source": [
    "from yahoo_oauth import OAuth2\n",
    "import os\n",
    "import json\n",
    "import league, game, team\n",
    "import yhandler\n",
    "import json\n",
    "import objectpath\n",
    "import pandas as pd\n",
    "from pandas.io.json import json_normalize"
   ]
  },
  {
   "cell_type": "code",
   "execution_count": 23,
   "metadata": {},
   "outputs": [
    {
     "name": "stderr",
     "output_type": "stream",
     "text": [
      "[2019-08-25 12:18:53,459 DEBUG] [yahoo_oauth.yahoo_oauth.__init__] Checking \n",
      "[2019-08-25 12:18:53,518 DEBUG] [yahoo_oauth.yahoo_oauth.token_is_valid] ELAPSED TIME : 86427.2998650074\n",
      "[2019-08-25 12:18:53,519 DEBUG] [yahoo_oauth.yahoo_oauth.token_is_valid] TOKEN HAS EXPIRED\n",
      "[2019-08-25 12:18:53,520 DEBUG] [yahoo_oauth.yahoo_oauth.refresh_access_token] REFRESHING TOKEN\n"
     ]
    }
   ],
   "source": [
    "# get our session context (\"sc\")\n",
    "oauth = OAuth2(None, None, from_file='oauth2.json')"
   ]
  },
  {
   "cell_type": "code",
   "execution_count": 24,
   "metadata": {},
   "outputs": [],
   "source": [
    "# prepare functions\n",
    "def get_json_dump(url):\n",
    "    YAHOO_ENDPOINT = 'https://fantasysports.yahooapis.com/fantasy/v2'\n",
    "    response = oauth.session.get(\"{}/{}\".format(YAHOO_ENDPOINT, url),params={'format': 'json'})\n",
    "    jresp = response.json()\n",
    "    return json.dumps(jresp)\n",
    "def get_json(url):\n",
    "    YAHOO_ENDPOINT = 'https://fantasysports.yahooapis.com/fantasy/v2'\n",
    "    response = oauth.session.get(\"{}/{}\".format(YAHOO_ENDPOINT, url),params={'format': 'json'})\n",
    "    jresp = response.json()\n",
    "    return jresp\n",
    "def get_json_t(url):\n",
    "    YAHOO_ENDPOINT = 'https://fantasysports.yahooapis.com/fantasy/v2'\n",
    "    response = oauth.session.get(\"{}/{}\".format(YAHOO_ENDPOINT, url),params={'format': 'json'})\n",
    "    jresp = response.json()\n",
    "    t = objectpath.Tree(jresp)\n",
    "    return t"
   ]
  },
  {
   "cell_type": "markdown",
   "metadata": {},
   "source": [
    "https://developer.yahoo.com/fantasysports/guide/\n",
    "The format for requesting a Resource will typically look like:\n",
    "https://fantasysports.yahooapis.com/fantasy/v2/{resource}/{resource_key}\n",
    "\n",
    "While the format for requesting a Collection will typically look like:\n",
    "https://fantasysports.yahooapis.com/fantasy/v2/{collection};{resource}_keys={resource_key1},{resource_key2}\n",
    "\n",
    "Collection:\n",
    "/fantasy/v2/;player_keys=,{player_key2}\n",
    "/fantasy/v2/;use_login=1\n",
    "\n",
    "If you ever need to branch off other sub-resources outside of your main resource chain, you can use the out parameter, which will let you specify one level of extra sub-resources to pull in. At the moment, you cannot pass any parameters along to these out sub-resources, aside from any data that might get passed by default. This typically means that you can’t chain other resources off of sub-resources specified by the out parameter.\n",
    "As an example, if you wanted to view a league’s settings along with two teams in particular in a league, you might construct a URI like:\n",
    "/fantasy/v2//;out=settings/;team_keys=,{team_key2}\n",
    "\n",
    "Parameters¶\n",
    "Parameters can be provided to Resources and Collections as semicolon-delimited key-value pairs. These should be placed after the Resource or Collection name in the URI; in the case of entry-point Resources like Games, Leagues, Teams, and Players, the parameters belong after the resource_key.\n",
    "\n",
    "/fantasy/v2/{resource}/{resource_key};{key}={value};{key}={value}/{collection};{key}={value};{key}={value}/{collection};{key}={value}/{resource};{key}={value}"
   ]
  },
  {
   "cell_type": "markdown",
   "metadata": {},
   "source": [
    "URIs¶\n",
    "Game Resource:\n",
    "https://fantasysports.yahooapis.com/fantasy/v2/game/\n",
    "Any sub-resource under a game is extracted using a URI like:\n",
    "https://fantasysports.yahooapis.com/fantasy/v2/game//\n",
    "Multiple sub-resources can be extracted from game in the same URI using a format like:\n",
    "https://fantasysports.yahooapis.com/fantasy/v2/game/;out=,{sub_resource_2}\n",
    "https://fantasysports.yahooapis.com/fantasy/v2/game/nfl\n",
    "\n",
    "League:\n",
    "https://fantasysports.yahooapis.com/fantasy/v2/league/\n",
    "Any sub-resource under a league is extracted using a URI like:\n",
    "https://fantasysports.yahooapis.com/fantasy/v2/league//\n",
    "Multiple sub-resources can be extracted from league in the same URI using a format like:\n",
    "https://fantasysports.yahooapis.com/fantasy/v2/league/;out=,{sub_resource_2}\n",
    "Examples:\n",
    "https://fantasysports.yahooapis.com/fantasy/v2/league/223.l.431\n",
    "https://fantasysports.yahooapis.com/fantasy/v2/league/223.l.431/settings\n",
    "https://fantasysports.yahooapis.com/fantasy/v2/league/223.l.431/standings\n",
    "https://fantasysports.yahooapis.com/fantasy/v2/league/223.l.431/scoreboard\n",
    "\n",
    "\n",
    "Team Resource\n",
    "https://fantasysports.yahooapis.com/fantasy/v2/team/\n",
    "Any sub-resource under a team is extracted using a URI like:\n",
    "https://fantasysports.yahooapis.com/fantasy/v2/team//\n",
    "Multiple sub-resources can be extracted from team in the same URI using a format like:\n",
    "https://fantasysports.yahooapis.com/fantasy/v2/team/;out=,{sub_resource_2}\n",
    "Examples:\n",
    "https://fantasysports.yahooapis.com/fantasy/v2/team/223.l.431.t.1\n",
    "https://fantasysports.yahooapis.com/fantasy/v2/team/223.l.431.t.1/matchups;weeks=1,5 - team’s matchups for weeks 1 and 5 in a NFL H2H league\n",
    "https://fantasysports.yahooapis.com/fantasy/v2/team/223.l.431.t.1/stats;type=season - team’s season stats in a NFL H2H league\n",
    "\n",
    "Roster Resource\n",
    "https://fantasysports.yahooapis.com/fantasy/v2/team//roster\n",
    "Any sub-resource under a roster is extracted using a URI like:\n",
    "https://fantasysports.yahooapis.com/fantasy/v2/team//roster/\n",
    "For NFL, you can specify a week parameter to retrieve a specific week – otherwise it will default to the current roster\n",
    "https://fantasysports.yahooapis.com/fantasy/v2/team//roster;week=10\n",
    "For MLB, NHL, or NBA, you can specify a date parameter to retrieve a specific date – otherwise it will default to today’s roster.\n",
    "https://fantasysports.yahooapis.com/fantasy/v2/team//roster;date=2011-05-01\n",
    "Default sub-resource: PLAYERS\n",
    "\n",
    "Examples: https://fantasysports.yahooapis.com/fantasy/v2/team/253.l.102614.t.10/roster/players\n",
    "You can do a \"put\" request to move players. See https://developer.yahoo.com/fantasysports/guide/#put\n",
    "\n",
    "Teams Collection\n",
    "Any sub-resource valid for a team is a valid sub-resource under the teams collection.\n",
    "Any sub-resource for a collection of teams is extracted using a URI like:\n",
    "/teams/{sub_resource}\n",
    "OR\n",
    "/teams;team_keys={team_key1},{team_key2}/{sub_resource}\n",
    "Multiple sub-resources can be extracted from teams in the same URI using a format like:\n",
    "/teams;out={sub_resource_1},{sub_resource_2}\n",
    "OR\n",
    "/teams;team_keys={team_key1},{team_key2};out={sub_resource_1},{sub_resource_2}"
   ]
  },
  {
   "cell_type": "markdown",
   "metadata": {},
   "source": [
    "\n",
    "Players Resource\n",
    "https://fantasysports.yahooapis.com/fantasy/v2/player/\n",
    "Any sub-resource under a player is extracted using a URI like:\n",
    "https://fantasysports.yahooapis.com/fantasy/v2/player//\n",
    "Multiple sub-resources can be extracted from player in the same URI using a format like:\n",
    "https://fantasysports.yahooapis.com/fantasy/v2/player/;out=,{sub_resource_2}\n",
    "\n",
    "https://fantasysports.yahooapis.com/fantasy/v2/league/223.l.431/players;player_keys=223.p.5479 - Player in a NFL league context\n",
    "https://fantasysports.yahooapis.com/fantasy/v2/league/223.l.431/players;player_keys=223.p.5479/stats - Player season stats in a NFL league context\n",
    "\n",
    "\n",
    "Players Collection\n",
    "Any sub-resource valid for a player is a valid sub-resource under the players collection.\n",
    "Any sub-resource for a collection of players is extracted using a URI like:\n",
    "/players/{sub_resource}\n",
    "OR\n",
    "/players;player_keys={player_key1},{player_key2}/{sub_resource}\n",
    "Multiple sub-resources can be extracted from players in the same URI using a format like:\n",
    "/players;out={sub_resource_1},{sub_resource_2}\n",
    "OR\n",
    "/players;player_keys={player_key1},{player_key2};out={sub_resource_1},{sub_resource_2}\n",
    "\n",
    "Transactions...\n",
    "https://developer.yahoo.com/fantasysports/guide/#post\n"
   ]
  },
  {
   "cell_type": "code",
   "execution_count": 25,
   "metadata": {},
   "outputs": [
    {
     "name": "stdout",
     "output_type": "stream",
     "text": [
      "['371.l.252880', '380.l.770342', '390.l.974698']\n",
      "390.l.974698\n"
     ]
    }
   ],
   "source": [
    "#league ids: kffl_league_id = '390.l.707700', joesleagueid = '390.l.974698', jwold = '371.l.252880', jwnew: '380.l.770342'\n",
    "# gm = game.Game(oauth, 'nfl')\n",
    "# print(gm)\n",
    "# https://fantasysports.yahooapis.com/fantasy/v2/league/ \n",
    "gm = game.Game(oauth, 'nfl')\n",
    "\n",
    "#use package to get league_id\n",
    "league_ids = gm.league_ids()\n",
    "print(league_ids)\n",
    "test_league_id = league_ids[2]\n",
    "print(test_league_id)\n"
   ]
  },
  {
   "cell_type": "code",
   "execution_count": 26,
   "metadata": {},
   "outputs": [
    {
     "name": "stdout",
     "output_type": "stream",
     "text": [
      "scoring categories: [{'display_name': 'Pass Yds', 'position_type': 'O'}, {'display_name': 'Pass TD', 'position_type': 'O'}, {'display_name': 'Int', 'position_type': 'O'}, {'display_name': 'Rush Yds', 'position_type': 'O'}, {'display_name': 'Rush TD', 'position_type': 'O'}, {'display_name': 'Rec', 'position_type': 'O'}, {'display_name': 'Rec Yds', 'position_type': 'O'}, {'display_name': 'Rec TD', 'position_type': 'O'}, {'display_name': 'Ret TD', 'position_type': 'O'}, {'display_name': '2-PT', 'position_type': 'O'}, {'display_name': 'Fum Lost', 'position_type': 'O'}, {'display_name': 'Fum Ret TD', 'position_type': 'O'}, {'display_name': 'FG 0-19', 'position_type': 'K'}, {'display_name': 'FG 20-29', 'position_type': 'K'}, {'display_name': 'FG 30-39', 'position_type': 'K'}, {'display_name': 'FG 40-49', 'position_type': 'K'}, {'display_name': 'FG 50+', 'position_type': 'K'}, {'display_name': 'PAT Made', 'position_type': 'K'}, {'display_name': 'Sack', 'position_type': 'DT'}, {'display_name': 'Int', 'position_type': 'DT'}, {'display_name': 'Fum Rec', 'position_type': 'DT'}, {'display_name': 'TD', 'position_type': 'DT'}, {'display_name': 'Safe', 'position_type': 'DT'}, {'display_name': 'Blk Kick', 'position_type': 'DT'}, {'display_name': 'Ret TD', 'position_type': 'DT'}, {'display_name': 'Pts Allow 0', 'position_type': 'DT'}, {'display_name': 'Pts Allow 1-6', 'position_type': 'DT'}, {'display_name': 'Pts Allow 7-13', 'position_type': 'DT'}, {'display_name': 'Pts Allow 14-20', 'position_type': 'DT'}, {'display_name': 'Pts Allow 21-27', 'position_type': 'DT'}, {'display_name': 'Pts Allow 28-34', 'position_type': 'DT'}, {'display_name': 'Pts Allow 35+', 'position_type': 'DT'}, {'display_name': 'XPR', 'position_type': 'DT'}]\n",
      "standings:[\"JCommish's Runts\", 'AHFanGooglers', \"JoeY!'s Scrubs\", \"JGH's Slackers\"]\n",
      "teams:[{'name': \"JCommish's Runts\", 'team_key': '390.l.974698.t.1'}, {'name': 'AHFanGooglers', 'team_key': '390.l.974698.t.2'}, {'name': \"JoeY!'s Scrubs\", 'team_key': '390.l.974698.t.3'}, {'name': \"JGH's Slackers\", 'team_key': '390.l.974698.t.4'}]\n",
      "current user team:390.l.974698.t.3\n",
      "current week:1\n"
     ]
    }
   ],
   "source": [
    "#get league\n",
    "lg = gm.to_league(test_league_id)\n",
    "print(f\"scoring categories: {lg.stat_categories()}\")\n",
    "print(f\"standings:{lg.standings()}\")\n",
    "print(f\"teams:{lg.teams()}\")\n",
    "print(f\"current user team:{lg.team_key()}\")\n",
    "print(f\"current week:{lg.current_week()}\")"
   ]
  },
  {
   "cell_type": "code",
   "execution_count": 27,
   "metadata": {},
   "outputs": [
    {
     "data": {
      "text/plain": [
       "[{'name': \"JCommish's Runts\", 'team_key': '390.l.974698.t.1'},\n",
       " {'name': 'AHFanGooglers', 'team_key': '390.l.974698.t.2'},\n",
       " {'name': \"JoeY!'s Scrubs\", 'team_key': '390.l.974698.t.3'},\n",
       " {'name': \"JGH's Slackers\", 'team_key': '390.l.974698.t.4'}]"
      ]
     },
     "execution_count": 27,
     "metadata": {},
     "output_type": "execute_result"
    }
   ],
   "source": [
    "# get league teams:\n",
    "teams = lg.teams()\n",
    "teams"
   ]
  },
  {
   "cell_type": "code",
   "execution_count": null,
   "metadata": {},
   "outputs": [],
   "source": [
    "#testteams\n",
    "# [{'name': \"JCommish's Runts\", 'team_key': '390.l.974698.t.1'},\n",
    "#  {'name': 'AHFanGooglers', 'team_key': '390.l.974698.t.2'},\n",
    "#  {'name': \"JoeY!'s Scrubs\", 'team_key': '390.l.974698.t.3'},\n",
    "#  {'name': \"JGH's Slackers\", 'team_key': '390.l.974698.t.4'}]\n",
    "rosterurl = \"/team/390.l.974698.t.1/roster\"\n",
    "test = get_json_dump(rosterurl)\n",
    "test"
   ]
  },
  {
   "cell_type": "code",
   "execution_count": 45,
   "metadata": {},
   "outputs": [
    {
     "name": "stdout",
     "output_type": "stream",
     "text": [
      "{'player': [[{'player_key': '390.p.30123'}, {'player_id': '30123'}, {'name': {'full': 'Patrick Mahomes', 'first': 'Patrick', 'last': 'Mahomes', 'ascii_first': 'Patrick', 'ascii_last': 'Mahomes'}}, {'editorial_player_key': 'nfl.p.30123'}, {'editorial_team_key': 'nfl.t.12'}, {'editorial_team_full_name': 'Kansas City Chiefs'}, {'editorial_team_abbr': 'KC'}, {'bye_weeks': {'week': '12'}}, {'uniform_number': '15'}, {'display_position': 'QB'}, {'headshot': {'url': 'https://s.yimg.com/iu/api/res/1.2/mI5OqDbobMP0SIlpOv8XCQ--~C/YXBwaWQ9eXNwb3J0cztjaD0yMzM2O2NyPTE7Y3c9MTc5MDtkeD04NTc7ZHk9MDtmaT11bGNyb3A7aD02MDtxPTEwMDt3PTQ2/https://s.yimg.com/xe/i/us/sp/v/nfl_cutout/players_l/08152019/30123.png', 'size': 'small'}, 'image_url': 'https://s.yimg.com/iu/api/res/1.2/mI5OqDbobMP0SIlpOv8XCQ--~C/YXBwaWQ9eXNwb3J0cztjaD0yMzM2O2NyPTE7Y3c9MTc5MDtkeD04NTc7ZHk9MDtmaT11bGNyb3A7aD02MDtxPTEwMDt3PTQ2/https://s.yimg.com/xe/i/us/sp/v/nfl_cutout/players_l/08152019/30123.png'}, {'is_undroppable': '1'}, {'position_type': 'O'}, {'primary_position': 'QB'}, {'eligible_positions': [{'position': 'QB'}]}, {'has_player_notes': 1}, {'has_recent_player_notes': 1}, {'player_notes_last_timestamp': 1566694680}], {'selected_position': [{'coverage_type': 'week', 'week': '1'}, {'position': 'QB'}, {'is_flex': 0}]}]}\n",
      "-----------------------------------------\n",
      "---------------nextrow-------------------\n",
      "-----------------------------------------\n",
      "{'player': [[{'player_key': '390.p.26650'}, {'player_id': '26650'}, {'name': {'full': 'DeAndre Hopkins', 'first': 'DeAndre', 'last': 'Hopkins', 'ascii_first': 'DeAndre', 'ascii_last': 'Hopkins'}}, {'editorial_player_key': 'nfl.p.26650'}, {'editorial_team_key': 'nfl.t.34'}, {'editorial_team_full_name': 'Houston Texans'}, {'editorial_team_abbr': 'Hou'}, {'bye_weeks': {'week': '10'}}, {'uniform_number': '10'}, {'display_position': 'WR'}, {'headshot': {'url': 'https://s.yimg.com/iu/api/res/1.2/zp0t86.5SnOnIyp7Wj.wbA--~C/YXBwaWQ9eXNwb3J0cztjaD0yMzM2O2NyPTE7Y3c9MTc5MDtkeD04NTc7ZHk9MDtmaT11bGNyb3A7aD02MDtxPTEwMDt3PTQ2/https://s.yimg.com/xe/i/us/sp/v/nfl_cutout/players_l/08152019/26650.png', 'size': 'small'}, 'image_url': 'https://s.yimg.com/iu/api/res/1.2/zp0t86.5SnOnIyp7Wj.wbA--~C/YXBwaWQ9eXNwb3J0cztjaD0yMzM2O2NyPTE7Y3c9MTc5MDtkeD04NTc7ZHk9MDtmaT11bGNyb3A7aD02MDtxPTEwMDt3PTQ2/https://s.yimg.com/xe/i/us/sp/v/nfl_cutout/players_l/08152019/26650.png'}, {'is_undroppable': '1'}, {'position_type': 'O'}, {'primary_position': 'WR'}, {'eligible_positions': [{'position': 'WR'}, {'position': 'W/R/T'}]}, [], [], []], {'selected_position': [{'coverage_type': 'week', 'week': '1'}, {'position': 'WR'}, {'is_flex': 0}]}]}\n",
      "-----------------------------------------\n",
      "---------------nextrow-------------------\n",
      "-----------------------------------------\n",
      "{'player': [[{'player_key': '390.p.30175'}, {'player_id': '30175'}, {'name': {'full': 'JuJu Smith-Schuster', 'first': 'JuJu', 'last': 'Smith-Schuster', 'ascii_first': 'JuJu', 'ascii_last': 'Smith-Schuster'}}, {'editorial_player_key': 'nfl.p.30175'}, {'editorial_team_key': 'nfl.t.23'}, {'editorial_team_full_name': 'Pittsburgh Steelers'}, {'editorial_team_abbr': 'Pit'}, {'bye_weeks': {'week': '7'}}, {'uniform_number': '19'}, {'display_position': 'WR'}, {'headshot': {'url': 'https://s.yimg.com/iu/api/res/1.2/mCG6P5tMziX1MJGmZrfg2Q--~C/YXBwaWQ9eXNwb3J0cztjaD0yMzM2O2NyPTE7Y3c9MTc5MDtkeD04NTc7ZHk9MDtmaT11bGNyb3A7aD02MDtxPTEwMDt3PTQ2/https://s.yimg.com/xe/i/us/sp/v/nfl_cutout/players_l/08222019/30175.png', 'size': 'small'}, 'image_url': 'https://s.yimg.com/iu/api/res/1.2/mCG6P5tMziX1MJGmZrfg2Q--~C/YXBwaWQ9eXNwb3J0cztjaD0yMzM2O2NyPTE7Y3c9MTc5MDtkeD04NTc7ZHk9MDtmaT11bGNyb3A7aD02MDtxPTEwMDt3PTQ2/https://s.yimg.com/xe/i/us/sp/v/nfl_cutout/players_l/08222019/30175.png'}, {'is_undroppable': '1'}, {'position_type': 'O'}, {'primary_position': 'WR'}, {'eligible_positions': [{'position': 'WR'}, {'position': 'W/R/T'}]}, {'has_player_notes': 1}, [], {'player_notes_last_timestamp': 1566477060}], {'selected_position': [{'coverage_type': 'week', 'week': '1'}, {'position': 'WR'}, {'is_flex': 0}]}]}\n",
      "-----------------------------------------\n",
      "---------------nextrow-------------------\n",
      "-----------------------------------------\n",
      "{'player': [[{'player_key': '390.p.30180'}, {'player_id': '30180'}, {'name': {'full': 'Alvin Kamara', 'first': 'Alvin', 'last': 'Kamara', 'ascii_first': 'Alvin', 'ascii_last': 'Kamara'}}, {'editorial_player_key': 'nfl.p.30180'}, {'editorial_team_key': 'nfl.t.18'}, {'editorial_team_full_name': 'New Orleans Saints'}, {'editorial_team_abbr': 'NO'}, {'bye_weeks': {'week': '9'}}, {'uniform_number': '41'}, {'display_position': 'RB'}, {'headshot': {'url': 'https://s.yimg.com/iu/api/res/1.2/hU2sUFh5nBQhkDOfOx3kdw--~C/YXBwaWQ9eXNwb3J0cztjaD0yMzM2O2NyPTE7Y3c9MTc5MDtkeD04NTc7ZHk9MDtmaT11bGNyb3A7aD02MDtxPTEwMDt3PTQ2/https://s.yimg.com/xe/i/us/sp/v/nfl_cutout/players_l/08212019/30180.png', 'size': 'small'}, 'image_url': 'https://s.yimg.com/iu/api/res/1.2/hU2sUFh5nBQhkDOfOx3kdw--~C/YXBwaWQ9eXNwb3J0cztjaD0yMzM2O2NyPTE7Y3c9MTc5MDtkeD04NTc7ZHk9MDtmaT11bGNyb3A7aD02MDtxPTEwMDt3PTQ2/https://s.yimg.com/xe/i/us/sp/v/nfl_cutout/players_l/08212019/30180.png'}, {'is_undroppable': '1'}, {'position_type': 'O'}, {'primary_position': 'RB'}, {'eligible_positions': [{'position': 'RB'}, {'position': 'W/R/T'}]}, {'has_player_notes': 1}, {'has_recent_player_notes': 1}, {'player_notes_last_timestamp': 1566693420}], {'selected_position': [{'coverage_type': 'week', 'week': '1'}, {'position': 'RB'}, {'is_flex': 0}]}]}\n",
      "-----------------------------------------\n",
      "---------------nextrow-------------------\n",
      "-----------------------------------------\n",
      "{'player': [[{'player_key': '390.p.30218'}, {'player_id': '30218'}, {'name': {'full': 'James Conner', 'first': 'James', 'last': 'Conner', 'ascii_first': 'James', 'ascii_last': 'Conner'}}, {'editorial_player_key': 'nfl.p.30218'}, {'editorial_team_key': 'nfl.t.23'}, {'editorial_team_full_name': 'Pittsburgh Steelers'}, {'editorial_team_abbr': 'Pit'}, {'bye_weeks': {'week': '7'}}, {'uniform_number': '30'}, {'display_position': 'RB'}, {'headshot': {'url': 'https://s.yimg.com/iu/api/res/1.2/kU4xvm9_hYOsUPvzi9Ww_A--~C/YXBwaWQ9eXNwb3J0cztjaD0yMzM2O2NyPTE7Y3c9MTc5MDtkeD04NTc7ZHk9MDtmaT11bGNyb3A7aD02MDtxPTEwMDt3PTQ2/https://s.yimg.com/xe/i/us/sp/v/nfl_cutout/players_l/08222019/30218.png', 'size': 'small'}, 'image_url': 'https://s.yimg.com/iu/api/res/1.2/kU4xvm9_hYOsUPvzi9Ww_A--~C/YXBwaWQ9eXNwb3J0cztjaD0yMzM2O2NyPTE7Y3c9MTc5MDtkeD04NTc7ZHk9MDtmaT11bGNyb3A7aD02MDtxPTEwMDt3PTQ2/https://s.yimg.com/xe/i/us/sp/v/nfl_cutout/players_l/08222019/30218.png'}, {'is_undroppable': '1'}, {'position_type': 'O'}, {'primary_position': 'RB'}, {'eligible_positions': [{'position': 'RB'}, {'position': 'W/R/T'}]}, [], [], []], {'selected_position': [{'coverage_type': 'week', 'week': '1'}, {'position': 'RB'}, {'is_flex': 0}]}]}\n",
      "-----------------------------------------\n",
      "---------------nextrow-------------------\n",
      "-----------------------------------------\n",
      "{'player': [[{'player_key': '390.p.30136'}, {'player_id': '30136'}, {'name': {'full': 'Evan Engram', 'first': 'Evan', 'last': 'Engram', 'ascii_first': 'Evan', 'ascii_last': 'Engram'}}, {'editorial_player_key': 'nfl.p.30136'}, {'editorial_team_key': 'nfl.t.19'}, {'editorial_team_full_name': 'New York Giants'}, {'editorial_team_abbr': 'NYG'}, {'bye_weeks': {'week': '11'}}, {'uniform_number': '88'}, {'display_position': 'TE'}, {'headshot': {'url': 'https://s.yimg.com/iu/api/res/1.2/P6sRS0ktCBhOyQDLLuislA--~C/YXBwaWQ9eXNwb3J0cztjaD0yMzM2O2NyPTE7Y3c9MTc5MDtkeD04NTc7ZHk9MDtmaT11bGNyb3A7aD02MDtxPTEwMDt3PTQ2/https://s.yimg.com/xe/i/us/sp/v/nfl_cutout/players_l/08222019/30136.png', 'size': 'small'}, 'image_url': 'https://s.yimg.com/iu/api/res/1.2/P6sRS0ktCBhOyQDLLuislA--~C/YXBwaWQ9eXNwb3J0cztjaD0yMzM2O2NyPTE7Y3c9MTc5MDtkeD04NTc7ZHk9MDtmaT11bGNyb3A7aD02MDtxPTEwMDt3PTQ2/https://s.yimg.com/xe/i/us/sp/v/nfl_cutout/players_l/08222019/30136.png'}, {'is_undroppable': '0'}, {'position_type': 'O'}, {'primary_position': 'TE'}, {'eligible_positions': [{'position': 'TE'}, {'position': 'W/R/T'}]}, {'has_player_notes': 1}, [], {'player_notes_last_timestamp': 1566520620}], {'selected_position': [{'coverage_type': 'week', 'week': '1'}, {'position': 'TE'}, {'is_flex': 0}]}]}\n",
      "-----------------------------------------\n",
      "---------------nextrow-------------------\n",
      "-----------------------------------------\n",
      "{'player': [[{'player_key': '390.p.30161'}, {'player_id': '30161'}, {'name': {'full': 'Joe Mixon', 'first': 'Joe', 'last': 'Mixon', 'ascii_first': 'Joe', 'ascii_last': 'Mixon'}}, {'editorial_player_key': 'nfl.p.30161'}, {'editorial_team_key': 'nfl.t.4'}, {'editorial_team_full_name': 'Cincinnati Bengals'}, {'editorial_team_abbr': 'Cin'}, {'bye_weeks': {'week': '9'}}, {'uniform_number': '28'}, {'display_position': 'RB'}, {'headshot': {'url': 'https://s.yimg.com/iu/api/res/1.2/YMnZNHO67cDqxud0OteFQA--~C/YXBwaWQ9eXNwb3J0cztjaD0yMzM2O2NyPTE7Y3c9MTc5MDtkeD04NTc7ZHk9MDtmaT11bGNyb3A7aD02MDtxPTEwMDt3PTQ2/https://s.yimg.com/xe/i/us/sp/v/nfl_cutout/players_l/08202019/30161.1.png', 'size': 'small'}, 'image_url': 'https://s.yimg.com/iu/api/res/1.2/YMnZNHO67cDqxud0OteFQA--~C/YXBwaWQ9eXNwb3J0cztjaD0yMzM2O2NyPTE7Y3c9MTc5MDtkeD04NTc7ZHk9MDtmaT11bGNyb3A7aD02MDtxPTEwMDt3PTQ2/https://s.yimg.com/xe/i/us/sp/v/nfl_cutout/players_l/08202019/30161.1.png'}, {'is_undroppable': '1'}, {'position_type': 'O'}, {'primary_position': 'RB'}, {'eligible_positions': [{'position': 'RB'}, {'position': 'W/R/T'}]}, [], [], []], {'selected_position': [{'coverage_type': 'week', 'week': '1'}, {'position': 'W/R/T'}, {'is_flex': 1}]}]}\n",
      "-----------------------------------------\n",
      "---------------nextrow-------------------\n",
      "-----------------------------------------\n",
      "{'player': [[{'player_key': '390.p.29279'}, {'player_id': '29279'}, {'name': {'full': 'Derrick Henry', 'first': 'Derrick', 'last': 'Henry', 'ascii_first': 'Derrick', 'ascii_last': 'Henry'}}, {'status': 'Q', 'status_full': 'Questionable'}, {'editorial_player_key': 'nfl.p.29279'}, {'editorial_team_key': 'nfl.t.10'}, {'editorial_team_full_name': 'Tennessee Titans'}, {'editorial_team_abbr': 'Ten'}, {'bye_weeks': {'week': '11'}}, {'uniform_number': '22'}, {'display_position': 'RB'}, {'headshot': {'url': 'https://s.yimg.com/iu/api/res/1.2/R429FlhNa_Hub0Djx_5UlA--~C/YXBwaWQ9eXNwb3J0cztjaD0yMzM2O2NyPTE7Y3c9MTc5MDtkeD04NTc7ZHk9MDtmaT11bGNyb3A7aD02MDtxPTEwMDt3PTQ2/https://s.yimg.com/xe/i/us/sp/v/nfl_cutout/players_l/08232019/29279.png', 'size': 'small'}, 'image_url': 'https://s.yimg.com/iu/api/res/1.2/R429FlhNa_Hub0Djx_5UlA--~C/YXBwaWQ9eXNwb3J0cztjaD0yMzM2O2NyPTE7Y3c9MTc5MDtkeD04NTc7ZHk9MDtmaT11bGNyb3A7aD02MDtxPTEwMDt3PTQ2/https://s.yimg.com/xe/i/us/sp/v/nfl_cutout/players_l/08232019/29279.png'}, {'is_undroppable': '0'}, {'position_type': 'O'}, {'primary_position': 'RB'}, {'eligible_positions': [{'position': 'RB'}, {'position': 'W/R/T'}]}, {'has_player_notes': 1}, [], {'player_notes_last_timestamp': 1566242340}], {'selected_position': [{'coverage_type': 'week', 'week': '1'}, {'position': 'BN'}, {'is_flex': 0}]}]}\n",
      "-----------------------------------------\n",
      "---------------nextrow-------------------\n",
      "-----------------------------------------\n",
      "{'player': [[{'player_key': '390.p.28392'}, {'player_id': '28392'}, {'name': {'full': 'Amari Cooper', 'first': 'Amari', 'last': 'Cooper', 'ascii_first': 'Amari', 'ascii_last': 'Cooper'}}, {'status': 'Q', 'status_full': 'Questionable'}, {'editorial_player_key': 'nfl.p.28392'}, {'editorial_team_key': 'nfl.t.6'}, {'editorial_team_full_name': 'Dallas Cowboys'}, {'editorial_team_abbr': 'Dal'}, {'bye_weeks': {'week': '8'}}, {'uniform_number': '19'}, {'display_position': 'WR'}, {'headshot': {'url': 'https://s.yimg.com/iu/api/res/1.2/bcK1zP1j0MhLLc1U1RCx.Q--~C/YXBwaWQ9eXNwb3J0cztjaD0yMzM2O2NyPTE7Y3c9MTc5MDtkeD04NTc7ZHk9MDtmaT11bGNyb3A7aD02MDtxPTEwMDt3PTQ2/https://s.yimg.com/xe/i/us/sp/v/nfl_cutout/players_l/08092019/28392.png', 'size': 'small'}, 'image_url': 'https://s.yimg.com/iu/api/res/1.2/bcK1zP1j0MhLLc1U1RCx.Q--~C/YXBwaWQ9eXNwb3J0cztjaD0yMzM2O2NyPTE7Y3c9MTc5MDtkeD04NTc7ZHk9MDtmaT11bGNyb3A7aD02MDtxPTEwMDt3PTQ2/https://s.yimg.com/xe/i/us/sp/v/nfl_cutout/players_l/08092019/28392.png'}, {'is_undroppable': '0'}, {'position_type': 'O'}, {'primary_position': 'WR'}, {'eligible_positions': [{'position': 'WR'}, {'position': 'W/R/T'}]}, {'has_player_notes': 1}, [], {'player_notes_last_timestamp': 1566592440}], {'selected_position': [{'coverage_type': 'week', 'week': '1'}, {'position': 'BN'}, {'is_flex': 0}]}]}\n",
      "-----------------------------------------\n",
      "---------------nextrow-------------------\n",
      "-----------------------------------------\n",
      "{'player': [[{'player_key': '390.p.28534'}, {'player_id': '28534'}, {'name': {'full': 'Stefon Diggs', 'first': 'Stefon', 'last': 'Diggs', 'ascii_first': 'Stefon', 'ascii_last': 'Diggs'}}, {'editorial_player_key': 'nfl.p.28534'}, {'editorial_team_key': 'nfl.t.16'}, {'editorial_team_full_name': 'Minnesota Vikings'}, {'editorial_team_abbr': 'Min'}, {'bye_weeks': {'week': '12'}}, {'uniform_number': '14'}, {'display_position': 'WR'}, {'headshot': {'url': 'https://s.yimg.com/iu/api/res/1.2/BLYaL7.EV1JrsvfmYUdCcA--~C/YXBwaWQ9eXNwb3J0cztjaD0yMzM2O2NyPTE7Y3c9MTc5MDtkeD04NTc7ZHk9MDtmaT11bGNyb3A7aD02MDtxPTEwMDt3PTQ2/https://s.yimg.com/xe/i/us/sp/v/nfl_cutout/players_l/08212019/28534.png', 'size': 'small'}, 'image_url': 'https://s.yimg.com/iu/api/res/1.2/BLYaL7.EV1JrsvfmYUdCcA--~C/YXBwaWQ9eXNwb3J0cztjaD0yMzM2O2NyPTE7Y3c9MTc5MDtkeD04NTc7ZHk9MDtmaT11bGNyb3A7aD02MDtxPTEwMDt3PTQ2/https://s.yimg.com/xe/i/us/sp/v/nfl_cutout/players_l/08212019/28534.png'}, {'is_undroppable': '0'}, {'position_type': 'O'}, {'primary_position': 'WR'}, {'eligible_positions': [{'position': 'WR'}, {'position': 'W/R/T'}]}, {'has_player_notes': 1}, {'has_recent_player_notes': 1}, {'player_notes_last_timestamp': 1566674940}], {'selected_position': [{'coverage_type': 'week', 'week': '1'}, {'position': 'BN'}, {'is_flex': 0}]}]}\n",
      "-----------------------------------------\n",
      "---------------nextrow-------------------\n",
      "-----------------------------------------\n",
      "{'player': [[{'player_key': '390.p.29269'}, {'player_id': '29269'}, {'name': {'full': 'Hunter Henry', 'first': 'Hunter', 'last': 'Henry', 'ascii_first': 'Hunter', 'ascii_last': 'Henry'}}, {'editorial_player_key': 'nfl.p.29269'}, {'editorial_team_key': 'nfl.t.24'}, {'editorial_team_full_name': 'Los Angeles Chargers'}, {'editorial_team_abbr': 'LAC'}, {'bye_weeks': {'week': '12'}}, {'uniform_number': '86'}, {'display_position': 'TE'}, {'headshot': {'url': 'https://s.yimg.com/iu/api/res/1.2/SEpjBJ74x7a7aley8wkUAA--~C/YXBwaWQ9eXNwb3J0cztjaD0yMzM2O2NyPTE7Y3c9MTc5MDtkeD04NTc7ZHk9MDtmaT11bGNyb3A7aD02MDtxPTEwMDt3PTQ2/https://s.yimg.com/xe/i/us/sp/v/nfl_cutout/players_l/08152019/29269.png', 'size': 'small'}, 'image_url': 'https://s.yimg.com/iu/api/res/1.2/SEpjBJ74x7a7aley8wkUAA--~C/YXBwaWQ9eXNwb3J0cztjaD0yMzM2O2NyPTE7Y3c9MTc5MDtkeD04NTc7ZHk9MDtmaT11bGNyb3A7aD02MDtxPTEwMDt3PTQ2/https://s.yimg.com/xe/i/us/sp/v/nfl_cutout/players_l/08152019/29269.png'}, {'is_undroppable': '0'}, {'position_type': 'O'}, {'primary_position': 'TE'}, {'eligible_positions': [{'position': 'TE'}, {'position': 'W/R/T'}]}, {'has_player_notes': 1}, {'has_recent_player_notes': 1}, {'player_notes_last_timestamp': 1566711600}], {'selected_position': [{'coverage_type': 'week', 'week': '1'}, {'position': 'BN'}, {'is_flex': 0}]}]}\n",
      "-----------------------------------------\n",
      "---------------nextrow-------------------\n",
      "-----------------------------------------\n",
      "{'player': [[{'player_key': '390.p.24788'}, {'player_id': '24788'}, {'name': {'full': 'Cam Newton', 'first': 'Cam', 'last': 'Newton', 'ascii_first': 'Cam', 'ascii_last': 'Newton'}}, {'status': 'Q', 'status_full': 'Questionable'}, {'editorial_player_key': 'nfl.p.24788'}, {'editorial_team_key': 'nfl.t.29'}, {'editorial_team_full_name': 'Carolina Panthers'}, {'editorial_team_abbr': 'Car'}, {'bye_weeks': {'week': '7'}}, {'uniform_number': '1'}, {'display_position': 'QB'}, {'headshot': {'url': 'https://s.yimg.com/iu/api/res/1.2/djV86maCEpuoCYnokHCftg--~C/YXBwaWQ9eXNwb3J0cztjaD0yMzM2O2NyPTE7Y3c9MTc5MDtkeD04NTc7ZHk9MDtmaT11bGNyb3A7aD02MDtxPTEwMDt3PTQ2/https://s.yimg.com/xe/i/us/sp/v/nfl_cutout/players_l/08162019/24788.png', 'size': 'small'}, 'image_url': 'https://s.yimg.com/iu/api/res/1.2/djV86maCEpuoCYnokHCftg--~C/YXBwaWQ9eXNwb3J0cztjaD0yMzM2O2NyPTE7Y3c9MTc5MDtkeD04NTc7ZHk9MDtmaT11bGNyb3A7aD02MDtxPTEwMDt3PTQ2/https://s.yimg.com/xe/i/us/sp/v/nfl_cutout/players_l/08162019/24788.png'}, {'is_undroppable': '0'}, {'position_type': 'O'}, {'primary_position': 'QB'}, {'eligible_positions': [{'position': 'QB'}]}, {'has_player_notes': 1}, {'has_recent_player_notes': 1}, {'player_notes_last_timestamp': 1566745740}], {'selected_position': [{'coverage_type': 'week', 'week': '1'}, {'position': 'BN'}, {'is_flex': 0}]}]}\n",
      "-----------------------------------------\n",
      "---------------nextrow-------------------\n",
      "-----------------------------------------\n",
      "{'player': [[{'player_key': '390.p.30346'}, {'player_id': '30346'}, {'name': {'full': 'Harrison Butker', 'first': 'Harrison', 'last': 'Butker', 'ascii_first': 'Harrison', 'ascii_last': 'Butker'}}, {'editorial_player_key': 'nfl.p.30346'}, {'editorial_team_key': 'nfl.t.12'}, {'editorial_team_full_name': 'Kansas City Chiefs'}, {'editorial_team_abbr': 'KC'}, {'bye_weeks': {'week': '12'}}, {'uniform_number': '7'}, {'display_position': 'K'}, {'headshot': {'url': 'https://s.yimg.com/iu/api/res/1.2/5r1Zm1KD2WVpGs4bHs5B7w--~C/YXBwaWQ9eXNwb3J0cztjaD0yMzM2O2NyPTE7Y3c9MTc5MDtkeD04NTc7ZHk9MDtmaT11bGNyb3A7aD02MDtxPTEwMDt3PTQ2/https://s.yimg.com/xe/i/us/sp/v/nfl_cutout/players_l/08152019/30346.png', 'size': 'small'}, 'image_url': 'https://s.yimg.com/iu/api/res/1.2/5r1Zm1KD2WVpGs4bHs5B7w--~C/YXBwaWQ9eXNwb3J0cztjaD0yMzM2O2NyPTE7Y3c9MTc5MDtkeD04NTc7ZHk9MDtmaT11bGNyb3A7aD02MDtxPTEwMDt3PTQ2/https://s.yimg.com/xe/i/us/sp/v/nfl_cutout/players_l/08152019/30346.png'}, {'is_undroppable': '0'}, {'position_type': 'K'}, {'primary_position': 'K'}, {'eligible_positions': [{'position': 'K'}]}, [], [], []], {'selected_position': [{'coverage_type': 'week', 'week': '1'}, {'position': 'K'}, {'is_flex': 0}]}]}\n",
      "-----------------------------------------\n",
      "---------------nextrow-------------------\n",
      "-----------------------------------------\n",
      "{'player': [[{'player_key': '390.p.100030'}, {'player_id': '100030'}, {'name': {'full': 'Jacksonville', 'first': 'Jacksonville', 'last': '', 'ascii_first': 'Jacksonville', 'ascii_last': ''}}, {'editorial_player_key': 'nfl.p.100030'}, {'editorial_team_key': 'nfl.t.30'}, {'editorial_team_full_name': 'Jacksonville Jaguars'}, {'editorial_team_abbr': 'Jax'}, {'bye_weeks': {'week': '10'}}, {'uniform_number': False}, {'display_position': 'DEF'}, {'headshot': {'url': 'https://s.yimg.com/xe/ipt/50x50w.3.gif', 'size': 'small'}, 'image_url': 'https://s.yimg.com/xe/ipt/50x50w.3.gif'}, {'is_undroppable': '0'}, {'position_type': 'DT'}, {'primary_position': 'DEF'}, {'eligible_positions': [{'position': 'DEF'}]}, [], [], []], {'selected_position': [{'coverage_type': 'week', 'week': '1'}, {'position': 'DEF'}, {'is_flex': 0}]}]}\n",
      "-----------------------------------------\n",
      "---------------nextrow-------------------\n",
      "-----------------------------------------\n",
      "{'player': [[{'player_key': '390.p.100024'}, {'player_id': '100024'}, {'name': {'full': 'Los Angeles', 'first': 'Los Angeles', 'last': '', 'ascii_first': 'Los Angeles', 'ascii_last': ''}}, {'editorial_player_key': 'nfl.p.100024'}, {'editorial_team_key': 'nfl.t.24'}, {'editorial_team_full_name': 'Los Angeles Chargers'}, {'editorial_team_abbr': 'LAC'}, {'bye_weeks': {'week': '12'}}, {'uniform_number': False}, {'display_position': 'DEF'}, {'headshot': {'url': 'https://s.yimg.com/lq/i/us/sp/v/nfl/teams/1/50x50w/sdg3.jpg', 'size': 'small'}, 'image_url': 'https://s.yimg.com/lq/i/us/sp/v/nfl/teams/1/50x50w/sdg3.jpg'}, {'is_undroppable': '0'}, {'position_type': 'DT'}, {'primary_position': 'DEF'}, {'eligible_positions': [{'position': 'DEF'}]}, [], [], []], {'selected_position': [{'coverage_type': 'week', 'week': '1'}, {'position': 'BN'}, {'is_flex': 0}]}]}\n",
      "-----------------------------------------\n",
      "---------------nextrow-------------------\n",
      "-----------------------------------------\n"
     ]
    }
   ],
   "source": [
    "rostert = get_json_t(rosterurl)\n",
    "jfilter = rostert.execute('$..(player)')\n",
    "\n",
    "for row in jfilter:\n",
    "    print(row)\n",
    "    print(\"-----------------------------------------\")\n",
    "    print(\"---------------nextrow-------------------\")\n",
    "    print(\"-----------------------------------------\")\n",
    "\n",
    "\n",
    "\n"
   ]
  },
  {
   "cell_type": "code",
   "execution_count": null,
   "metadata": {},
   "outputs": [],
   "source": []
  }
 ],
 "metadata": {
  "kernelspec": {
   "display_name": "Python [conda env:yahooff]",
   "language": "python",
   "name": "conda-env-yahooff-py"
  },
  "language_info": {
   "codemirror_mode": {
    "name": "ipython",
    "version": 3
   },
   "file_extension": ".py",
   "mimetype": "text/x-python",
   "name": "python",
   "nbconvert_exporter": "python",
   "pygments_lexer": "ipython3",
   "version": "3.6.8"
  }
 },
 "nbformat": 4,
 "nbformat_minor": 2
}
