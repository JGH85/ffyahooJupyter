{
 "cells": [
  {
   "cell_type": "code",
   "execution_count": null,
   "metadata": {},
   "outputs": [],
   "source": [
    "from yahoo_oauth import OAuth2\n",
    "import os\n",
    "import json\n",
    "import league, game, team\n",
    "import yhandler\n",
    "import json\n",
    "import objectpath\n",
    "import pandas as pd\n",
    "from pandas.io.json import json_normalize"
   ]
  },
  {
   "cell_type": "code",
   "execution_count": 2,
   "metadata": {},
   "outputs": [
    {
     "name": "stderr",
     "output_type": "stream",
     "text": [
      "[2019-08-26 21:18:52,981 DEBUG] [yahoo_oauth.yahoo_oauth.__init__] Checking \n",
      "[2019-08-26 21:18:52,989 DEBUG] [yahoo_oauth.yahoo_oauth.token_is_valid] ELAPSED TIME : 79656.36727929115\n",
      "[2019-08-26 21:18:52,989 DEBUG] [yahoo_oauth.yahoo_oauth.token_is_valid] TOKEN HAS EXPIRED\n",
      "[2019-08-26 21:18:52,990 DEBUG] [yahoo_oauth.yahoo_oauth.refresh_access_token] REFRESHING TOKEN\n"
     ]
    }
   ],
   "source": [
    "# get our session context (\"sc\")\n",
    "oauth = OAuth2(None, None, from_file='oauth2.json')"
   ]
  },
  {
   "cell_type": "code",
   "execution_count": 3,
   "metadata": {},
   "outputs": [],
   "source": [
    "# prepare functions\n",
    "def get_json_dump(url):\n",
    "    YAHOO_ENDPOINT = 'https://fantasysports.yahooapis.com/fantasy/v2'\n",
    "    response = oauth.session.get(\"{}/{}\".format(YAHOO_ENDPOINT, url),params={'format': 'json'})\n",
    "    jresp = response.json()\n",
    "    return json.dumps(jresp)\n",
    "def get_json(url):\n",
    "    YAHOO_ENDPOINT = 'https://fantasysports.yahooapis.com/fantasy/v2'\n",
    "    response = oauth.session.get(\"{}/{}\".format(YAHOO_ENDPOINT, url),params={'format': 'json'})\n",
    "    jresp = response.json()\n",
    "    return jresp\n",
    "def get_json_t(url):\n",
    "    YAHOO_ENDPOINT = 'https://fantasysports.yahooapis.com/fantasy/v2'\n",
    "    response = oauth.session.get(\"{}/{}\".format(YAHOO_ENDPOINT, url),params={'format': 'json'})\n",
    "    jresp = response.json()\n",
    "    t = objectpath.Tree(jresp)\n",
    "    return t"
   ]
  },
  {
   "cell_type": "code",
   "execution_count": 4,
   "metadata": {},
   "outputs": [
    {
     "name": "stdout",
     "output_type": "stream",
     "text": [
      "['371.l.252880', '380.l.770342', '390.l.974698']\n",
      "390.l.974698\n"
     ]
    }
   ],
   "source": [
    "gm = game.Game(oauth, 'nfl')\n",
    "\n",
    "#use package to get league_id\n",
    "league_ids = gm.league_ids()\n",
    "print(league_ids)\n",
    "test_league_id = league_ids[2]\n",
    "print(test_league_id)\n",
    "\n",
    "# joesleagueid = '390.l.974698'\n",
    "\n",
    "\n"
   ]
  },
  {
   "cell_type": "code",
   "execution_count": 5,
   "metadata": {},
   "outputs": [
    {
     "data": {
      "text/plain": [
       "{'fantasy_content': {'xml:lang': 'en-US',\n",
       "  'yahoo:uri': '/fantasy/v2/league/390.l.974698/players;player_keys=390.p.5479',\n",
       "  'league': [{'league_key': '390.l.974698',\n",
       "    'league_id': '974698',\n",
       "    'name': 'MyTestLeague',\n",
       "    'url': 'https://football.fantasysports.yahoo.com/f1/974698',\n",
       "    'logo_url': False,\n",
       "    'draft_status': 'postdraft',\n",
       "    'num_teams': 4,\n",
       "    'edit_key': '1',\n",
       "    'weekly_deadline': '',\n",
       "    'league_update_timestamp': None,\n",
       "    'scoring_type': 'head',\n",
       "    'league_type': 'private',\n",
       "    'renew': '',\n",
       "    'renewed': '',\n",
       "    'iris_group_chat_id': '',\n",
       "    'allow_add_to_dl_extra_pos': 1,\n",
       "    'is_pro_league': '0',\n",
       "    'is_cash_league': '0',\n",
       "    'current_week': '1',\n",
       "    'start_week': '1',\n",
       "    'start_date': '2019-09-05',\n",
       "    'end_week': '16',\n",
       "    'end_date': '2019-12-23',\n",
       "    'game_code': 'nfl',\n",
       "    'season': '2019'},\n",
       "   {'players': {'0': {'player': [[{'player_key': '390.p.5479'},\n",
       "        {'player_id': '5479'},\n",
       "        {'name': {'full': 'Drew Brees',\n",
       "          'first': 'Drew',\n",
       "          'last': 'Brees',\n",
       "          'ascii_first': 'Drew',\n",
       "          'ascii_last': 'Brees'}},\n",
       "        {'editorial_player_key': 'nfl.p.5479'},\n",
       "        {'editorial_team_key': 'nfl.t.18'},\n",
       "        {'editorial_team_full_name': 'New Orleans Saints'},\n",
       "        {'editorial_team_abbr': 'NO'},\n",
       "        {'bye_weeks': {'week': '9'}},\n",
       "        {'uniform_number': '9'},\n",
       "        {'display_position': 'QB'},\n",
       "        {'headshot': {'url': 'https://s.yimg.com/iu/api/res/1.2/zTiXK2wkM2L6XqTUc3r79g--~C/YXBwaWQ9eXNwb3J0cztjaD0yMzM2O2NyPTE7Y3c9MTc5MDtkeD04NTc7ZHk9MDtmaT11bGNyb3A7aD02MDtxPTEwMDt3PTQ2/https://s.yimg.com/xe/i/us/sp/v/nfl_cutout/players_l/08212019/5479.png',\n",
       "          'size': 'small'},\n",
       "         'image_url': 'https://s.yimg.com/iu/api/res/1.2/zTiXK2wkM2L6XqTUc3r79g--~C/YXBwaWQ9eXNwb3J0cztjaD0yMzM2O2NyPTE7Y3c9MTc5MDtkeD04NTc7ZHk9MDtmaT11bGNyb3A7aD02MDtxPTEwMDt3PTQ2/https://s.yimg.com/xe/i/us/sp/v/nfl_cutout/players_l/08212019/5479.png'},\n",
       "        {'is_undroppable': '0'},\n",
       "        {'position_type': 'O'},\n",
       "        {'primary_position': 'QB'},\n",
       "        {'eligible_positions': [{'position': 'QB'}]},\n",
       "        {'has_player_notes': 1},\n",
       "        [],\n",
       "        {'player_notes_last_timestamp': 1566694380}]]},\n",
       "     'count': 1}}],\n",
       "  'time': '24.676084518433ms',\n",
       "  'copyright': 'Data provided by Yahoo! and STATS, LLC',\n",
       "  'refresh_rate': '60'}}"
      ]
     },
     "execution_count": 5,
     "metadata": {},
     "output_type": "execute_result"
    }
   ],
   "source": [
    "###Player RESOURCE\n",
    "# https://fantasysports.yahooapis.com/fantasy/v2/player/ \n",
    "\n",
    "#get a player by player key\n",
    "playersurl = \"league/390.l.974698/players;player_keys=390.p.5479\"\n",
    "player = get_json(playersurl)\n",
    "player"
   ]
  },
  {
   "cell_type": "code",
   "execution_count": 6,
   "metadata": {},
   "outputs": [
    {
     "data": {
      "text/plain": [
       "{'fantasy_content': {'xml:lang': 'en-US',\n",
       "  'yahoo:uri': '/fantasy/v2/league/390.l.974698/players;player_keys=390.p.5479/stats',\n",
       "  'league': [{'league_key': '390.l.974698',\n",
       "    'league_id': '974698',\n",
       "    'name': 'MyTestLeague',\n",
       "    'url': 'https://football.fantasysports.yahoo.com/f1/974698',\n",
       "    'logo_url': False,\n",
       "    'draft_status': 'postdraft',\n",
       "    'num_teams': 4,\n",
       "    'edit_key': '1',\n",
       "    'weekly_deadline': '',\n",
       "    'league_update_timestamp': None,\n",
       "    'scoring_type': 'head',\n",
       "    'league_type': 'private',\n",
       "    'renew': '',\n",
       "    'renewed': '',\n",
       "    'iris_group_chat_id': '',\n",
       "    'allow_add_to_dl_extra_pos': 1,\n",
       "    'is_pro_league': '0',\n",
       "    'is_cash_league': '0',\n",
       "    'current_week': '1',\n",
       "    'start_week': '1',\n",
       "    'start_date': '2019-09-05',\n",
       "    'end_week': '16',\n",
       "    'end_date': '2019-12-23',\n",
       "    'game_code': 'nfl',\n",
       "    'season': '2019'},\n",
       "   {'players': {'0': {'player': [[{'player_key': '390.p.5479'},\n",
       "        {'player_id': '5479'},\n",
       "        {'name': {'full': 'Drew Brees',\n",
       "          'first': 'Drew',\n",
       "          'last': 'Brees',\n",
       "          'ascii_first': 'Drew',\n",
       "          'ascii_last': 'Brees'}},\n",
       "        {'editorial_player_key': 'nfl.p.5479'},\n",
       "        {'editorial_team_key': 'nfl.t.18'},\n",
       "        {'editorial_team_full_name': 'New Orleans Saints'},\n",
       "        {'editorial_team_abbr': 'NO'},\n",
       "        {'bye_weeks': {'week': '9'}},\n",
       "        {'uniform_number': '9'},\n",
       "        {'display_position': 'QB'},\n",
       "        {'headshot': {'url': 'https://s.yimg.com/iu/api/res/1.2/zTiXK2wkM2L6XqTUc3r79g--~C/YXBwaWQ9eXNwb3J0cztjaD0yMzM2O2NyPTE7Y3c9MTc5MDtkeD04NTc7ZHk9MDtmaT11bGNyb3A7aD02MDtxPTEwMDt3PTQ2/https://s.yimg.com/xe/i/us/sp/v/nfl_cutout/players_l/08212019/5479.png',\n",
       "          'size': 'small'},\n",
       "         'image_url': 'https://s.yimg.com/iu/api/res/1.2/zTiXK2wkM2L6XqTUc3r79g--~C/YXBwaWQ9eXNwb3J0cztjaD0yMzM2O2NyPTE7Y3c9MTc5MDtkeD04NTc7ZHk9MDtmaT11bGNyb3A7aD02MDtxPTEwMDt3PTQ2/https://s.yimg.com/xe/i/us/sp/v/nfl_cutout/players_l/08212019/5479.png'},\n",
       "        {'is_undroppable': '0'},\n",
       "        {'position_type': 'O'},\n",
       "        {'primary_position': 'QB'},\n",
       "        {'eligible_positions': [{'position': 'QB'}]},\n",
       "        {'has_player_notes': 1},\n",
       "        [],\n",
       "        {'player_notes_last_timestamp': 1566694380}],\n",
       "       {'player_stats': {'0': {'coverage_type': 'season', 'season': '2019'},\n",
       "         'stats': [{'stat': {'stat_id': '4', 'value': 0}},\n",
       "          {'stat': {'stat_id': '5', 'value': 0}},\n",
       "          {'stat': {'stat_id': '6', 'value': 0}},\n",
       "          {'stat': {'stat_id': '8', 'value': 0}},\n",
       "          {'stat': {'stat_id': '9', 'value': 0}},\n",
       "          {'stat': {'stat_id': '10', 'value': 0}},\n",
       "          {'stat': {'stat_id': '78', 'value': 0}},\n",
       "          {'stat': {'stat_id': '11', 'value': 0}},\n",
       "          {'stat': {'stat_id': '12', 'value': 0}},\n",
       "          {'stat': {'stat_id': '13', 'value': 0}},\n",
       "          {'stat': {'stat_id': '15', 'value': 0}},\n",
       "          {'stat': {'stat_id': '16', 'value': 0}},\n",
       "          {'stat': {'stat_id': '18', 'value': 0}},\n",
       "          {'stat': {'stat_id': '57', 'value': 0}}]},\n",
       "        'player_points': {'0': {'coverage_type': 'season', 'season': '2019'},\n",
       "         'total': '0.00'}}]},\n",
       "     'count': 1}}],\n",
       "  'time': '31.578063964844ms',\n",
       "  'copyright': 'Data provided by Yahoo! and STATS, LLC',\n",
       "  'refresh_rate': '60'}}"
      ]
     },
     "execution_count": 6,
     "metadata": {},
     "output_type": "execute_result"
    }
   ],
   "source": [
    "#get a player's stats'\n",
    "statsurl = \"league/390.l.974698/players;player_keys=390.p.5479/stats\"\n",
    "stats = get_json(statsurl)\n",
    "stats"
   ]
  },
  {
   "cell_type": "code",
   "execution_count": 7,
   "metadata": {},
   "outputs": [
    {
     "data": {
      "text/plain": [
       "TreeObject()"
      ]
     },
     "execution_count": 7,
     "metadata": {},
     "output_type": "execute_result"
    }
   ],
   "source": [
    "# players COLLECTION\n",
    "qburl = \"league/390.l.974698/players;position=QB\"\n",
    "qbs = get_json_t(qburl)\n",
    "qbs"
   ]
  },
  {
   "cell_type": "code",
   "execution_count": 8,
   "metadata": {},
   "outputs": [
    {
     "data": {
      "text/plain": [
       "{'player': [[{'player_key': '390.p.5228'},\n",
       "   {'player_id': '5228'},\n",
       "   {'name': {'full': 'Tom Brady',\n",
       "     'first': 'Tom',\n",
       "     'last': 'Brady',\n",
       "     'ascii_first': 'Tom',\n",
       "     'ascii_last': 'Brady'}},\n",
       "   {'editorial_player_key': 'nfl.p.5228'},\n",
       "   {'editorial_team_key': 'nfl.t.17'},\n",
       "   {'editorial_team_full_name': 'New England Patriots'},\n",
       "   {'editorial_team_abbr': 'NE'},\n",
       "   {'bye_weeks': {'week': '10'}},\n",
       "   {'uniform_number': '12'},\n",
       "   {'display_position': 'QB'},\n",
       "   {'headshot': {'url': 'https://s.yimg.com/iu/api/res/1.2/_U9UJlrYMsJ22DpA..S3zg--~C/YXBwaWQ9eXNwb3J0cztjaD0yMzM2O2NyPTE7Y3c9MTc5MDtkeD04NTc7ZHk9MDtmaT11bGNyb3A7aD02MDtxPTEwMDt3PTQ2/https://s.yimg.com/xe/i/us/sp/v/nfl_cutout/players_l/08212019/5228.png',\n",
       "     'size': 'small'},\n",
       "    'image_url': 'https://s.yimg.com/iu/api/res/1.2/_U9UJlrYMsJ22DpA..S3zg--~C/YXBwaWQ9eXNwb3J0cztjaD0yMzM2O2NyPTE7Y3c9MTc5MDtkeD04NTc7ZHk9MDtmaT11bGNyb3A7aD02MDtxPTEwMDt3PTQ2/https://s.yimg.com/xe/i/us/sp/v/nfl_cutout/players_l/08212019/5228.png'},\n",
       "   {'is_undroppable': '0'},\n",
       "   {'position_type': 'O'},\n",
       "   {'primary_position': 'QB'},\n",
       "   {'eligible_positions': [{'position': 'QB'}]},\n",
       "   {'has_player_notes': 1},\n",
       "   [],\n",
       "   {'player_notes_last_timestamp': 1566520320}]]}"
      ]
     },
     "execution_count": 8,
     "metadata": {},
     "output_type": "execute_result"
    }
   ],
   "source": [
    "qbt = get_json_t(qburl)\n",
    "jfilter = qbt.execute('$..(player)')\n",
    "qbs = []\n",
    "for row in jfilter:\n",
    "#     print(row)\n",
    "#     print(\"-----------------------------------------\")\n",
    "#     print(\"---------------nextrow-------------------\")\n",
    "#     print(\"-----------------------------------------\")\n",
    "    qbs.append(row)\n",
    "qbs[0]\n"
   ]
  },
  {
   "cell_type": "code",
   "execution_count": 9,
   "metadata": {},
   "outputs": [
    {
     "data": {
      "text/plain": [
       "[{'player_key': '390.p.5228'},\n",
       " {'player_id': '5228'},\n",
       " {'name': {'full': 'Tom Brady',\n",
       "   'first': 'Tom',\n",
       "   'last': 'Brady',\n",
       "   'ascii_first': 'Tom',\n",
       "   'ascii_last': 'Brady'}},\n",
       " {'editorial_player_key': 'nfl.p.5228'},\n",
       " {'editorial_team_key': 'nfl.t.17'},\n",
       " {'editorial_team_full_name': 'New England Patriots'},\n",
       " {'editorial_team_abbr': 'NE'},\n",
       " {'bye_weeks': {'week': '10'}},\n",
       " {'uniform_number': '12'},\n",
       " {'display_position': 'QB'},\n",
       " {'headshot': {'url': 'https://s.yimg.com/iu/api/res/1.2/_U9UJlrYMsJ22DpA..S3zg--~C/YXBwaWQ9eXNwb3J0cztjaD0yMzM2O2NyPTE7Y3c9MTc5MDtkeD04NTc7ZHk9MDtmaT11bGNyb3A7aD02MDtxPTEwMDt3PTQ2/https://s.yimg.com/xe/i/us/sp/v/nfl_cutout/players_l/08212019/5228.png',\n",
       "   'size': 'small'},\n",
       "  'image_url': 'https://s.yimg.com/iu/api/res/1.2/_U9UJlrYMsJ22DpA..S3zg--~C/YXBwaWQ9eXNwb3J0cztjaD0yMzM2O2NyPTE7Y3c9MTc5MDtkeD04NTc7ZHk9MDtmaT11bGNyb3A7aD02MDtxPTEwMDt3PTQ2/https://s.yimg.com/xe/i/us/sp/v/nfl_cutout/players_l/08212019/5228.png'},\n",
       " {'is_undroppable': '0'},\n",
       " {'position_type': 'O'},\n",
       " {'primary_position': 'QB'},\n",
       " {'eligible_positions': [{'position': 'QB'}]},\n",
       " {'has_player_notes': 1},\n",
       " [],\n",
       " {'player_notes_last_timestamp': 1566520320}]"
      ]
     },
     "execution_count": 9,
     "metadata": {},
     "output_type": "execute_result"
    }
   ],
   "source": [
    "qbs[0]['player'][0]"
   ]
  },
  {
   "cell_type": "code",
   "execution_count": 11,
   "metadata": {},
   "outputs": [
    {
     "data": {
      "text/plain": [
       "{'player_key': '390.p.5228',\n",
       " 'player_id': '5228',\n",
       " 'name': {'full': 'Tom Brady',\n",
       "  'first': 'Tom',\n",
       "  'last': 'Brady',\n",
       "  'ascii_first': 'Tom',\n",
       "  'ascii_last': 'Brady'},\n",
       " 'editorial_player_key': 'nfl.p.5228',\n",
       " 'editorial_team_key': 'nfl.t.17',\n",
       " 'editorial_team_full_name': 'New England Patriots',\n",
       " 'editorial_team_abbr': 'NE',\n",
       " 'bye_weeks': {'week': '10'},\n",
       " 'uniform_number': '12',\n",
       " 'display_position': 'QB',\n",
       " 'headshot': {'url': 'https://s.yimg.com/iu/api/res/1.2/_U9UJlrYMsJ22DpA..S3zg--~C/YXBwaWQ9eXNwb3J0cztjaD0yMzM2O2NyPTE7Y3c9MTc5MDtkeD04NTc7ZHk9MDtmaT11bGNyb3A7aD02MDtxPTEwMDt3PTQ2/https://s.yimg.com/xe/i/us/sp/v/nfl_cutout/players_l/08212019/5228.png',\n",
       "  'size': 'small'},\n",
       " 'image_url': 'https://s.yimg.com/iu/api/res/1.2/_U9UJlrYMsJ22DpA..S3zg--~C/YXBwaWQ9eXNwb3J0cztjaD0yMzM2O2NyPTE7Y3c9MTc5MDtkeD04NTc7ZHk9MDtmaT11bGNyb3A7aD02MDtxPTEwMDt3PTQ2/https://s.yimg.com/xe/i/us/sp/v/nfl_cutout/players_l/08212019/5228.png',\n",
       " 'is_undroppable': '0',\n",
       " 'position_type': 'O',\n",
       " 'primary_position': 'QB',\n",
       " 'eligible_positions': [{'position': 'QB'}],\n",
       " 'has_player_notes': 1,\n",
       " 'player_notes_last_timestamp': 1566520320}"
      ]
     },
     "execution_count": 11,
     "metadata": {},
     "output_type": "execute_result"
    }
   ],
   "source": [
    "# combine into one dictionary\n",
    "firstqb = qbs[0]['player'][0]\n",
    "onelist = [item for item in firstqb if item != []]\n",
    "onelist\n",
    "onetdict = {k: v for d in onelist for k, v in d.items()}\n",
    "onetdict"
   ]
  },
  {
   "cell_type": "code",
   "execution_count": 12,
   "metadata": {},
   "outputs": [
    {
     "data": {
      "text/html": [
       "<div>\n",
       "<style scoped>\n",
       "    .dataframe tbody tr th:only-of-type {\n",
       "        vertical-align: middle;\n",
       "    }\n",
       "\n",
       "    .dataframe tbody tr th {\n",
       "        vertical-align: top;\n",
       "    }\n",
       "\n",
       "    .dataframe thead th {\n",
       "        text-align: right;\n",
       "    }\n",
       "</style>\n",
       "<table border=\"1\" class=\"dataframe\">\n",
       "  <thead>\n",
       "    <tr style=\"text-align: right;\">\n",
       "      <th></th>\n",
       "      <th>bye_weeks_week</th>\n",
       "      <th>display_position</th>\n",
       "      <th>editorial_player_key</th>\n",
       "      <th>editorial_team_abbr</th>\n",
       "      <th>editorial_team_full_name</th>\n",
       "      <th>editorial_team_key</th>\n",
       "      <th>eligible_positions</th>\n",
       "      <th>has_player_notes</th>\n",
       "      <th>headshot_size</th>\n",
       "      <th>headshot_url</th>\n",
       "      <th>...</th>\n",
       "      <th>name_ascii_last</th>\n",
       "      <th>name_first</th>\n",
       "      <th>name_full</th>\n",
       "      <th>name_last</th>\n",
       "      <th>player_id</th>\n",
       "      <th>player_key</th>\n",
       "      <th>player_notes_last_timestamp</th>\n",
       "      <th>position_type</th>\n",
       "      <th>primary_position</th>\n",
       "      <th>uniform_number</th>\n",
       "    </tr>\n",
       "  </thead>\n",
       "  <tbody>\n",
       "    <tr>\n",
       "      <th>0</th>\n",
       "      <td>10</td>\n",
       "      <td>QB</td>\n",
       "      <td>nfl.p.5228</td>\n",
       "      <td>NE</td>\n",
       "      <td>New England Patriots</td>\n",
       "      <td>nfl.t.17</td>\n",
       "      <td>[{'position': 'QB'}]</td>\n",
       "      <td>1</td>\n",
       "      <td>small</td>\n",
       "      <td>https://s.yimg.com/iu/api/res/1.2/_U9UJlrYMsJ2...</td>\n",
       "      <td>...</td>\n",
       "      <td>Brady</td>\n",
       "      <td>Tom</td>\n",
       "      <td>Tom Brady</td>\n",
       "      <td>Brady</td>\n",
       "      <td>5228</td>\n",
       "      <td>390.p.5228</td>\n",
       "      <td>1566520320</td>\n",
       "      <td>O</td>\n",
       "      <td>QB</td>\n",
       "      <td>12</td>\n",
       "    </tr>\n",
       "  </tbody>\n",
       "</table>\n",
       "<p>1 rows × 23 columns</p>\n",
       "</div>"
      ],
      "text/plain": [
       "  bye_weeks_week display_position editorial_player_key editorial_team_abbr  \\\n",
       "0             10               QB           nfl.p.5228                  NE   \n",
       "\n",
       "  editorial_team_full_name editorial_team_key    eligible_positions  \\\n",
       "0     New England Patriots           nfl.t.17  [{'position': 'QB'}]   \n",
       "\n",
       "   has_player_notes headshot_size  \\\n",
       "0                 1         small   \n",
       "\n",
       "                                        headshot_url  ... name_ascii_last  \\\n",
       "0  https://s.yimg.com/iu/api/res/1.2/_U9UJlrYMsJ2...  ...           Brady   \n",
       "\n",
       "  name_first  name_full name_last player_id  player_key  \\\n",
       "0        Tom  Tom Brady     Brady      5228  390.p.5228   \n",
       "\n",
       "  player_notes_last_timestamp position_type primary_position  uniform_number  \n",
       "0                  1566520320             O               QB              12  \n",
       "\n",
       "[1 rows x 23 columns]"
      ]
     },
     "execution_count": 12,
     "metadata": {},
     "output_type": "execute_result"
    }
   ],
   "source": [
    "raw_qb_data = json_normalize(onetdict, sep=\"_\")\n",
    "raw_qb_data"
   ]
  },
  {
   "cell_type": "code",
   "execution_count": null,
   "metadata": {},
   "outputs": [],
   "source": []
  }
 ],
 "metadata": {
  "kernelspec": {
   "display_name": "Python [conda env:yahooff]",
   "language": "python",
   "name": "conda-env-yahooff-py"
  },
  "language_info": {
   "codemirror_mode": {
    "name": "ipython",
    "version": 3
   },
   "file_extension": ".py",
   "mimetype": "text/x-python",
   "name": "python",
   "nbconvert_exporter": "python",
   "pygments_lexer": "ipython3",
   "version": "3.6.8"
  }
 },
 "nbformat": 4,
 "nbformat_minor": 2
}
