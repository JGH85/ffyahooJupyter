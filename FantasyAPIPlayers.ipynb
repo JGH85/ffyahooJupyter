{
 "cells": [
  {
   "cell_type": "code",
   "execution_count": null,
   "metadata": {},
   "outputs": [],
   "source": [
    "from yahoo_oauth import OAuth2\n",
    "import os\n",
    "import json\n",
    "import league, game, team\n",
    "import yhandler\n",
    "import json\n",
    "import objectpath\n",
    "import pandas as pd\n",
    "from pandas.io.json import json_normalize"
   ]
  },
  {
   "cell_type": "code",
   "execution_count": 2,
   "metadata": {},
   "outputs": [
    {
     "name": "stderr",
     "output_type": "stream",
     "text": [
      "[2020-09-02 14:38:42,468 DEBUG] [yahoo_oauth.yahoo_oauth.__init__] Checking \n",
      "[2020-09-02 14:38:42,472 DEBUG] [yahoo_oauth.yahoo_oauth.token_is_valid] ELAPSED TIME : 77223.14102721214\n",
      "[2020-09-02 14:38:42,474 DEBUG] [yahoo_oauth.yahoo_oauth.token_is_valid] TOKEN HAS EXPIRED\n",
      "[2020-09-02 14:38:42,475 DEBUG] [yahoo_oauth.yahoo_oauth.refresh_access_token] REFRESHING TOKEN\n"
     ]
    }
   ],
   "source": [
    "# get our session context (\"sc\")\n",
    "oauth = OAuth2(None, None, from_file='oauth2.json')"
   ]
  },
  {
   "cell_type": "code",
   "execution_count": 3,
   "metadata": {},
   "outputs": [],
   "source": [
    "# prepare functions\n",
    "def get_json_dump(url):\n",
    "    YAHOO_ENDPOINT = 'https://fantasysports.yahooapis.com/fantasy/v2'\n",
    "    response = oauth.session.get(\"{}/{}\".format(YAHOO_ENDPOINT, url),params={'format': 'json'})\n",
    "    jresp = response.json()\n",
    "    return json.dumps(jresp)\n",
    "def get_json(url):\n",
    "    YAHOO_ENDPOINT = 'https://fantasysports.yahooapis.com/fantasy/v2'\n",
    "    response = oauth.session.get(\"{}/{}\".format(YAHOO_ENDPOINT, url),params={'format': 'json'})\n",
    "    jresp = response.json()\n",
    "    return jresp\n",
    "def get_json_t(url):\n",
    "    YAHOO_ENDPOINT = 'https://fantasysports.yahooapis.com/fantasy/v2'\n",
    "    response = oauth.session.get(\"{}/{}\".format(YAHOO_ENDPOINT, url),params={'format': 'json'})\n",
    "    jresp = response.json()\n",
    "    t = objectpath.Tree(jresp)\n",
    "    return t"
   ]
  },
  {
   "cell_type": "code",
   "execution_count": 4,
   "metadata": {},
   "outputs": [
    {
     "name": "stdout",
     "output_type": "stream",
     "text": [
      "['390.l.707700', '390.l.974698', '399.l.242160']\n",
      "399.l.242160\n"
     ]
    }
   ],
   "source": [
    "gm = game.Game(oauth, 'nfl')\n",
    "\n",
    "#use package to get league_id\n",
    "league_ids = gm.league_ids()\n",
    "print(league_ids)\n",
    "test_league_id = league_ids[2]\n",
    "print(test_league_id)\n",
    "\n",
    "# joesleagueid = '390.l.974698'\n",
    "# steve's league: 390.l.707700"
   ]
  },
  {
   "cell_type": "code",
   "execution_count": 7,
   "metadata": {},
   "outputs": [
    {
     "data": {
      "text/plain": [
       "['399.l.242160']"
      ]
     },
     "execution_count": 7,
     "metadata": {},
     "output_type": "execute_result"
    }
   ],
   "source": [
    "# only get leagues from this year\n",
    "gm.league_ids(2020) "
   ]
  },
  {
   "cell_type": "code",
   "execution_count": 12,
   "metadata": {},
   "outputs": [
    {
     "data": {
      "text/plain": [
       "<league.League at 0x29e4c8eba58>"
      ]
     },
     "execution_count": 12,
     "metadata": {},
     "output_type": "execute_result"
    }
   ],
   "source": [
    "# create league from game\n",
    "league2020 = gm.to_league('390.l.707700')\n",
    "league2020"
   ]
  },
  {
   "cell_type": "code",
   "execution_count": 13,
   "metadata": {},
   "outputs": [
    {
     "data": {
      "text/plain": [
       "[{'name': 'Resident Stevil', 'team_key': '390.l.707700.t.1'},\n",
       " {'name': 'War Machine', 'team_key': '390.l.707700.t.10'},\n",
       " {'name': 'Enemies of Carlotta', 'team_key': '390.l.707700.t.9'},\n",
       " {'name': 'Hawkeyes', 'team_key': '390.l.707700.t.4'},\n",
       " {'name': 'KnightHawks', 'team_key': '390.l.707700.t.6'},\n",
       " {'name': 'Wedgie Woty', 'team_key': '390.l.707700.t.12'},\n",
       " {'name': 'Dude in Omaha', 'team_key': '390.l.707700.t.2'},\n",
       " {'name': 'Menty', 'team_key': '390.l.707700.t.7'},\n",
       " {'name': 'Healthy Scratch', 'team_key': '390.l.707700.t.5'},\n",
       " {'name': 'Hair Force Blue', 'team_key': '390.l.707700.t.3'},\n",
       " {'name': 'Werkmonsters', 'team_key': '390.l.707700.t.11'},\n",
       " {'name': 'Monarchs', 'team_key': '390.l.707700.t.8'}]"
      ]
     },
     "execution_count": 13,
     "metadata": {},
     "output_type": "execute_result"
    }
   ],
   "source": [
    "league2020.teams()"
   ]
  },
  {
   "cell_type": "code",
   "execution_count": 14,
   "metadata": {},
   "outputs": [
    {
     "data": {
      "text/plain": [
       "'390.l.707700.t.5'"
      ]
     },
     "execution_count": 14,
     "metadata": {},
     "output_type": "execute_result"
    }
   ],
   "source": [
    "league2020.team_key()\n",
    "# healthy scratch: '390.l.707700.t.5'"
   ]
  },
  {
   "cell_type": "code",
   "execution_count": null,
   "metadata": {},
   "outputs": [],
   "source": [
    "# def get_players_by_status(self, league_id, status):\n",
    "#         \"\"\"Return the raw JSON when requesting standings for a league.\n",
    "\n",
    "#         :param league_id: League ID to get the standings for\n",
    "#         :type league_id: str\n",
    "#         :return: JSON document of the request.\n",
    "#         \"\"\"\n",
    "#         return self.get(\"league/{}/players\".format(league_id))\n"
   ]
  },
  {
   "cell_type": "code",
   "execution_count": null,
   "metadata": {},
   "outputs": [],
   "source": []
  },
  {
   "cell_type": "code",
   "execution_count": null,
   "metadata": {},
   "outputs": [],
   "source": []
  },
  {
   "cell_type": "code",
   "execution_count": null,
   "metadata": {},
   "outputs": [],
   "source": []
  },
  {
   "cell_type": "code",
   "execution_count": null,
   "metadata": {},
   "outputs": [],
   "source": []
  },
  {
   "cell_type": "code",
   "execution_count": null,
   "metadata": {},
   "outputs": [],
   "source": [
    "###Player RESOURCE\n",
    "# https://fantasysports.yahooapis.com/fantasy/v2/player/ \n",
    "\n",
    "#get a player by player key\n",
    "playersurl = \"league/390.l.974698/players;player_keys=390.p.5479\"\n",
    "player = get_json(playersurl)\n",
    "player"
   ]
  },
  {
   "cell_type": "code",
   "execution_count": null,
   "metadata": {},
   "outputs": [],
   "source": [
    "#get a player's stats'\n",
    "statsurl = \"league/390.l.974698/players;player_keys=390.p.5479/stats\"\n",
    "stats = get_json(statsurl)\n",
    "stats"
   ]
  },
  {
   "cell_type": "code",
   "execution_count": null,
   "metadata": {},
   "outputs": [],
   "source": [
    "# players COLLECTION\n",
    "qburl = \"league/390.l.974698/players;position=QB\"\n",
    "qbs = get_json_t(qburl)\n",
    "qbs"
   ]
  },
  {
   "cell_type": "code",
   "execution_count": null,
   "metadata": {},
   "outputs": [],
   "source": [
    "qbt = get_json_t(qburl)\n",
    "jfilter = qbt.execute('$..(player)')\n",
    "qbs = []\n",
    "for row in jfilter:\n",
    "#     print(row)\n",
    "#     print(\"-----------------------------------------\")\n",
    "#     print(\"---------------nextrow-------------------\")\n",
    "#     print(\"-----------------------------------------\")\n",
    "    qbs.append(row)\n",
    "qbs[0]\n"
   ]
  },
  {
   "cell_type": "code",
   "execution_count": null,
   "metadata": {},
   "outputs": [],
   "source": [
    "qbs[0]['player'][0]"
   ]
  },
  {
   "cell_type": "code",
   "execution_count": null,
   "metadata": {},
   "outputs": [],
   "source": [
    "# combine into one dictionary\n",
    "firstqb = qbs[0]['player'][0]\n",
    "onelist = [item for item in firstqb if item != []]\n",
    "onelist\n",
    "onetdict = {k: v for d in onelist for k, v in d.items()}\n",
    "onetdict"
   ]
  },
  {
   "cell_type": "code",
   "execution_count": null,
   "metadata": {},
   "outputs": [],
   "source": [
    "raw_qb_data = json_normalize(onetdict, sep=\"_\")\n",
    "raw_qb_data"
   ]
  },
  {
   "cell_type": "code",
   "execution_count": null,
   "metadata": {},
   "outputs": [],
   "source": [
    "all_qb_list = []\n",
    "allqbs = qbs\n",
    "allqbs"
   ]
  },
  {
   "cell_type": "code",
   "execution_count": null,
   "metadata": {},
   "outputs": [],
   "source": [
    "# for k, v in allqbs.items():\n",
    "#     if k != \"count\": #ignore count item which json adds as autosummary at the end\n",
    "#         qb = allqbs[k]['player'][0] #go down to individual player level in json\n",
    "#         qblist = [item for item in qb if item != []]     #remove all empty lists\n",
    "#         qbdict = { k : v[0] if type(v)==list else v  for d in qblist for k, v in d.items()} #convert all dictionaries into 1 dictionary using comprehension, if they contain a list only use first item from list\n",
    "#         print(qbdict)\n",
    "#         all_qb_list.append(qbdict)\n",
    "\n",
    "for item in allqbs:\n",
    "#     print(item)\n",
    "    qb = item['player'][0]\n",
    "    qblist = [item for item in qb if item != []]     #remove all empty lists\n",
    "    qbdict = { k : v[0] if type(v)==list else v  for d in qblist for k, v in d.items()} #convert all dictionaries into 1 dictionary using comprehension, if they contain a list only use first item from list\n",
    "#     print(qbdict)\n",
    "    all_qb_list.append(qbdict)\n",
    "print(all_qb_list)\n",
    "#     if k != \"count\": #ignore count item which json adds as autosummary at the end\n",
    "#         qb = allqbs[k]['player'][0] #go down to individual player level in json\n",
    "#         qblist = [item for item in qb if item != []]     #remove all empty lists\n",
    "#         qbdict = { k : v[0] if type(v)==list else v  for d in qblist for k, v in d.items()} #convert all dictionaries into 1 dictionary using comprehension, if they contain a list only use first item from list\n",
    "#         print(qbdict)\n",
    "#         all_qb_list.append(qbdict)"
   ]
  },
  {
   "cell_type": "code",
   "execution_count": null,
   "metadata": {},
   "outputs": [],
   "source": [
    "qbsdf = json_normalize(all_qb_list, sep=\"_\") #this only gets the sub rows?\n",
    "qbsdf"
   ]
  },
  {
   "cell_type": "code",
   "execution_count": null,
   "metadata": {},
   "outputs": [],
   "source": [
    "# create universal function for turning API data from a player into a dataframe\n",
    "positionurl = \"league/390.l.974698/players;position=TE\"\n",
    "position_t = get_json_t(positionurl)\n",
    "positionfilter = position_t.execute('$..(player)')\n",
    "\n",
    "\n",
    "position_player_list = []\n",
    "for row in positionfilter:\n",
    "    position_player_list.append(row)\n",
    "position_player_list"
   ]
  },
  {
   "cell_type": "code",
   "execution_count": null,
   "metadata": {},
   "outputs": [],
   "source": [
    "# all_players = []\n",
    "# for item in position_player_list:\n",
    "#     print(\"item\")\n",
    "#     print(item)\n",
    "#     player = item['player'][0]\n",
    "#     print(\"player\")\n",
    "#     print(player)\n",
    "#     temp_list = [item for item in player if item != []]     #remove all empty lists\n",
    "# #     print(\"temp list\")\n",
    "# #     print(temp_list)\n",
    "#     position_player_dict = { k : v[0] if type(v)==list else v  for d in temp_list for k, v in d.items()} #convert all dictionaries into 1 dictionary using comprehension, if they contain a list only use first item from list\n",
    "#     print(\"ppd\")\n",
    "#     print(position_player_dict)\n",
    "#     all_players.append(position_player_dict)"
   ]
  },
  {
   "cell_type": "code",
   "execution_count": null,
   "metadata": {},
   "outputs": [],
   "source": [
    "    \n",
    "# player_position_df = json_normalize(position_player_list, sep=\"_\") #this only gets the sub rows?\n",
    "# player_position_df"
   ]
  },
  {
   "cell_type": "raw",
   "metadata": {},
   "source": []
  },
  {
   "cell_type": "code",
   "execution_count": null,
   "metadata": {},
   "outputs": [],
   "source": [
    "# # players COLLECTION\n",
    "# qburl2 = \"league/390.l.974698/players;position=TE\"\n",
    "\n",
    "# qbt2 = get_json_t(qburl2)\n",
    "# jfilter2 = qbt2.execute('$..(player)')\n",
    "# qbs2 = []\n",
    "# for row in jfilter2:\n",
    "#     qbs2.append(row)\n",
    "# # qbs2[0]\n",
    "# # qbs2[0]['player'][0]\n",
    "# all_qb_list2 = []\n",
    "# allqbs2 = qbs2\n",
    "# allqbs2\n",
    "# for item in allqbs2:\n",
    "# #     print(item)\n",
    "#     qb = item['player'][0]\n",
    "#     qblist = [item for item in qb if item != []]     #remove all empty lists\n",
    "#     qbdict = { k : v[0] if type(v)==list else v  for d in qblist for k, v in d.items()} \n",
    "# #     print(qbdict)\n",
    "#     all_qb_list2.append(qbdict)\n",
    "# # print(all_qb_list)\n",
    "# qbsdf2 = json_normalize(all_qb_list2, sep=\"_\") #this only gets the sub rows?\n",
    "# qbsdf2"
   ]
  },
  {
   "cell_type": "code",
   "execution_count": null,
   "metadata": {},
   "outputs": [],
   "source": [
    "def get_position_df(position_abbreviation):\n",
    "    # players COLLECTION\n",
    "    url = \"league/390.l.974698/players;position=\" + position_abbreviation + \";count=100\"\n",
    "    print(url)\n",
    "    tree = get_json_t(url)\n",
    "    jfiltert = tree.execute('$..(player)')\n",
    "    results = []\n",
    "    for row in jfiltert:\n",
    "        results.append(row)\n",
    "        # qbs2[0]['player'][0]\n",
    "    results_list = []\n",
    "    all_player_position_list = []\n",
    "    for item in results:\n",
    "        position_player = item['player'][0]\n",
    "        position_player_list = [item for item in position_player if item != []]     #remove all empty lists\n",
    "        qbdict = { k : v[0] if type(v)==list else v  for d in position_player_list for k, v in d.items()} \n",
    "        all_player_position_list.append(qbdict)\n",
    "    position_df = json_normalize(all_player_position_list, sep=\"_\")\n",
    "    return position_df"
   ]
  },
  {
   "cell_type": "code",
   "execution_count": null,
   "metadata": {},
   "outputs": [],
   "source": [
    "te_df = get_position_df(\"TE\")\n",
    "te_df"
   ]
  },
  {
   "cell_type": "code",
   "execution_count": null,
   "metadata": {},
   "outputs": [],
   "source": [
    "wr_df = get_position_df(\"WR\")\n",
    "wr_df"
   ]
  },
  {
   "cell_type": "code",
   "execution_count": null,
   "metadata": {},
   "outputs": [],
   "source": [
    "# need to figure out why only retrieving 25 rows each time\n",
    "rb_df = get_position_df(\"RB\")\n",
    "rb_df"
   ]
  },
  {
   "cell_type": "code",
   "execution_count": null,
   "metadata": {},
   "outputs": [],
   "source": []
  }
 ],
 "metadata": {
  "kernelspec": {
   "display_name": "Python 3",
   "language": "python",
   "name": "python3"
  },
  "language_info": {
   "codemirror_mode": {
    "name": "ipython",
    "version": 3
   },
   "file_extension": ".py",
   "mimetype": "text/x-python",
   "name": "python",
   "nbconvert_exporter": "python",
   "pygments_lexer": "ipython3",
   "version": "3.7.3"
  }
 },
 "nbformat": 4,
 "nbformat_minor": 2
}
