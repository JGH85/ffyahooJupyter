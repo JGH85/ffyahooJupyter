{
 "cells": [
  {
   "cell_type": "code",
   "execution_count": 24,
   "metadata": {},
   "outputs": [],
   "source": [
    "from yahoo_oauth import OAuth2\n",
    "import os\n",
    "import json\n",
    "import league, game, team\n",
    "import yhandler\n",
    "import json\n",
    "import objectpath\n",
    "import pandas as pd\n",
    "from pandas.io.json import json_normalize"
   ]
  },
  {
   "cell_type": "code",
   "execution_count": 3,
   "metadata": {},
   "outputs": [
    {
     "name": "stderr",
     "output_type": "stream",
     "text": [
      "[2019-08-13 20:46:12,452 DEBUG] [yahoo_oauth.yahoo_oauth.__init__] Checking \n",
      "[2019-08-13 20:46:12,462 DEBUG] [yahoo_oauth.yahoo_oauth.token_is_valid] ELAPSED TIME : 4469.555430650711\n",
      "[2019-08-13 20:46:12,464 DEBUG] [yahoo_oauth.yahoo_oauth.token_is_valid] TOKEN HAS EXPIRED\n",
      "[2019-08-13 20:46:12,465 DEBUG] [yahoo_oauth.yahoo_oauth.refresh_access_token] REFRESHING TOKEN\n"
     ]
    }
   ],
   "source": [
    "# get our session context (\"sc\")\n",
    "oauth = OAuth2(None, None, from_file='oauth2.json')"
   ]
  },
  {
   "cell_type": "code",
   "execution_count": 4,
   "metadata": {},
   "outputs": [
    {
     "name": "stdout",
     "output_type": "stream",
     "text": [
      "<game.Game object at 0x00000189E462A358>\n"
     ]
    }
   ],
   "source": [
    "# use package to get game\n",
    "gm = game.Game(oauth, 'nfl')\n",
    "print(gm)"
   ]
  },
  {
   "cell_type": "code",
   "execution_count": 6,
   "metadata": {},
   "outputs": [],
   "source": [
    "#use package to get league_id\n",
    "league_ids = gm.league_ids()\n",
    "league_id = league_ids[0]\n",
    "league_id"
   ]
  },
  {
   "cell_type": "code",
   "execution_count": 10,
   "metadata": {},
   "outputs": [],
   "source": [
    "#get league\n",
    "lg = gm.to_league(league_id)\n",
    "print(f\"scoring categories: {lg.stat_categories()}\")\n",
    "print(f\"standings:{lg.standings()}\")\n",
    "print(f\"teams:{lg.teams()}\")\n",
    "print(f\"current user team:{lg.team_key()}\")\n",
    "print(f\"current week:{lg.current_week()}\")"
   ]
  },
  {
   "cell_type": "code",
   "execution_count": 13,
   "metadata": {},
   "outputs": [
    {
     "data": {
      "text/plain": [
       "[{'name': 'Resident Stevil', 'team_key': '390.l.707700.t.1'},\n",
       " {'name': 'Dude in Omaha', 'team_key': '390.l.707700.t.2'},\n",
       " {'name': 'Hair Force Blue', 'team_key': '390.l.707700.t.3'},\n",
       " {'name': 'Hawkeyes', 'team_key': '390.l.707700.t.4'},\n",
       " {'name': 'Healthy Scratch', 'team_key': '390.l.707700.t.5'},\n",
       " {'name': 'KnightHawks', 'team_key': '390.l.707700.t.6'},\n",
       " {'name': 'Menty', 'team_key': '390.l.707700.t.7'},\n",
       " {'name': 'Monarchs', 'team_key': '390.l.707700.t.8'},\n",
       " {'name': 'Redskins', 'team_key': '390.l.707700.t.9'},\n",
       " {'name': 'War Machine', 'team_key': '390.l.707700.t.10'},\n",
       " {'name': 'Werkmonsters', 'team_key': '390.l.707700.t.11'},\n",
       " {'name': 'Wedgie Woty', 'team_key': '390.l.707700.t.12'}]"
      ]
     },
     "execution_count": 13,
     "metadata": {},
     "output_type": "execute_result"
    }
   ],
   "source": [
    "# get league teams:\n",
    "teams = lg.teams()\n",
    "teams"
   ]
  },
  {
   "cell_type": "code",
   "execution_count": 14,
   "metadata": {},
   "outputs": [
    {
     "name": "stdout",
     "output_type": "stream",
     "text": [
      "390.l.707700.t.1\n",
      "390.l.707700.t.2\n",
      "390.l.707700.t.3\n",
      "390.l.707700.t.4\n",
      "390.l.707700.t.5\n",
      "390.l.707700.t.6\n",
      "390.l.707700.t.7\n",
      "390.l.707700.t.8\n",
      "390.l.707700.t.9\n",
      "390.l.707700.t.10\n",
      "390.l.707700.t.11\n",
      "390.l.707700.t.12\n"
     ]
    }
   ],
   "source": [
    "for d in teams:\n",
    "    print(d[\"team_key\"])"
   ]
  },
  {
   "cell_type": "code",
   "execution_count": 15,
   "metadata": {},
   "outputs": [],
   "source": [
    "# testing manual pulling of data\n",
    "YAHOO_ENDPOINT = 'https://fantasysports.yahooapis.com/fantasy/v2'\n",
    "uri = 'game/nfl//'"
   ]
  },
  {
   "cell_type": "code",
   "execution_count": null,
   "metadata": {},
   "outputs": [],
   "source": [
    "response = oauth.session.get(\"{}/{}\".format(YAHOO_ENDPOINT, uri),params={'format': 'json'})"
   ]
  },
  {
   "cell_type": "code",
   "execution_count": null,
   "metadata": {},
   "outputs": [],
   "source": [
    "jresp = response.json()\n",
    "jresp"
   ]
  },
  {
   "cell_type": "code",
   "execution_count": null,
   "metadata": {},
   "outputs": [],
   "source": [
    "url = \"users;use_login=1/games/teams\"\n",
    "response = oauth.session.get(\"{}/{}\".format(YAHOO_ENDPOINT, url),params={'format': 'json'})"
   ]
  },
  {
   "cell_type": "code",
   "execution_count": 16,
   "metadata": {},
   "outputs": [],
   "source": [
    "# prepare functions\n",
    "def get_json_dump(url):\n",
    "    YAHOO_ENDPOINT = 'https://fantasysports.yahooapis.com/fantasy/v2'\n",
    "    response = oauth.session.get(\"{}/{}\".format(YAHOO_ENDPOINT, url),params={'format': 'json'})\n",
    "    jresp = response.json()\n",
    "    return json.dumps(jresp)\n",
    "def get_json(url):\n",
    "    YAHOO_ENDPOINT = 'https://fantasysports.yahooapis.com/fantasy/v2'\n",
    "    response = oauth.session.get(\"{}/{}\".format(YAHOO_ENDPOINT, url),params={'format': 'json'})\n",
    "    jresp = response.json()\n",
    "    return jresp\n",
    "def get_json_t(url):\n",
    "    YAHOO_ENDPOINT = 'https://fantasysports.yahooapis.com/fantasy/v2'\n",
    "    response = oauth.session.get(\"{}/{}\".format(YAHOO_ENDPOINT, url),params={'format': 'json'})\n",
    "    jresp = response.json()\n",
    "    t = objectpath.Tree(jresp)\n",
    "    return t"
   ]
  },
  {
   "cell_type": "code",
   "execution_count": null,
   "metadata": {},
   "outputs": [],
   "source": [
    "myteamsurl = \"users;use_login=1/games/teams\"\n",
    "myteamsjson = get_json(myteamsurl)\n",
    "# myteams = myteamsjson.jsonify()\n",
    "myteamsjson"
   ]
  },
  {
   "cell_type": "code",
   "execution_count": null,
   "metadata": {},
   "outputs": [],
   "source": [
    "myteamsjson[\"fantasy_content\"][\"users\"][\"0\"][\"user\"][1][\"games\"][\"0\"][\"game\"][1][\"teams\"][\"0\"][\"team\"][0][2][\"name\"]"
   ]
  },
  {
   "cell_type": "code",
   "execution_count": null,
   "metadata": {},
   "outputs": [],
   "source": [
    "myteamt = get_json_t(myteamsurl)\n",
    "jfilter = myteamt.execute('$..(team_key,season,code, name)')\n",
    "print(jfilter)"
   ]
  },
  {
   "cell_type": "code",
   "execution_count": null,
   "metadata": {},
   "outputs": [],
   "source": [
    "for row in jfilter:\n",
    "    print(row)"
   ]
  },
  {
   "cell_type": "code",
   "execution_count": null,
   "metadata": {},
   "outputs": [],
   "source": [
    "league_id = '390.l.707700'\n",
    "# get my teams: \"users;use_login=1/games/teams\"\n",
    "# get standings: f\"league/{league_id}/standings\"\n",
    "# get settings: f\"league/{league_id}/settings\"\n",
    "# get matchups: f\"league/{league_id}/settings\"\n",
    "# get roster: f\"team/{team_key}/roster;week={week}\"\n",
    "# get scoreboard: f\"league/{league_id}/scoreboard;week={week}\"\n",
    "# get all teams: \"users/games/teams\""
   ]
  },
  {
   "cell_type": "code",
   "execution_count": 90,
   "metadata": {},
   "outputs": [
    {
     "data": {
      "text/plain": [
       "[{'team_key': '390.l.707700.t.1'},\n",
       " {'team_id': '1'},\n",
       " {'name': 'Resident Stevil'},\n",
       " [],\n",
       " {'url': 'https://football.fantasysports.yahoo.com/f1/707700/1'},\n",
       " {'team_logos': [{'team_logo': {'size': 'large',\n",
       "     'url': 'https://ct.yimg.com/cy/1520/25313688185_4b0ea69cda_192sq.jpg?ct=fantasy'}}]},\n",
       " {'division_id': '1'},\n",
       " {'waiver_priority': ''},\n",
       " {'faab_balance': '100'},\n",
       " {'number_of_moves': 0},\n",
       " {'number_of_trades': 0},\n",
       " {'roster_adds': {'coverage_type': 'week',\n",
       "   'coverage_value': '1',\n",
       "   'value': '0'}},\n",
       " [],\n",
       " {'league_scoring_type': 'head'},\n",
       " [],\n",
       " [],\n",
       " {'has_draft_grade': 0},\n",
       " {'auction_budget_total': '200'},\n",
       " [],\n",
       " {'managers': [{'manager': {'manager_id': '1',\n",
       "     'nickname': 'Steve W',\n",
       "     'guid': 'PORZKU7UN5TJHAWJIOGS5FX6FM',\n",
       "     'is_commissioner': '1',\n",
       "     'email': 'skwichmer@gmail.com',\n",
       "     'image_url': 'https://s.yimg.com/ag/images/4542/27255030819_6f4805_64sq.jpg'}}]}]"
      ]
     },
     "execution_count": 90,
     "metadata": {},
     "output_type": "execute_result"
    }
   ],
   "source": [
    "allteamsurl = f\"/league/{league_id}/teams\"\n",
    "allt = get_json(allteamsurl)\n",
    "allt = allt[\"fantasy_content\"][\"league\"][1][\"teams\"][\"0\"][\"team\"][0]\n",
    "allt"
   ]
  },
  {
   "cell_type": "code",
   "execution_count": 88,
   "metadata": {},
   "outputs": [],
   "source": []
  },
  {
   "cell_type": "code",
   "execution_count": 91,
   "metadata": {},
   "outputs": [],
   "source": [
    "allt = [item for item in allt if item != []]\n",
    "allt"
   ]
  },
  {
   "cell_type": "code",
   "execution_count": 95,
   "metadata": {},
   "outputs": [],
   "source": [
    "alldict = {k: v for d in allt for k, v in d.items()}\n",
    "alldict"
   ]
  },
  {
   "cell_type": "code",
   "execution_count": 101,
   "metadata": {},
   "outputs": [
    {
     "name": "stdout",
     "output_type": "stream",
     "text": [
      "<class 'tuple'>\n",
      "<class 'tuple'>\n",
      "<class 'tuple'>\n",
      "<class 'tuple'>\n",
      "<class 'tuple'>\n",
      "<class 'tuple'>\n",
      "<class 'tuple'>\n",
      "<class 'tuple'>\n",
      "<class 'tuple'>\n",
      "<class 'tuple'>\n",
      "<class 'tuple'>\n",
      "<class 'tuple'>\n",
      "<class 'tuple'>\n",
      "<class 'tuple'>\n",
      "<class 'tuple'>\n"
     ]
    },
    {
     "data": {
      "text/plain": [
       "{'team_key': '390.l.707700.t.1',\n",
       " 'team_id': '1',\n",
       " 'name': 'Resident Stevil',\n",
       " 'url': 'https://football.fantasysports.yahoo.com/f1/707700/1',\n",
       " 'team_logos': [{'team_logo': {'size': 'large',\n",
       "    'url': 'https://ct.yimg.com/cy/1520/25313688185_4b0ea69cda_192sq.jpg?ct=fantasy'}}],\n",
       " 'division_id': '1',\n",
       " 'waiver_priority': '',\n",
       " 'faab_balance': '100',\n",
       " 'number_of_moves': 0,\n",
       " 'number_of_trades': 0,\n",
       " 'roster_adds': {'coverage_type': 'week', 'coverage_value': '1', 'value': '0'},\n",
       " 'league_scoring_type': 'head',\n",
       " 'has_draft_grade': 0,\n",
       " 'auction_budget_total': '200',\n",
       " 'managers': [{'manager': {'manager_id': '1',\n",
       "    'nickname': 'Steve W',\n",
       "    'guid': 'PORZKU7UN5TJHAWJIOGS5FX6FM',\n",
       "    'is_commissioner': '1',\n",
       "    'email': 'skwichmer@gmail.com',\n",
       "    'image_url': 'https://s.yimg.com/ag/images/4542/27255030819_6f4805_64sq.jpg'}}]}"
      ]
     },
     "execution_count": 101,
     "metadata": {},
     "output_type": "execute_result"
    }
   ],
   "source": [
    "# can't iterate directly over dictionary\n",
    "for d in alldict.items():\n",
    "    print(type(d))\n",
    "    if isinstance(d, list):\n",
    "        print(\"found a list\")\n",
    "        d = d[0]\n",
    "alldict"
   ]
  },
  {
   "cell_type": "code",
   "execution_count": 97,
   "metadata": {},
   "outputs": [
    {
     "data": {
      "text/html": [
       "<div>\n",
       "<style scoped>\n",
       "    .dataframe tbody tr th:only-of-type {\n",
       "        vertical-align: middle;\n",
       "    }\n",
       "\n",
       "    .dataframe tbody tr th {\n",
       "        vertical-align: top;\n",
       "    }\n",
       "\n",
       "    .dataframe thead th {\n",
       "        text-align: right;\n",
       "    }\n",
       "</style>\n",
       "<table border=\"1\" class=\"dataframe\">\n",
       "  <thead>\n",
       "    <tr style=\"text-align: right;\">\n",
       "      <th></th>\n",
       "      <th>auction_budget_total</th>\n",
       "      <th>division_id</th>\n",
       "      <th>faab_balance</th>\n",
       "      <th>has_draft_grade</th>\n",
       "      <th>league_scoring_type</th>\n",
       "      <th>managers</th>\n",
       "      <th>name</th>\n",
       "      <th>number_of_moves</th>\n",
       "      <th>number_of_trades</th>\n",
       "      <th>roster_adds_coverage_type</th>\n",
       "      <th>roster_adds_coverage_value</th>\n",
       "      <th>roster_adds_value</th>\n",
       "      <th>team_id</th>\n",
       "      <th>team_key</th>\n",
       "      <th>team_logos</th>\n",
       "      <th>url</th>\n",
       "      <th>waiver_priority</th>\n",
       "    </tr>\n",
       "  </thead>\n",
       "  <tbody>\n",
       "    <tr>\n",
       "      <th>0</th>\n",
       "      <td>200</td>\n",
       "      <td>1</td>\n",
       "      <td>100</td>\n",
       "      <td>0</td>\n",
       "      <td>head</td>\n",
       "      <td>[{'manager': {'manager_id': '1', 'nickname': '...</td>\n",
       "      <td>Resident Stevil</td>\n",
       "      <td>0</td>\n",
       "      <td>0</td>\n",
       "      <td>week</td>\n",
       "      <td>1</td>\n",
       "      <td>0</td>\n",
       "      <td>1</td>\n",
       "      <td>390.l.707700.t.1</td>\n",
       "      <td>[{'team_logo': {'size': 'large', 'url': 'https...</td>\n",
       "      <td>https://football.fantasysports.yahoo.com/f1/70...</td>\n",
       "      <td></td>\n",
       "    </tr>\n",
       "  </tbody>\n",
       "</table>\n",
       "</div>"
      ],
      "text/plain": [
       "  auction_budget_total division_id faab_balance  has_draft_grade  \\\n",
       "0                  200           1          100                0   \n",
       "\n",
       "  league_scoring_type                                           managers  \\\n",
       "0                head  [{'manager': {'manager_id': '1', 'nickname': '...   \n",
       "\n",
       "              name  number_of_moves  number_of_trades  \\\n",
       "0  Resident Stevil                0                 0   \n",
       "\n",
       "  roster_adds_coverage_type roster_adds_coverage_value roster_adds_value  \\\n",
       "0                      week                          1                 0   \n",
       "\n",
       "  team_id          team_key  \\\n",
       "0       1  390.l.707700.t.1   \n",
       "\n",
       "                                          team_logos  \\\n",
       "0  [{'team_logo': {'size': 'large', 'url': 'https...   \n",
       "\n",
       "                                                 url waiver_priority  \n",
       "0  https://football.fantasysports.yahoo.com/f1/70...                  "
      ]
     },
     "execution_count": 97,
     "metadata": {},
     "output_type": "execute_result"
    }
   ],
   "source": [
    "raw_team_data = json_normalize(alldict, sep=\"_\")\n",
    "raw_team_data\n",
    "# df = pd.DataFrame(alldict)\n",
    "# df"
   ]
  },
  {
   "cell_type": "code",
   "execution_count": null,
   "metadata": {},
   "outputs": [],
   "source": [
    "allteamst = get_json_t(allteamsurl)\n",
    "allteams = allt[\"fantasy_content\"][\"league\"][1][\"teams\"]\n",
    "mydictlist = []\n",
    "for key in allteams:\n",
    "    print(key)\n",
    "    print(allteams[key][\"team\"])\n",
    "    mydictlist.append(allteams[key][\"team\"])\n",
    "mydictlist"
   ]
  },
  {
   "cell_type": "code",
   "execution_count": null,
   "metadata": {},
   "outputs": [],
   "source": [
    "df = pd.DataFrame(mydictlist) \n",
    "df.head()"
   ]
  },
  {
   "cell_type": "code",
   "execution_count": null,
   "metadata": {},
   "outputs": [],
   "source": [
    "jfilter = allteamst.execute('$..(name)')\n",
    "\n",
    "filter = f\"$.fantasy_content.league.({})[0]\"\n",
    "filter2 = allteamst.execute('$..league')\n",
    "for row in filter2:\n",
    "    print(row)\n",
    "    print(\"next team_________________________________________________\")"
   ]
  },
  {
   "cell_type": "code",
   "execution_count": null,
   "metadata": {},
   "outputs": [],
   "source": []
  }
 ],
 "metadata": {
  "kernelspec": {
   "display_name": "Python [conda env:yahooff] *",
   "language": "python",
   "name": "conda-env-yahooff-py"
  },
  "language_info": {
   "codemirror_mode": {
    "name": "ipython",
    "version": 3
   },
   "file_extension": ".py",
   "mimetype": "text/x-python",
   "name": "python",
   "nbconvert_exporter": "python",
   "pygments_lexer": "ipython3",
   "version": "3.6.8"
  }
 },
 "nbformat": 4,
 "nbformat_minor": 2
}
